{
 "cells": [
  {
   "cell_type": "code",
   "execution_count": 1,
   "id": "2da09923",
   "metadata": {},
   "outputs": [],
   "source": [
    "import spacy\n",
    "import gensim\n",
    "from gensim.corpora import Dictionary\n",
    "from gensim.models import LdaModel, CoherenceModel\n",
    "from gensim.utils import simple_preprocess\n",
    "import zipfile\n",
    "import pickle\n",
    "from tensorflow import keras\n",
    "from keras.models import load_model\n",
    "import numpy as np\n",
    "import re\n",
    "from tensorflow.keras import layers\n",
    "from nltk.corpus import stopwords\n",
    "import nltk\n",
    "import tqdm\n",
    "\n",
    "# load the pre-trained English language model\n",
    "nlp = spacy.load('en_core_web_sm')\n",
    "\n",
    "# nltk.download('stopwords')\n",
    "\n",
    "pattern = re.compile('.*-(MONEY|QUANTITY|PERCENT|ORDINAL|DATE|TIME|CARDINAL)|Other|O')\n",
    "pattern_symbols = re.compile('^[\\.\\\\\\/\\[\\]\\(\\),\\-\\'\\\"\\?\\!\\“\\”\\’@:;–]+$')\n",
    "\n",
    "stop_words = set(stopwords.words(\"english\"))\n",
    "stop_words = stop_words.union({\"reuters\", \"bbc\"})"
   ]
  },
  {
   "cell_type": "code",
   "execution_count": 2,
   "id": "7df34522",
   "metadata": {},
   "outputs": [],
   "source": [
    "# import sys\n",
    "# !{sys.executable} -m pip install pyLDAvis"
   ]
  },
  {
   "cell_type": "markdown",
   "id": "c0f43f91",
   "metadata": {},
   "source": [
    "## Text and files preprocessing"
   ]
  },
  {
   "cell_type": "code",
   "execution_count": 3,
   "id": "a0c34d87",
   "metadata": {},
   "outputs": [],
   "source": [
    "def remove_prefix(label):\n",
    "    return label.split('-')[-1]"
   ]
  },
  {
   "cell_type": "code",
   "execution_count": 4,
   "id": "2c432c00",
   "metadata": {},
   "outputs": [],
   "source": [
    "def split_text(text):\n",
    "    sentences = nltk.sent_tokenize(text)\n",
    "    return [nltk.word_tokenize(sentence) for sentence in sentences]"
   ]
  },
  {
   "cell_type": "code",
   "execution_count": 5,
   "id": "964941d8",
   "metadata": {},
   "outputs": [],
   "source": [
    "def remove_stopwords(tokens):\n",
    "    filtered_tokens = [token for token in tokens if token.lower() not in stop_words and len(token)>3]\n",
    "    filtered_tokens = [token for token in filtered_tokens if not pattern_symbols.match(token.lower())]\n",
    "    return filtered_tokens"
   ]
  },
  {
   "cell_type": "code",
   "execution_count": 6,
   "id": "56ec8100",
   "metadata": {},
   "outputs": [],
   "source": [
    "def process_file(file, filename, texts):\n",
    "    content = file.read(filename)\n",
    "    if type(content) == bytes:\n",
    "        text = content.decode('utf-8')\n",
    "        texts.append(text)\n",
    "\n",
    "    if len(content.strip()) == 0:\n",
    "        print(\"No text was found\")\n",
    "        return"
   ]
  },
  {
   "cell_type": "code",
   "execution_count": 7,
   "id": "a157afa7",
   "metadata": {},
   "outputs": [],
   "source": [
    "def preprocess_text(text, word2idx, max_len):\n",
    "    # Split the text into tokens\n",
    "    sentences = split_text(text)\n",
    "\n",
    "    # Convert the tokens to integer IDs using the word2id dictionary\n",
    "    ids = []\n",
    "    endpad_idx = word2idx['ENDPAD']\n",
    "    for tokens in sentences:\n",
    "        array = []\n",
    "        for token in tokens:\n",
    "            if token in word2idx.keys():\n",
    "                array.append(word2idx[token])\n",
    "            else:\n",
    "                array.append(0)\n",
    "\n",
    "        while len(array) < max_len:\n",
    "            array.append(endpad_idx)\n",
    "        ids.append(array)\n",
    "\n",
    "    return ids, sentences"
   ]
  },
  {
   "cell_type": "code",
   "execution_count": 8,
   "id": "eeb2fa52",
   "metadata": {},
   "outputs": [],
   "source": [
    "def predict_text(text, model):\n",
    "    ents = []\n",
    "    for i in range(len(sentences := split_text(text))):\n",
    "        doc = nlp(' '.join(sentences[i]))\n",
    "        ents_pred = [ent.text for ent in doc.ents]\n",
    "        for word in sentences[i]:\n",
    "            if len(word) > 3:\n",
    "                ents.append(word.lower())\n",
    "                if word in ents_pred:\n",
    "                    # append the same word once more to increase its statistics and weight artificially\n",
    "                    ents.append(word.lower())\n",
    "#                     ents.append(word.lower())\n",
    "    ents = remove_stopwords(ents)\n",
    "    return ents\n",
    "\n",
    "def predict_text_2(text, model, tags):\n",
    "    ents = []\n",
    "    labels = []\n",
    "    for i in range(len(text)):\n",
    "        p = model.predict(np.array([text[0][i]]), verbose=0)\n",
    "        p = np.argmax(p, axis=-1)\n",
    "        for idx, pred in enumerate(p[0][0:len(text[1][i])]):\n",
    "            if len(word := text[1][i][idx]) > 3:\n",
    "                if not pattern.match(tags[pred]):\n",
    "                    ents.append(word.lower())\n",
    "                    # append the same word once more to increase its statistics and weight artificially\n",
    "#                     ents.append(word.lower())\n",
    "#                     ents.append(word.lower())\n",
    "                    labels.append(tags[pred])\n",
    "    ents = remove_stopwords(ents)\n",
    "    return ents, labels"
   ]
  },
  {
   "cell_type": "code",
   "execution_count": 9,
   "id": "09b9199d",
   "metadata": {},
   "outputs": [],
   "source": [
    "from nltk.stem import WordNetLemmatizer\n",
    "lemmatizer = WordNetLemmatizer()\n",
    "\n",
    "def lemmatize_tokens(tokens):\n",
    "    lemmatized_tokens = [lemmatizer.lemmatize(word) for word in tokens]\n",
    "    return lemmatized_tokens\n",
    "\n",
    "def get_labeled_words(model, texts, word2idx):\n",
    "    proc_labels = []\n",
    "    proc_ents = []\n",
    "    entity_clusters = {}\n",
    "    for text in texts:\n",
    "        processed = preprocess_text(text, word2idx, model.layers[0].output_shape[0][1])\n",
    "        ents, labels = predict_text_2(processed, model, tags)\n",
    "        for ent, label in zip(set(ents), labels):\n",
    "            if not pattern.match(label):\n",
    "                if (label := remove_prefix(label)) not in entity_clusters and not ent.lower() in stop_words and not pattern_symbols.match(ent.lower()):\n",
    "                    entity_clusters[label] = []\n",
    "                else:\n",
    "                    entity_clusters[label].append(ent.lower())\n",
    "        proc_ents.append(remove_stopwords(ents))\n",
    "        proc_labels.append(labels)\n",
    "    lemmatized_text = [lemmatize_tokens(doc) for doc in proc_ents]\n",
    "    return lemmatized_text, proc_labels, entity_clusters\n",
    "\n",
    "def get_labeled_words_2(texts):\n",
    "    proc_labels = []\n",
    "    proc_ents = []\n",
    "    for text in texts:\n",
    "        processed = split_text(text)\n",
    "        ents = [word for sentence in processed for word in sentence]\n",
    "\n",
    "        proc_ents.append(remove_stopwords(ents))\n",
    "    lemmatized_text = [lemmatize_tokens(doc) for doc in proc_ents]\n",
    "    return lemmatized_text"
   ]
  },
  {
   "cell_type": "markdown",
   "id": "f2f60216",
   "metadata": {},
   "source": [
    "## Transformer-related functions"
   ]
  },
  {
   "cell_type": "code",
   "execution_count": 10,
   "id": "841aa10c",
   "metadata": {},
   "outputs": [],
   "source": [
    "class MultiHeadSelfAttention(layers.Layer):\n",
    "    def __init__(self, embed_dim, num_heads):\n",
    "        super(MultiHeadSelfAttention, self).__init__()\n",
    "        self.embed_dim = embed_dim\n",
    "        self.num_heads = num_heads\n",
    "        self.head_dim = embed_dim // num_heads\n",
    "\n",
    "        self.query_dense = layers.Dense(embed_dim)\n",
    "        self.key_dense = layers.Dense(embed_dim)\n",
    "        self.value_dense = layers.Dense(embed_dim)\n",
    "        self.combine_heads = layers.Dense(embed_dim)\n",
    "\n",
    "    def call(self, inputs):\n",
    "        batch_size = tf.shape(inputs)[0]\n",
    "\n",
    "        query = self.query_dense(inputs)\n",
    "        key = self.key_dense(inputs)\n",
    "        value = self.value_dense(inputs)\n",
    "\n",
    "        query = tf.reshape(\n",
    "            tf.transpose(tf.reshape(query, (batch_size, -1, self.num_heads, self.head_dim)), perm=[0, 2, 1, 3]),\n",
    "            (batch_size * self.num_heads, -1, self.head_dim),\n",
    "        )\n",
    "        key = tf.reshape(\n",
    "            tf.transpose(tf.reshape(key, (batch_size, -1, self.num_heads, self.head_dim)), perm=[0, 2, 1, 3]),\n",
    "            (batch_size * self.num_heads, -1, self.head_dim),\n",
    "        )\n",
    "        value = tf.reshape(\n",
    "            tf.transpose(tf.reshape(value, (batch_size, -1, self.num_heads, self.head_dim)), perm=[0, 2, 1, 3]),\n",
    "            (batch_size * self.num_heads, -1, self.head_dim),\n",
    "        )\n",
    "\n",
    "        attention_logits = tf.matmul(query, key, transpose_b=True)\n",
    "        attention_logits = attention_logits / tf.math.sqrt(tf.cast(self.head_dim, tf.float32))\n",
    "        attention_weights = tf.nn.softmax(attention_logits, axis=-1)\n",
    "\n",
    "        output = tf.matmul(attention_weights, value)\n",
    "        output = tf.reshape(\n",
    "            tf.transpose(tf.reshape(output, (batch_size, self.num_heads, -1, self.head_dim)), perm=[0, 2, 1, 3]),\n",
    "            (batch_size, -1, self.embed_dim),\n",
    "        )\n",
    "        output = self.combine_heads(output)\n",
    "        return output"
   ]
  },
  {
   "cell_type": "code",
   "execution_count": 11,
   "id": "d72de9df",
   "metadata": {},
   "outputs": [],
   "source": [
    "class TransformerBlock(layers.Layer):\n",
    "    def __init__(self, embed_dim, num_heads, ff_dim, rate=0.1):\n",
    "        super().__init__()\n",
    "\n",
    "        self.att = MultiHeadSelfAttention(embed_dim, num_heads)\n",
    "        self.ffn = keras.Sequential(\n",
    "            [\n",
    "                keras.layers.Dense(ff_dim, activation=\"relu\"),\n",
    "                keras.layers.Dense(embed_dim),\n",
    "            ]\n",
    "        )\n",
    "        self.layernorm1 = keras.layers.LayerNormalization(epsilon=1e-6)\n",
    "        self.layernorm2 = keras.layers.LayerNormalization(epsilon=1e-6)\n",
    "        self.dropout1 = keras.layers.Dropout(rate)\n",
    "        self.dropout2 = keras.layers.Dropout(rate)\n",
    "\n",
    "    def call(self, inputs, training=False):\n",
    "        attn_output = self.att(inputs)\n",
    "        attn_output = self.dropout1(attn_output)\n",
    "        ffn_output = self.ffn(attn_output)\n",
    "        ffn_output = self.dropout2(ffn_output)\n",
    "        return self.layernorm2(inputs + ffn_output)"
   ]
  },
  {
   "cell_type": "code",
   "execution_count": 12,
   "id": "80136d0e",
   "metadata": {},
   "outputs": [],
   "source": [
    "class TokenAndPositionEmbedding(layers.Layer):\n",
    "    def __init__(self, maxlen, vocab_size, embed_dim):\n",
    "        super().__init__()\n",
    "        self.token_emb = keras.layers.Embedding(\n",
    "            input_dim=vocab_size, output_dim=embed_dim\n",
    "        )\n",
    "        self.pos_emb = keras.layers.Embedding(input_dim=maxlen, output_dim=embed_dim)\n",
    "\n",
    "    def call(self, inputs):\n",
    "        maxlen = tf.shape(inputs)[-1]\n",
    "        positions = tf.range(start=0, limit=maxlen, delta=1)\n",
    "        position_embeddings = self.pos_emb(positions)\n",
    "        token_embeddings = self.token_emb(inputs)\n",
    "        return token_embeddings + position_embeddings"
   ]
  },
  {
   "cell_type": "code",
   "execution_count": 13,
   "id": "3edff755",
   "metadata": {},
   "outputs": [],
   "source": [
    "class NERModel(keras.Model):\n",
    "    def __init__(\n",
    "        self, num_tags, vocab_size, maxlen=128, embed_dim=32, num_heads=2, ff_dim=32, num_layers=1, rate=0.1\n",
    "    ):\n",
    "        super().__init__()\n",
    "        self.embedding_layer = TokenAndPositionEmbedding(maxlen, vocab_size, embed_dim)\n",
    "#         self.transformer_block = TransformerBlock(embed_dim, num_heads, ff_dim)\n",
    "        self.transformer_blocks = [TransformerBlock(embed_dim, num_heads, ff_dim, rate) for _ in range(num_layers)]\n",
    "        self.dropout1 = layers.Dropout(0.1)\n",
    "        self.ff = layers.Dense(ff_dim, activation=\"relu\")\n",
    "        self.ff_final = layers.Dense(num_tags, activation=\"softmax\")\n",
    "\n",
    "    def call(self, inputs, training=False):\n",
    "        x = self.embedding_layer(inputs)\n",
    "        for transformer_block in self.transformer_blocks:\n",
    "            x = transformer_block(x)\n",
    "        x = self.dropout1(x, training=training)\n",
    "        x = self.ff(x)\n",
    "        x = self.ff_final(x)\n",
    "        return x"
   ]
  },
  {
   "cell_type": "markdown",
   "id": "0ef8a769",
   "metadata": {},
   "source": [
    "## Experiments"
   ]
  },
  {
   "cell_type": "code",
   "execution_count": 19,
   "id": "68c2ae23",
   "metadata": {},
   "outputs": [
    {
     "name": "stdout",
     "output_type": "stream",
     "text": [
      "Done\n"
     ]
    }
   ],
   "source": [
    "texts = []\n",
    "with zipfile.ZipFile(\"../data/articles_2021-11-05_1000.zip\", \"r\") as f:\n",
    "# with zipfile.ZipFile(\"../data/articles_2023-01-07_2000.zip\", \"r\") as f:\n",
    "# with zipfile.ZipFile(\"../data/articles_2023-02-04_500.zip\", \"r\") as f:\n",
    "# with zipfile.ZipFile(\"../data/articles_2023-02-09_1000.zip\", \"r\") as f:\n",
    "    total_f = len(f.namelist())\n",
    "    counter = 1\n",
    "    for filename in f.namelist():\n",
    "        counter += 1\n",
    "        process_file(f, filename, texts)\n",
    "    f.close()\n",
    "\n",
    "# my_model5\n",
    "# model_general_lstm/model.h5\n",
    "# model_general_transformer/model\n",
    "model = load_model('../models/model_general_lstm/model.h5')\n",
    "\n",
    "# with open('../models/model_general_transformer/params.pickle', 'rb') as handle:\n",
    "#     tmp = pickle.load(handle)\n",
    "#     num_tags = tmp[0]\n",
    "#     len_words = tmp[1]\n",
    "# model = NERModel(num_tags, len_words, embed_dim=128, num_heads=2, ff_dim=num_tags*4, num_layers=2, rate=0.2)\n",
    "# model.load_weights('../models/model_general_transformer/model')\n",
    "# ----------------------------#\n",
    "with open('../models/model_general_transformer/tags.pickle', 'rb') as handle:\n",
    "    tags = pickle.load(handle)\n",
    "\n",
    "with open('../models/model_general_transformer/words.pickle', 'rb') as handle:\n",
    "    word2idx = pickle.load(handle)\n",
    "\n",
    "\n",
    "proc_ents, proc_labels, entity_clusters = get_labeled_words(model, texts, word2idx)\n",
    "\n",
    "# proc_ents = get_labeled_words_2(texts)\n",
    "\n",
    "print(\"Done\")"
   ]
  },
  {
   "cell_type": "code",
   "execution_count": 20,
   "id": "593fa1c0",
   "metadata": {},
   "outputs": [
    {
     "name": "stdout",
     "output_type": "stream",
     "text": [
      "dict_keys(['org', 'gpe', 'geo', 'eve', 'per', 'nat'])\n"
     ]
    }
   ],
   "source": [
    "print(entity_clusters.keys())"
   ]
  },
  {
   "cell_type": "code",
   "execution_count": 21,
   "id": "a95354b7",
   "metadata": {},
   "outputs": [],
   "source": [
    "# Create a dictionary mapping named entities to integer ids\n",
    "dictionary = Dictionary(proc_ents)\n",
    "\n",
    "# Create a document-term matrix where each document is a text and each term is a named entity\n",
    "corpus = [dictionary.doc2bow(text) for text in proc_ents]"
   ]
  },
  {
   "cell_type": "code",
   "execution_count": 22,
   "id": "0e1f796e",
   "metadata": {},
   "outputs": [
    {
     "name": "stdout",
     "output_type": "stream",
     "text": [
      "5\n",
      "1000 1030\n"
     ]
    }
   ],
   "source": [
    "import copy\n",
    "\n",
    "corpus_extended = copy.deepcopy(corpus)\n",
    "corpus_len = len(corpus)\n",
    "print(int(corpus_len*0.005))\n",
    "\n",
    "# Add named entities to dictionary and corpus\n",
    "for entity_type, entities in entity_clusters.items():\n",
    "    if len(entities) > 5:\n",
    "        processed_ents = [entity.lower() for entity in set(entities)]\n",
    "        new_doc = [dictionary.doc2bow(simple_preprocess(entity)) for entity in processed_ents]\n",
    "        new_doc = [item for entity in new_doc for item in entity]\n",
    "        for i in range(int(corpus_len*0.005)):\n",
    "            corpus_extended.append(new_doc)\n",
    "\n",
    "print(len(corpus), len(corpus_extended))\n"
   ]
  },
  {
   "cell_type": "code",
   "execution_count": 23,
   "id": "40aace20",
   "metadata": {
    "scrolled": true
   },
   "outputs": [],
   "source": [
    "# import wandb\n",
    "# from sklearn.metrics.pairwise import cosine_similarity\n",
    "\n",
    "# # Define the hyperparameters to sweep over\n",
    "# sweep_config = {\n",
    "#     'name': 'NER_NLP_med',\n",
    "#     'method': 'grid',\n",
    "#     'metric': {\n",
    "#         'name': 'tus_score',\n",
    "#         'goal': 'maximize'\n",
    "#     },\n",
    "#     'parameters': {\n",
    "#         'num_topics': {'values': [3, 4, 6, 8, 10]},\n",
    "#         'passes': {'values': [10]},\n",
    "#         'iterations': {'values': [200]},\n",
    "#         'alpha': {'values': ['symmetric', 'asymmetric']}\n",
    "#     }\n",
    "# }\n",
    "\n",
    "# # corpus_data = corpus\n",
    "# corpus_data = corpus_extended\n",
    "\n",
    "# # Define the training function\n",
    "# def train():\n",
    "    \n",
    "#     wandb.init()\n",
    "\n",
    "#     # Set the hyperparameters based on the wandb configuration\n",
    "#     num_topics = wandb.config.num_topics\n",
    "#     passes = wandb.config.passes\n",
    "#     iterations = wandb.config.iterations\n",
    "#     alpha = wandb.config.alpha\n",
    "\n",
    "#     # Create the LDA model\n",
    "#     lda_model = gensim.models.ldamulticore.LdaMulticore(corpus=corpus_data,\n",
    "#                                 id2word=dictionary,\n",
    "#                                 num_topics=num_topics,\n",
    "#                                 workers=19,\n",
    "#                                 random_state=100,\n",
    "#                                 chunksize=100,\n",
    "#                                 passes=passes,\n",
    "#                                 iterations=iterations,\n",
    "#                                 alpha=alpha,\n",
    "#                                 per_word_topics=False\n",
    "#                                 )\n",
    "\n",
    "#     # Compute coherence and perplexity\n",
    "#     coherence_model = CoherenceModel(model=lda_model,\n",
    "#                                      corpus=corpus_data,\n",
    "#                                      coherence='u_mass')\n",
    "#     coherence = coherence_model.get_coherence()\n",
    "\n",
    "#     perplexity = lda_model.log_perplexity(corpus_data)\n",
    "\n",
    "#     tus_score = calculate_tus(lda_model)\n",
    "    \n",
    "#     # Log the results to wandb\n",
    "#     wandb.log({\n",
    "#         'coherence(U_mass)': coherence,\n",
    "#         'perplexity': perplexity,\n",
    "#         'tus_score': tus_score[1]\n",
    "#     })\n",
    "\n",
    "#     wandb.finish()\n",
    "\n",
    "# # Run the agent to sweep over the hyperparameters\n",
    "# sweep_id = wandb.sweep(sweep_config, project='NER_NLP_med')\n",
    "\n",
    "# wandb.agent(sweep_id, function=train)"
   ]
  },
  {
   "cell_type": "code",
   "execution_count": 24,
   "id": "7a3a01c8",
   "metadata": {},
   "outputs": [],
   "source": [
    "def train_lda(corpus, num_topics):\n",
    "    # Create the LDA model\n",
    "    lda_model = gensim.models.ldamulticore.LdaMulticore(corpus=corpus,\n",
    "                                id2word=dictionary,\n",
    "                                num_topics=num_topics,\n",
    "                                workers=19,\n",
    "                                random_state=100,\n",
    "                                chunksize=100,\n",
    "                                passes=10,\n",
    "                                iterations=200,\n",
    "                                alpha='symmetric',\n",
    "                                per_word_topics=False\n",
    "                                )\n",
    "    return lda_model"
   ]
  },
  {
   "cell_type": "code",
   "execution_count": 25,
   "id": "09ba84d0",
   "metadata": {},
   "outputs": [],
   "source": [
    "# used_corpus = corpus\n",
    "# # used_corpus = corpus_extended\n",
    "# num_topics = 4\n",
    "# lda_model = train_lda(used_corpus, num_topics)"
   ]
  },
  {
   "cell_type": "code",
   "execution_count": 26,
   "id": "8cabaa2c",
   "metadata": {},
   "outputs": [],
   "source": [
    "from scipy.spatial import distance\n",
    "\n",
    "def calc_hausdorff_distance(model):\n",
    "    num_topics = model.num_topics\n",
    "    hd_matrix = np.zeros((num_topics, num_topics))  # Initialize a matrix to store HD values\n",
    "    \n",
    "    for i in range(num_topics):\n",
    "        for j in range(i+1, num_topics):\n",
    "            # extract topic distributions for topics i and j\n",
    "            topic_i_dist = model.get_topic_terms(topicid=i)\n",
    "            topic_j_dist = model.get_topic_terms(topicid=j)\n",
    "\n",
    "            # compute asymmetric Hausdorff distance (HD) by saving the biggest of the two\n",
    "            hd = max(distance.directed_hausdorff(topic_i_dist, topic_j_dist), \n",
    "                      distance.directed_hausdorff(topic_j_dist, topic_i_dist))\n",
    "\n",
    "            hd_matrix[i, j] = hd[0]\n",
    "\n",
    "    return np.mean(hd_matrix)"
   ]
  },
  {
   "cell_type": "code",
   "execution_count": 27,
   "id": "63fb1054",
   "metadata": {},
   "outputs": [],
   "source": [
    "from sklearn.metrics.pairwise import cosine_similarity\n",
    "\n",
    "def calculate_tus(model):\n",
    "    \"\"\"\n",
    "    Calculate Topic Uniqueness Score (TUS) for each topic in a given LDA model.\n",
    "    Returns an array of TUS scores and a mean TUS score for a model.\n",
    "    The lower TUS score means that topics are less similar <-> more unique.\n",
    "    \"\"\"\n",
    "    words_num = len(model.id2word)\n",
    "#     words_num = 100\n",
    "    num_topics = model.num_topics\n",
    "    word_probs = np.zeros((num_topics, words_num))\n",
    "    for topic_id in range(num_topics):\n",
    "        word_probs[topic_id, :] = np.array([p for _, p in model.get_topic_terms(topic_id, words_num)])\n",
    "    \n",
    "    similarities = cosine_similarity(word_probs)\n",
    "    np.fill_diagonal(similarities, 0) # set diagonal to 0 so a topic is not compared with itself\n",
    "    tus_scores = np.mean(similarities, axis=1)\n",
    "    tus_mean = np.mean(tus_scores)\n",
    "    return tus_scores, tus_mean\n",
    "\n",
    "# tus_scores, tus_mean = calculate_tus(lda_model)\n",
    "# print(tus_scores)\n",
    "# print(tus_mean)\n"
   ]
  },
  {
   "cell_type": "code",
   "execution_count": 28,
   "id": "45dec60c",
   "metadata": {},
   "outputs": [],
   "source": [
    "# The same one as in the test_environment.py\n",
    "def progress_bar(iteration, total):\n",
    "    total_len = 100\n",
    "    percent_part = (\"{0:.2f}\").format(100 * (iteration / total))\n",
    "    filled = int(total_len * iteration / total)\n",
    "    bar = '█' * filled + '-' * (total_len - filled)\n",
    "    print(f'\\r Progress: [{bar}] {percent_part}%', end='')\n",
    "    if iteration == total:\n",
    "        print()"
   ]
  },
  {
   "cell_type": "code",
   "execution_count": 36,
   "id": "467471fa",
   "metadata": {},
   "outputs": [
    {
     "name": "stdout",
     "output_type": "stream",
     "text": [
      " Progress: [████████████████████████████████████████████████████████████████████████████████████████████████████] 100.00%\n"
     ]
    }
   ],
   "source": [
    "results = {}\n",
    "corpuses = {\"classic corpus\": corpus, \"extended corpus\": corpus_extended}\n",
    "num_topics_arr = [5, 10, 15, 20]\n",
    "\n",
    "def do_test(tus=True):\n",
    "    total_iter = len(corpuses) * len(num_topics_arr)\n",
    "    curr_iter = 1\n",
    "    for key in corpuses:\n",
    "        results[key] = {}\n",
    "        for num_topics in num_topics_arr:\n",
    "            progress_bar(curr_iter, total_iter)\n",
    "            lda_model = train_lda(corpuses[key], num_topics)\n",
    "            if tus:\n",
    "                _, score = calculate_tus(lda_model)\n",
    "            else:\n",
    "                score = calc_hausdorff_distance(lda_model)\n",
    "            results[key][str(num_topics)] = score\n",
    "            curr_iter += 1\n",
    "\n",
    "# test_tus = True\n",
    "test_tus = False\n",
    "do_test(test_tus)"
   ]
  },
  {
   "cell_type": "code",
   "execution_count": 37,
   "id": "94285942",
   "metadata": {},
   "outputs": [
    {
     "data": {
      "text/plain": [
       "{'classic corpus': {'5': 333.9200000021259,\n",
       "  '10': 348.46000000166924,\n",
       "  '15': 402.67555555872303,\n",
       "  '20': 490.5400000051952},\n",
       " 'extended corpus': {'5': 329.7600000009613,\n",
       "  '10': 343.25000000616325,\n",
       "  '15': 492.17777778231743,\n",
       "  '20': 673.2925000061281}}"
      ]
     },
     "execution_count": 37,
     "metadata": {},
     "output_type": "execute_result"
    }
   ],
   "source": [
    "results"
   ]
  },
  {
   "cell_type": "code",
   "execution_count": 38,
   "id": "6d2c4d4f",
   "metadata": {},
   "outputs": [
    {
     "data": {
      "image/png": "[encoded data removed]",
      "text/plain": [
       "<Figure size 640x480 with 1 Axes>"
      ]
     },
     "metadata": {},
     "output_type": "display_data"
    }
   ],
   "source": [
    "import matplotlib.pyplot as plt\n",
    "\n",
    "fig, ax = plt.subplots()\n",
    "for i, (key, value) in enumerate(results.items()):\n",
    "    ax.hist(list(value.values()), bins=10, alpha=0.5, label=key, color=['blue', 'orange'][i])\n",
    "    \n",
    "ax.set_xlabel('Score')\n",
    "ax.set_ylabel('Frequency')\n",
    "ax.set_title('Experiment Scores')\n",
    "ax.legend(loc='upper right')\n",
    "\n",
    "plt.show()"
   ]
  },
  {
   "cell_type": "code",
   "execution_count": 39,
   "id": "cbbc272f",
   "metadata": {},
   "outputs": [
    {
     "data": {
      "image/png": "[encoded data removed]",
      "text/plain": [
       "<Figure size 640x480 with 1 Axes>"
      ]
     },
     "metadata": {},
     "output_type": "display_data"
    }
   ],
   "source": [
    "data = {'classic': {'a': 1, 'b': 2, 'c': 3}, 'new': {'a': 3, 'b': 4, 'c': 5}}\n",
    "\n",
    "\n",
    "\n",
    "classic_keys = list(results['classic corpus'].keys())\n",
    "extended_keys = list(results['extended corpus'].keys())\n",
    "\n",
    "classic_values = list(results['classic corpus'].values())\n",
    "extended_values = list(results['extended corpus'].values())\n",
    "\n",
    "x_values = range(len(classic_keys))\n",
    "\n",
    "bar_width = 0.3\n",
    "\n",
    "# plot the bars for the classic dictionary values\n",
    "plt.bar(x_values, classic_values, align='edge', width=-bar_width, alpha=1, label='Classic LDA')\n",
    "\n",
    "# plot the bars for the new dictionary values\n",
    "plt.bar(x_values, extended_values, align='edge', width=bar_width, alpha=1, label='NER + LDA')\n",
    "\n",
    "# set the x-axis ticks and labels\n",
    "plt.xticks(x_values, classic_keys)\n",
    "\n",
    "# add a legend to the plot\n",
    "plt.legend()\n",
    "\n",
    "Y_str = \"TUS\" if test_tus else \"Hausdorff Distance\" \n",
    "\n",
    "# set the y-axis label\n",
    "plt.ylabel(Y_str)\n",
    "\n",
    "# set the x-axis label\n",
    "plt.xlabel('Number of topics')\n",
    "\n",
    "# show the plot\n",
    "plt.show()"
   ]
  },
  {
   "cell_type": "code",
   "execution_count": null,
   "id": "a632d2e1",
   "metadata": {},
   "outputs": [],
   "source": []
  }
 ],
 "metadata": {
  "kernelspec": {
   "display_name": "Python 3 (ipykernel)",
   "language": "python",
   "name": "python3"
  },
  "language_info": {
   "codemirror_mode": {
    "name": "ipython",
    "version": 3
   },
   "file_extension": ".py",
   "mimetype": "text/x-python",
   "name": "python",
   "nbconvert_exporter": "python",
   "pygments_lexer": "ipython3",
   "version": "3.9.15"
  }
 },
 "nbformat": 4,
 "nbformat_minor": 5
}
