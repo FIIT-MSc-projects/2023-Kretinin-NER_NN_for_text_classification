{
 "cells": [
  {
   "cell_type": "code",
   "execution_count": 48,
   "id": "2da09923",
   "metadata": {},
   "outputs": [],
   "source": [
    "import spacy\n",
    "import gensim\n",
    "from gensim.corpora import Dictionary\n",
    "from gensim.models import LdaModel, CoherenceModel\n",
    "from gensim.utils import simple_preprocess\n",
    "import zipfile\n",
    "import pickle\n",
    "from keras.models import load_model\n",
    "import numpy as np\n",
    "import re\n",
    "from nltk.corpus import stopwords\n",
    "import nltk\n",
    "import tqdm\n",
    "\n",
    "# load the pre-trained English language model\n",
    "nlp = spacy.load('en_core_web_sm')\n",
    "\n",
    "# nltk.download('stopwords')\n",
    "\n",
    "pattern = re.compile('.*-(MONEY|QUANTITY|PERCENT|ORDINAL|DATE|TIME|CARDINAL)|Other')\n",
    "pattern_symbols = re.compile('^[\\.\\\\\\/\\[\\]\\(\\),\\-\\'\\\"\\?\\!\\“\\”\\’@:;–]+$')\n",
    "\n",
    "stop_words = set(stopwords.words(\"english\"))\n",
    "stop_words = stop_words.union({\"reuters\", \"bbc\"})"
   ]
  },
  {
   "cell_type": "code",
   "execution_count": 2,
   "id": "7df34522",
   "metadata": {},
   "outputs": [],
   "source": [
    "# import sys\n",
    "# !{sys.executable} -m pip install pyLDAvis"
   ]
  },
  {
   "cell_type": "code",
   "execution_count": 3,
   "id": "a0c34d87",
   "metadata": {},
   "outputs": [],
   "source": [
    "def remove_prefix(label):\n",
    "    return label.split('-')[-1]"
   ]
  },
  {
   "cell_type": "code",
   "execution_count": 4,
   "id": "2c432c00",
   "metadata": {},
   "outputs": [],
   "source": [
    "def split_text(text):\n",
    "    sentences = nltk.sent_tokenize(text)\n",
    "    return [nltk.word_tokenize(sentence) for sentence in sentences]"
   ]
  },
  {
   "cell_type": "code",
   "execution_count": 5,
   "id": "964941d8",
   "metadata": {},
   "outputs": [],
   "source": [
    "def remove_stopwords(tokens):\n",
    "    filtered_tokens = [token for token in tokens if token.lower() not in stop_words and len(token)>3]\n",
    "    filtered_tokens = [token for token in filtered_tokens if not pattern_symbols.match(token.lower())]\n",
    "    return filtered_tokens"
   ]
  },
  {
   "cell_type": "code",
   "execution_count": 6,
   "id": "56ec8100",
   "metadata": {},
   "outputs": [],
   "source": [
    "def process_file(file, filename, texts):\n",
    "    content = file.read(filename)\n",
    "    if type(content) == bytes:\n",
    "        text = content.decode('utf-8')\n",
    "        texts.append(text)\n",
    "\n",
    "    if len(content.strip()) == 0:\n",
    "        print(\"No text was found\")\n",
    "        return"
   ]
  },
  {
   "cell_type": "code",
   "execution_count": 7,
   "id": "a157afa7",
   "metadata": {},
   "outputs": [],
   "source": [
    "def preprocess_text(text, word2idx, max_len):\n",
    "    # Split the text into tokens\n",
    "    sentences = split_text(text)\n",
    "\n",
    "    # Convert the tokens to integer IDs using the word2id dictionary\n",
    "    ids = []\n",
    "    endpad_idx = word2idx['ENDPAD']\n",
    "    for tokens in sentences:\n",
    "        array = []\n",
    "        for token in tokens:\n",
    "            if token in word2idx.keys():\n",
    "                array.append(word2idx[token])\n",
    "            else:\n",
    "                array.append(0)\n",
    "\n",
    "        while len(array) < max_len:\n",
    "            array.append(endpad_idx)\n",
    "        ids.append(array)\n",
    "\n",
    "    return ids, sentences"
   ]
  },
  {
   "cell_type": "code",
   "execution_count": 8,
   "id": "eeb2fa52",
   "metadata": {},
   "outputs": [],
   "source": [
    "def predict_text(text, model):\n",
    "    ents = []\n",
    "    for i in range(len(sentences := split_text(text))):\n",
    "        doc = nlp(' '.join(sentences[i]))\n",
    "        ents_pred = [ent.text for ent in doc.ents]\n",
    "        for word in sentences[i]:\n",
    "            if len(word) > 3:\n",
    "                ents.append(word.lower())\n",
    "                if word in ents_pred:\n",
    "                    # append the same word once more to increase its statistics and weight artificially\n",
    "                    ents.append(word.lower())\n",
    "#                     ents.append(word.lower())\n",
    "    ents = remove_stopwords(ents)\n",
    "    return ents\n",
    "\n",
    "def predict_text_2(text, model, tags):\n",
    "    ents = []\n",
    "    labels = []\n",
    "    for i in range(len(text)):\n",
    "        p = model.predict(np.array([text[0][i]]), verbose=0)\n",
    "        p = np.argmax(p, axis=-1)\n",
    "        for idx, pred in enumerate(p[0][0:len(text[1][i])]):\n",
    "            if len(word := text[1][i][idx]) > 3:\n",
    "                if not pattern.match(tags[pred]):\n",
    "                    ents.append(word.lower())\n",
    "                    # append the same word once more to increase its statistics and weight artificially\n",
    "#                     ents.append(word.lower())\n",
    "#                     ents.append(word.lower())\n",
    "                    labels.append(tags[pred])\n",
    "    ents = remove_stopwords(ents)\n",
    "    return ents, labels"
   ]
  },
  {
   "cell_type": "code",
   "execution_count": 9,
   "id": "09b9199d",
   "metadata": {},
   "outputs": [],
   "source": [
    "from nltk.stem import WordNetLemmatizer\n",
    "lemmatizer = WordNetLemmatizer()\n",
    "\n",
    "def lemmatize_tokens(tokens):\n",
    "    lemmatized_tokens = [lemmatizer.lemmatize(word) for word in tokens]\n",
    "    return lemmatized_tokens\n",
    "\n",
    "def get_labeled_words(model, texts, word2idx):\n",
    "    proc_labels = []\n",
    "    proc_ents = []\n",
    "    entity_clusters = {}\n",
    "    for text in texts:\n",
    "        processed = preprocess_text(text, word2idx, model.layers[0].output_shape[0][1])\n",
    "        ents, labels = predict_text_2(processed, model, tags)\n",
    "        for ent, label in zip(set(ents), labels):\n",
    "            if not pattern.match(label):\n",
    "                if (label := remove_prefix(label)) not in entity_clusters and not ent.lower() in stop_words and not pattern_symbols.match(ent.lower()):\n",
    "                    entity_clusters[label] = []\n",
    "                else:\n",
    "                    entity_clusters[label].append(ent.lower())\n",
    "        proc_ents.append(remove_stopwords(ents))\n",
    "        proc_labels.append(labels)\n",
    "    lemmatized_text = [lemmatize_tokens(doc) for doc in proc_ents]\n",
    "    return lemmatized_text, proc_labels, entity_clusters\n",
    "\n",
    "def get_labeled_words_2(texts):\n",
    "    proc_labels = []\n",
    "    proc_ents = []\n",
    "    for text in texts:\n",
    "        processed = split_text(text)\n",
    "        ents = [word for sentence in processed for word in sentence]\n",
    "\n",
    "        proc_ents.append(remove_stopwords(ents))\n",
    "    lemmatized_text = [lemmatize_tokens(doc) for doc in proc_ents]\n",
    "    return lemmatized_text"
   ]
  },
  {
   "cell_type": "code",
   "execution_count": 11,
   "id": "68c2ae23",
   "metadata": {},
   "outputs": [
    {
     "name": "stdout",
     "output_type": "stream",
     "text": [
      "Done\n"
     ]
    }
   ],
   "source": [
    "texts = []\n",
    "# with zipfile.ZipFile(\"../data/articles_2021-11-05_1000.zip\", \"r\") as f:\n",
    "# with zipfile.ZipFile(\"../data/articles_2023-01-07_2000.zip\", \"r\") as f:\n",
    "# with zipfile.ZipFile(\"../data/articles_2023-02-04_500.zip\", \"r\") as f:\n",
    "with zipfile.ZipFile(\"../data/articles_2023-02-09_1000.zip\", \"r\") as f:\n",
    "    total_f = len(f.namelist())\n",
    "    counter = 1\n",
    "    for filename in f.namelist():\n",
    "        counter += 1\n",
    "        process_file(f, filename, texts)\n",
    "    f.close()\n",
    "\n",
    "model = load_model('../models/my_model5/model.h5')\n",
    "# ----------------------------#\n",
    "with open('../models/my_model5/tags.pickle', 'rb') as handle:\n",
    "    tags = pickle.load(handle)\n",
    "\n",
    "with open('../models/my_model5/words.pickle', 'rb') as handle:\n",
    "    word2idx = pickle.load(handle)\n",
    "\n",
    "\n",
    "proc_ents, proc_labels, entity_clusters = get_labeled_words(model, texts, word2idx)\n",
    "\n",
    "# proc_ents = get_labeled_words_2(texts)\n",
    "\n",
    "print(\"Done\")"
   ]
  },
  {
   "cell_type": "code",
   "execution_count": 12,
   "id": "593fa1c0",
   "metadata": {},
   "outputs": [
    {
     "name": "stdout",
     "output_type": "stream",
     "text": [
      "dict_keys(['BODY_PART_ORGAN_OR_ORGAN_COMPONENT', 'CHEMICAL', 'DISEASE_OR_SYNDROME', 'TISSUE', 'GROUP', 'ORG', 'THERAPEUTIC_OR_PREVENTIVE_PROCEDURE', 'SIGN_OR_SYMPTOM', 'GENE_OR_GENOME', 'FOOD', 'ORGANISM', 'PERSON', 'DAILY_OR_RECREATIONAL_ACTIVITY', 'DIAGNOSTIC_PROCEDURE', 'GPE', 'CELL_FUNCTION', 'CELL_COMPONENT', 'INDIVIDUAL_BEHAVIOR', 'SOCIAL_BEHAVIOR', 'EUKARYOTE', 'CELL', 'PRODUCT', 'EDUCATIONAL_ACTIVITY', 'CAUSED_PHENOMENON_OR_PROCESS', 'SUBSTRATE', 'LOC', 'LIVESTOCK', 'MATERIAL', 'LABORATORY_PROCEDURE', 'INJURY_OR_POISONING', 'EVOLUTION', 'NORP', 'RESEARCH_ACTIVITY', 'MACHINE_ACTIVITY', 'CORONAVIRUS', 'ORGAN_OR_TISSUE_FUNCTION', 'ANATOMICAL_STRUCTURE', 'GOVERNMENTAL_OR_REGULATORY_ACTIVITY', 'CELL_OR_MOLECULAR_DYSFUNCTION', 'BODY_SUBSTANCE'])\n"
     ]
    }
   ],
   "source": [
    "print(entity_clusters.keys())"
   ]
  },
  {
   "cell_type": "code",
   "execution_count": 13,
   "id": "a95354b7",
   "metadata": {},
   "outputs": [],
   "source": [
    "# Create a dictionary mapping named entities to integer ids\n",
    "dictionary = Dictionary(proc_ents)\n",
    "\n",
    "# Create a document-term matrix where each document is a text and each term is a named entity\n",
    "corpus = [dictionary.doc2bow(text) for text in proc_ents]"
   ]
  },
  {
   "cell_type": "code",
   "execution_count": 14,
   "id": "0e1f796e",
   "metadata": {},
   "outputs": [
    {
     "name": "stdout",
     "output_type": "stream",
     "text": [
      "5\n",
      "1000 1125\n"
     ]
    }
   ],
   "source": [
    "import copy\n",
    "\n",
    "corpus_extended = copy.deepcopy(corpus)\n",
    "corpus_len = len(corpus)\n",
    "print(int(corpus_len*0.005))\n",
    "\n",
    "# Add named entities to dictionary and corpus\n",
    "for entity_type, entities in entity_clusters.items():\n",
    "    if len(entities) > 5:\n",
    "        processed_ents = [entity.lower() for entity in set(entities)]\n",
    "        new_doc = [dictionary.doc2bow(simple_preprocess(entity)) for entity in processed_ents]\n",
    "        new_doc = [item for entity in new_doc for item in entity]\n",
    "        for i in range(int(corpus_len*0.005)):\n",
    "            corpus_extended.append(new_doc)\n",
    "\n",
    "print(len(corpus), len(corpus_extended))\n"
   ]
  },
  {
   "cell_type": "code",
   "execution_count": 15,
   "id": "40aace20",
   "metadata": {
    "scrolled": true
   },
   "outputs": [],
   "source": [
    "# import wandb\n",
    "# from sklearn.metrics.pairwise import cosine_similarity\n",
    "\n",
    "# # Define the hyperparameters to sweep over\n",
    "# sweep_config = {\n",
    "#     'name': 'NER_NLP_med',\n",
    "#     'method': 'grid',\n",
    "#     'metric': {\n",
    "#         'name': 'tus_score',\n",
    "#         'goal': 'maximize'\n",
    "#     },\n",
    "#     'parameters': {\n",
    "#         'num_topics': {'values': [3, 4, 6, 8, 10]},\n",
    "#         'passes': {'values': [10]},\n",
    "#         'iterations': {'values': [200]},\n",
    "#         'alpha': {'values': ['symmetric', 'asymmetric']}\n",
    "#     }\n",
    "# }\n",
    "\n",
    "# # corpus_data = corpus\n",
    "# corpus_data = corpus_extended\n",
    "\n",
    "# # Define the training function\n",
    "# def train():\n",
    "    \n",
    "#     wandb.init()\n",
    "\n",
    "#     # Set the hyperparameters based on the wandb configuration\n",
    "#     num_topics = wandb.config.num_topics\n",
    "#     passes = wandb.config.passes\n",
    "#     iterations = wandb.config.iterations\n",
    "#     alpha = wandb.config.alpha\n",
    "\n",
    "#     # Create the LDA model\n",
    "#     lda_model = gensim.models.ldamulticore.LdaMulticore(corpus=corpus_data,\n",
    "#                                 id2word=dictionary,\n",
    "#                                 num_topics=num_topics,\n",
    "#                                 workers=19,\n",
    "#                                 random_state=100,\n",
    "#                                 chunksize=100,\n",
    "#                                 passes=passes,\n",
    "#                                 iterations=iterations,\n",
    "#                                 alpha=alpha,\n",
    "#                                 per_word_topics=False\n",
    "#                                 )\n",
    "\n",
    "#     # Compute coherence and perplexity\n",
    "#     coherence_model = CoherenceModel(model=lda_model,\n",
    "#                                      corpus=corpus_data,\n",
    "#                                      coherence='u_mass')\n",
    "#     coherence = coherence_model.get_coherence()\n",
    "\n",
    "#     perplexity = lda_model.log_perplexity(corpus_data)\n",
    "\n",
    "#     tus_score = calculate_tus(lda_model)\n",
    "    \n",
    "#     # Log the results to wandb\n",
    "#     wandb.log({\n",
    "#         'coherence(U_mass)': coherence,\n",
    "#         'perplexity': perplexity,\n",
    "#         'tus_score': tus_score[1]\n",
    "#     })\n",
    "\n",
    "#     wandb.finish()\n",
    "\n",
    "# # Run the agent to sweep over the hyperparameters\n",
    "# sweep_id = wandb.sweep(sweep_config, project='NER_NLP_med')\n",
    "\n",
    "# wandb.agent(sweep_id, function=train)"
   ]
  },
  {
   "cell_type": "code",
   "execution_count": 16,
   "id": "247d31f1",
   "metadata": {},
   "outputs": [],
   "source": [
    "# from sklearn.metrics.pairwise import cosine_similarity\n",
    "\n",
    "# def calculate_tus(model):\n",
    "#     \"\"\"\n",
    "#     Calculate Topic Uniqueness Score (TUS) for each topic in a given LDA model.\n",
    "#     Returns an array of TUS scores.\n",
    "#     \"\"\"\n",
    "#     num_topics = model.num_topics\n",
    "#     word_probs = np.zeros((num_topics, len(model.id2word)))\n",
    "#     for topic_id in range(num_topics):\n",
    "#         word_probs[topic_id, :] = np.array([p for _, p in model.get_topic_terms(topic_id, len(model.id2word))])\n",
    "    \n",
    "#     similarities = cosine_similarity(word_probs)\n",
    "#     np.fill_diagonal(similarities, 0) # set diagonal to 0 so a topic is not compared with itself\n",
    "#     tus_scores = np.mean(similarities, axis=1)\n",
    "#     tus_mean = np.mean(tus_scores)\n",
    "#     return tus_scores, tus_mean\n",
    "\n",
    "# tus_scores, tus_mean = calculate_tus(lda_model)\n",
    "# print(tus_scores)\n",
    "# print(tus_mean)\n"
   ]
  },
  {
   "cell_type": "code",
   "execution_count": 17,
   "id": "7a3a01c8",
   "metadata": {},
   "outputs": [],
   "source": [
    "def train_lda(corpus, num_topics):\n",
    "    # Create the LDA model\n",
    "    lda_model = gensim.models.ldamulticore.LdaMulticore(corpus=corpus,\n",
    "                                id2word=dictionary,\n",
    "                                num_topics=num_topics,\n",
    "                                workers=19,\n",
    "                                random_state=100,\n",
    "                                chunksize=100,\n",
    "                                passes=10,\n",
    "                                iterations=200,\n",
    "                                alpha='symmetric',\n",
    "                                per_word_topics=False\n",
    "                                )\n",
    "    return lda_model"
   ]
  },
  {
   "cell_type": "code",
   "execution_count": 44,
   "id": "09ba84d0",
   "metadata": {},
   "outputs": [],
   "source": [
    "# used_corpus = corpus\n",
    "# # used_corpus = corpus_extended\n",
    "# num_topics = 4\n",
    "# lda_model = train_lda(used_corpus, num_topics)"
   ]
  },
  {
   "cell_type": "code",
   "execution_count": 75,
   "id": "8cabaa2c",
   "metadata": {},
   "outputs": [],
   "source": [
    "from scipy.spatial import distance\n",
    "\n",
    "def calc_hausdorff_distance(model):\n",
    "    num_topics = model.num_topics\n",
    "    hd_matrix = np.zeros((num_topics, num_topics))  # Initialize a matrix to store JSD values\n",
    "    \n",
    "    for i in range(num_topics):\n",
    "        for j in range(i+1, num_topics):\n",
    "            # extract topic distributions for topics i and j\n",
    "            topic_i_dist = model.get_topic_terms(topicid=i)\n",
    "            topic_j_dist = model.get_topic_terms(topicid=j)\n",
    "\n",
    "            # compute asymmetric Hausdorff distance (hd) by saving the biggest of the two\n",
    "            hd = max(distance.directed_hausdorff(topic_i_dist, topic_j_dist), \n",
    "                      distance.directed_hausdorff(topic_j_dist, topic_i_dist))\n",
    "\n",
    "            hd_matrix[i, j] = hd[0]\n",
    "\n",
    "    return np.mean(hd_matrix)"
   ]
  },
  {
   "cell_type": "code",
   "execution_count": 76,
   "id": "63fb1054",
   "metadata": {},
   "outputs": [
    {
     "name": "stdout",
     "output_type": "stream",
     "text": [
      "[0.79181199 0.77780078 0.76285318 0.7893146  0.74380266 0.77461707\n",
      " 0.79042549 0.55619947 0.76857331 0.79414552 0.59461253 0.78093078\n",
      " 0.78768261 0.79404196 0.65374579 0.69214807 0.80426181 0.53913828\n",
      " 0.80770485 0.81208346]\n",
      "0.7407947114617841\n"
     ]
    }
   ],
   "source": [
    "from sklearn.metrics.pairwise import cosine_similarity\n",
    "\n",
    "def calculate_tus(model):\n",
    "    \"\"\"\n",
    "    Calculate Topic Uniqueness Score (TUS) for each topic in a given LDA model.\n",
    "    Returns an array of TUS scores and a mean TUS score for a model.\n",
    "    The lower TUS score means that topics are less similar <-> more unique.\n",
    "    \"\"\"\n",
    "    words_num = len(model.id2word)\n",
    "#     words_num = 100\n",
    "    num_topics = model.num_topics\n",
    "    word_probs = np.zeros((num_topics, words_num))\n",
    "    for topic_id in range(num_topics):\n",
    "        word_probs[topic_id, :] = np.array([p for _, p in model.get_topic_terms(topic_id, words_num)])\n",
    "    \n",
    "    similarities = cosine_similarity(word_probs)\n",
    "    np.fill_diagonal(similarities, 0) # set diagonal to 0 so a topic is not compared with itself\n",
    "    tus_scores = np.mean(similarities, axis=1)\n",
    "    tus_mean = np.mean(tus_scores)\n",
    "    return tus_scores, tus_mean\n",
    "\n",
    "tus_scores, tus_mean = calculate_tus(lda_model)\n",
    "print(tus_scores)\n",
    "print(tus_mean)\n"
   ]
  },
  {
   "cell_type": "code",
   "execution_count": 77,
   "id": "45dec60c",
   "metadata": {},
   "outputs": [],
   "source": [
    "# The same one as in the test_environment.py\n",
    "def progress_bar(iteration, total):\n",
    "    total_len = 100\n",
    "    percent_part = (\"{0:.2f}\").format(100 * (iteration / total))\n",
    "    filled = int(total_len * iteration / total)\n",
    "    bar = '█' * filled + '-' * (total_len - filled)\n",
    "    print(f'\\r Progress: [{bar}] {percent_part}%', end='')\n",
    "    if iteration == total:\n",
    "        print()"
   ]
  },
  {
   "cell_type": "code",
   "execution_count": 78,
   "id": "467471fa",
   "metadata": {},
   "outputs": [
    {
     "name": "stdout",
     "output_type": "stream",
     "text": [
      " Progress: [████████████████████████████████████████████████████████████████████████████████████████████████████] 100.00%\n"
     ]
    }
   ],
   "source": [
    "results = {}\n",
    "corpuses = {\"classic corpus\": corpus, \"extended corpus\": corpus_extended}\n",
    "num_topics_arr = [5, 10, 15, 20]\n",
    "\n",
    "def do_test(tus=True):\n",
    "    total_iter = len(corpuses) * len(num_topics_arr)\n",
    "    curr_iter = 1\n",
    "    for key in corpuses:\n",
    "        results[key] = {}\n",
    "        for num_topics in num_topics_arr:\n",
    "            progress_bar(curr_iter, total_iter)\n",
    "            lda_model = train_lda(corpuses[key], num_topics)\n",
    "            if tus:\n",
    "                _, score = calculate_tus(lda_model)\n",
    "            else:\n",
    "                score = calc_hausdorff_distance(lda_model)\n",
    "            results[key][str(num_topics)] = score\n",
    "            curr_iter += 1\n",
    "            \n",
    "do_test(False)"
   ]
  },
  {
   "cell_type": "code",
   "execution_count": 79,
   "id": "94285942",
   "metadata": {},
   "outputs": [
    {
     "data": {
      "text/plain": [
       "{'classic corpus': {'5': 151.7200000335407,\n",
       "  '10': 127.7700000187976,\n",
       "  '15': 109.2533334880055,\n",
       "  '20': 156.75500005346564},\n",
       " 'extended corpus': {'5': 159.00000000986273,\n",
       "  '10': 177.02000001162335,\n",
       "  '15': 167.47111115163602,\n",
       "  '20': 148.2850000936147}}"
      ]
     },
     "execution_count": 79,
     "metadata": {},
     "output_type": "execute_result"
    }
   ],
   "source": [
    "results"
   ]
  },
  {
   "cell_type": "code",
   "execution_count": 80,
   "id": "6d2c4d4f",
   "metadata": {},
   "outputs": [
    {
     "data": {
      "image/png": "[encoded data removed]",
      "text/plain": [
       "<Figure size 640x480 with 1 Axes>"
      ]
     },
     "metadata": {},
     "output_type": "display_data"
    }
   ],
   "source": [
    "import matplotlib.pyplot as plt\n",
    "\n",
    "fig, ax = plt.subplots()\n",
    "for i, (key, value) in enumerate(results.items()):\n",
    "    ax.hist(list(value.values()), bins=10, alpha=0.5, label=key, color=['blue', 'orange'][i])\n",
    "    \n",
    "ax.set_xlabel('Score')\n",
    "ax.set_ylabel('Frequency')\n",
    "ax.set_title('Experiment Scores')\n",
    "ax.legend(loc='upper right')\n",
    "\n",
    "plt.show()"
   ]
  },
  {
   "cell_type": "code",
   "execution_count": 82,
   "id": "cbbc272f",
   "metadata": {},
   "outputs": [
    {
     "data": {
      "image/png": "[encoded data removed]",
      "text/plain": [
       "<Figure size 640x480 with 1 Axes>"
      ]
     },
     "metadata": {},
     "output_type": "display_data"
    }
   ],
   "source": [
    "data = {'classic': {'a': 1, 'b': 2, 'c': 3}, 'new': {'a': 3, 'b': 4, 'c': 5}}\n",
    "\n",
    "\n",
    "\n",
    "classic_keys = list(results['classic corpus'].keys())\n",
    "extended_keys = list(results['extended corpus'].keys())\n",
    "\n",
    "classic_values = list(results['classic corpus'].values())\n",
    "extended_values = list(results['extended corpus'].values())\n",
    "\n",
    "x_values = range(len(classic_keys))\n",
    "\n",
    "bar_width = 0.3\n",
    "\n",
    "# plot the bars for the classic dictionary values\n",
    "plt.bar(x_values, classic_values, align='edge', width=-bar_width, alpha=1, label='Classic LDA')\n",
    "\n",
    "# plot the bars for the new dictionary values\n",
    "plt.bar(x_values, extended_values, align='edge', width=bar_width, alpha=1, label='NER + LDA')\n",
    "\n",
    "# set the x-axis ticks and labels\n",
    "plt.xticks(x_values, classic_keys)\n",
    "\n",
    "# add a legend to the plot\n",
    "plt.legend()\n",
    "\n",
    "# set the y-axis label\n",
    "plt.ylabel('Hausdorff Distance')\n",
    "\n",
    "# set the x-axis label\n",
    "plt.xlabel('Number of topics')\n",
    "\n",
    "# show the plot\n",
    "plt.show()"
   ]
  },
  {
   "cell_type": "code",
   "execution_count": null,
   "id": "a632d2e1",
   "metadata": {},
   "outputs": [],
   "source": []
  }
 ],
 "metadata": {
  "kernelspec": {
   "display_name": "Python 3 (ipykernel)",
   "language": "python",
   "name": "python3"
  },
  "language_info": {
   "codemirror_mode": {
    "name": "ipython",
    "version": 3
   },
   "file_extension": ".py",
   "mimetype": "text/x-python",
   "name": "python",
   "nbconvert_exporter": "python",
   "pygments_lexer": "ipython3",
   "version": "3.9.15"
  }
 },
 "nbformat": 4,
 "nbformat_minor": 5
}
