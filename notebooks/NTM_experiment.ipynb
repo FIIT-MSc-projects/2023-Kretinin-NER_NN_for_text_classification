{
 "cells": [
  {
   "cell_type": "code",
   "execution_count": 1,
   "id": "bcfae11b",
   "metadata": {},
   "outputs": [
    {
     "name": "stderr",
     "output_type": "stream",
     "text": [
      "[nltk_data] Downloading package stopwords to\n",
      "[nltk_data]     C:\\Users\\kreti\\AppData\\Roaming\\nltk_data...\n",
      "[nltk_data]   Package stopwords is already up-to-date!\n"
     ]
    },
    {
     "data": {
      "text/plain": [
       "True"
      ]
     },
     "execution_count": 1,
     "metadata": {},
     "output_type": "execute_result"
    }
   ],
   "source": [
    "from contextualized_topic_models.models.ctm import ZeroShotTM, CombinedTM\n",
    "from contextualized_topic_models.utils.data_preparation import TopicModelDataPreparation, get_bag_of_words\n",
    "from contextualized_topic_models.utils.preprocessing import WhiteSpacePreprocessingStopwords\n",
    "import zipfile\n",
    "import pickle\n",
    "import nltk\n",
    "import tqdm\n",
    "import re\n",
    "import numpy as np\n",
    "import gensim\n",
    "import os\n",
    "import matplotlib.pyplot as plt\n",
    "\n",
    "from nltk.corpus import stopwords as stop_words\n",
    "\n",
    "nltk.download('stopwords')"
   ]
  },
  {
   "cell_type": "code",
   "execution_count": 2,
   "id": "4bb2eaa8",
   "metadata": {},
   "outputs": [],
   "source": [
    "# The same one as in the test_environment.py\n",
    "def progress_bar(iteration, total):\n",
    "    total_len = 100\n",
    "    percent_part = (\"{0:.2f}\").format(100 * (iteration / total))\n",
    "    filled = int(total_len * iteration / total)\n",
    "    bar = '█' * filled + '-' * (total_len - filled)\n",
    "    print(f'\\r Progress: [{bar}] {percent_part}%', end='')\n",
    "    if iteration == total:\n",
    "        print()"
   ]
  },
  {
   "cell_type": "markdown",
   "id": "884d8d9b",
   "metadata": {},
   "source": [
    "## Data preprocessing"
   ]
  },
  {
   "cell_type": "code",
   "execution_count": 3,
   "id": "15c0127c",
   "metadata": {},
   "outputs": [],
   "source": [
    "def process_file(file, filename, texts):\n",
    "    content = file.read(filename)\n",
    "    if type(content) == bytes:\n",
    "        text = content.decode('utf-8')\n",
    "        sentences = re.split(r'(?<!\\w\\.\\w.)(?<![A-Z][a-z]\\.)(?<=\\.|\\?)\\s', text)\n",
    "        for sentence in sentences:\n",
    "            texts.append(sentence)\n",
    "\n",
    "    if len(content.strip()) == 0:\n",
    "        print(\"No text was found\")\n",
    "        return"
   ]
  },
  {
   "cell_type": "code",
   "execution_count": 4,
   "id": "f0a2e53f",
   "metadata": {},
   "outputs": [
    {
     "data": {
      "text/plain": [
       "['ISTANBUL, Oct 23 (Reuters) - Turkish President Tayyip Erdogan said on Saturday that he had told his foreign ministry to expel the ambassadors of the United States and nine other Western countries for demanding the release of philanthropist Osman Kavala.',\n",
       " \"Seven of the ambassadors represent Turkey's NATO allies and the expulsions, if carried out, would open the deepest rift with the West in Erdogan's 19 years in power.\"]"
      ]
     },
     "execution_count": 4,
     "metadata": {},
     "output_type": "execute_result"
    }
   ],
   "source": [
    "texts = []\n",
    "max_len = False\n",
    "with zipfile.ZipFile(\"../data/articles_2021-11-05_1000.zip\", \"r\") as f:\n",
    "# with zipfile.ZipFile(\"../data/articles_2023-01-07_2000.zip\", \"r\") as f:\n",
    "# with zipfile.ZipFile(\"../data/articles_2023-02-04_500.zip\", \"r\") as f:\n",
    "# with zipfile.ZipFile(\"../data/articles_2023-02-09_1000.zip\", \"r\") as f:\n",
    "    total_f = len(f.namelist())\n",
    "    counter = 1\n",
    "    for filename in f.namelist():\n",
    "        counter += 1\n",
    "        process_file(f, filename, texts)\n",
    "    f.close()\n",
    "\n",
    "texts[:2]"
   ]
  },
  {
   "cell_type": "code",
   "execution_count": 5,
   "id": "4101c09d",
   "metadata": {},
   "outputs": [],
   "source": [
    "stopwords = list(stop_words.words(\"english\"))\n",
    "\n",
    "# simple preprocessing that removes stopwords and punctuation\n",
    "sp = WhiteSpacePreprocessingStopwords(texts, min_words=3, stopwords_list=stopwords)\n",
    "\n",
    "# this function returns the pre and the unpre processed documents and a vocab with the most frequent 2K tokens\n",
    "# these tokens are going to be used to represent the topics\n",
    "preprocessed_documents, unpreprocessed_documents, vocab, retained_indices = sp.preprocess() "
   ]
  },
  {
   "cell_type": "code",
   "execution_count": 6,
   "id": "5b588e00",
   "metadata": {},
   "outputs": [
    {
     "data": {
      "text/plain": [
       "['oct reuters turkish president erdogan said saturday told foreign ministry ambassadors united states nine western countries demanding release kavala',\n",
       " 'seven ambassadors turkey nato allies carried would open west erdogan years power']"
      ]
     },
     "execution_count": 6,
     "metadata": {},
     "output_type": "execute_result"
    }
   ],
   "source": [
    "preprocessed_documents[:2]"
   ]
  },
  {
   "cell_type": "code",
   "execution_count": 7,
   "id": "a913e35b",
   "metadata": {},
   "outputs": [
    {
     "name": "stderr",
     "output_type": "stream",
     "text": [
      "C:\\Programs\\miniconda3\\envs\\NN_clone\\lib\\site-packages\\contextualized_topic_models\\utils\\data_preparation.py:64: UserWarning: the longest document in your collection has 137 words, the model instead truncates to 32 tokens.\n",
      "  warnings.warn(\n"
     ]
    },
    {
     "data": {
      "application/vnd.jupyter.widget-view+json": {
       "model_id": "2474a2610b9c4ccdacf93303074faff0",
       "version_major": 2,
       "version_minor": 0
      },
      "text/plain": [
       "Batches:   0%|          | 0/76 [00:00<?, ?it/s]"
      ]
     },
     "metadata": {},
     "output_type": "display_data"
    },
    {
     "data": {
      "text/plain": [
       "<contextualized_topic_models.datasets.dataset.CTMDataset at 0x16fba1d62b0>"
      ]
     },
     "execution_count": 7,
     "metadata": {},
     "output_type": "execute_result"
    }
   ],
   "source": [
    "tp = TopicModelDataPreparation(\"distiluse-base-multilingual-cased\", max_seq_length=32) # instantiate a contextualized model\n",
    "\n",
    "# create the training set\n",
    "training_dataset = tp.fit(text_for_contextual=unpreprocessed_documents, text_for_bow=preprocessed_documents)\n",
    "\n",
    "training_dataset"
   ]
  },
  {
   "cell_type": "code",
   "execution_count": 8,
   "id": "24765136",
   "metadata": {},
   "outputs": [
    {
     "name": "stderr",
     "output_type": "stream",
     "text": [
      "C:\\Programs\\miniconda3\\envs\\NN_clone\\lib\\site-packages\\ipykernel\\ipkernel.py:283: DeprecationWarning: `should_run_async` will not call `transform_cell` automatically in the future. Please pass the result to `transformed_cell` argument and any exception that happen during thetransform in `preprocessing_exc_tuple` in IPython 7.17 and above.\n",
      "  and should_run_async(code)\n"
     ]
    }
   ],
   "source": [
    "word2id = {}\n",
    "id2word = {}\n",
    "for key, val in zip(vocab, retained_indices):\n",
    "    word2id[key] = val\n",
    "    id2word[val] = key"
   ]
  },
  {
   "cell_type": "markdown",
   "id": "5fc70fdd",
   "metadata": {},
   "source": [
    "## Model training, saving, loading"
   ]
  },
  {
   "cell_type": "code",
   "execution_count": 9,
   "id": "ddc0a6cb",
   "metadata": {},
   "outputs": [
    {
     "name": "stderr",
     "output_type": "stream",
     "text": [
      "C:\\Programs\\miniconda3\\envs\\NN_clone\\lib\\site-packages\\ipykernel\\ipkernel.py:283: DeprecationWarning: `should_run_async` will not call `transform_cell` automatically in the future. Please pass the result to `transformed_cell` argument and any exception that happen during thetransform in `preprocessing_exc_tuple` in IPython 7.17 and above.\n",
      "  and should_run_async(code)\n"
     ]
    }
   ],
   "source": [
    "# Not used yet in the experiment, WIP\n",
    "def train_lda(num_topics):\n",
    "    # Create the LDA model\n",
    "    lda_model = gensim.models.ldamulticore.LdaMulticore(corpus=corpus,\n",
    "                                id2word=id2word,\n",
    "                                num_topics=num_topics,\n",
    "                                workers=19,\n",
    "                                random_state=100,\n",
    "                                chunksize=100,\n",
    "                                passes=10,\n",
    "                                iterations=200,\n",
    "                                alpha='symmetric',\n",
    "                                per_word_topics=False\n",
    "                                )\n",
    "    return lda_model"
   ]
  },
  {
   "cell_type": "code",
   "execution_count": 10,
   "id": "9cd275f3",
   "metadata": {},
   "outputs": [
    {
     "name": "stderr",
     "output_type": "stream",
     "text": [
      "C:\\Programs\\miniconda3\\envs\\NN_clone\\lib\\site-packages\\ipykernel\\ipkernel.py:283: DeprecationWarning: `should_run_async` will not call `transform_cell` automatically in the future. Please pass the result to `transformed_cell` argument and any exception that happen during thetransform in `preprocessing_exc_tuple` in IPython 7.17 and above.\n",
      "  and should_run_async(code)\n"
     ]
    }
   ],
   "source": [
    "def train_ntm_model(num_topics=5):\n",
    "    ctm = CombinedTM(bow_size=len(tp.vocab), contextual_size=512, n_components=num_topics, num_epochs=5, batch_size=64)\n",
    "    ctm.fit(training_dataset) # run the model\n",
    "    ctm.save(models_dir='../models/ntm_topics' + str(num_topics) + '/')    \n",
    "    return ctm"
   ]
  },
  {
   "cell_type": "markdown",
   "id": "534dd7ca",
   "metadata": {},
   "source": [
    "## Metrics and evaluation"
   ]
  },
  {
   "cell_type": "code",
   "execution_count": 11,
   "id": "996b28ee",
   "metadata": {},
   "outputs": [
    {
     "name": "stderr",
     "output_type": "stream",
     "text": [
      "C:\\Programs\\miniconda3\\envs\\NN_clone\\lib\\site-packages\\ipykernel\\ipkernel.py:283: DeprecationWarning: `should_run_async` will not call `transform_cell` automatically in the future. Please pass the result to `transformed_cell` argument and any exception that happen during thetransform in `preprocessing_exc_tuple` in IPython 7.17 and above.\n",
      "  and should_run_async(code)\n"
     ]
    }
   ],
   "source": [
    "from sklearn.metrics.pairwise import cosine_similarity\n",
    "\n",
    "def calculate_tus(model, words_num, num_topics, is_lda):\n",
    "    \"\"\"\n",
    "    Calculate Topic Uniqueness Score (TUS) for each topic in a given LDA model.\n",
    "    Returns an array of TUS scores and a mean TUS score for a model.\n",
    "    The lower TUS score means that topics are less similar <-> more unique.\n",
    "    \"\"\"\n",
    "    words_num = model.bow_size\n",
    "#     words_num = 100\n",
    "    num_topics = model.n_components\n",
    "    word_probs = np.zeros((num_topics, words_num))\n",
    "    for topic_id in range(num_topics):\n",
    "        if is_lda:\n",
    "            word_probs[topic_id, :] = np.array([p for _, p in model.get_topic_terms(topic_id, words_num)])\n",
    "        else:\n",
    "            word_probs[topic_id, :] = np.array([p for _, p in model.get_word_distribution_by_topic_id(topic_id)])\n",
    "    \n",
    "    similarities = cosine_similarity(word_probs)\n",
    "    np.fill_diagonal(similarities, 0) # set diagonal to 0 so a topic is not compared with itself\n",
    "    tus_scores = np.mean(similarities, axis=1)\n",
    "    tus_mean = np.mean(tus_scores)\n",
    "    return tus_scores, tus_mean"
   ]
  },
  {
   "cell_type": "code",
   "execution_count": 29,
   "id": "09b13344",
   "metadata": {},
   "outputs": [
    {
     "name": "stderr",
     "output_type": "stream",
     "text": [
      "C:\\Programs\\miniconda3\\envs\\NN_clone\\lib\\site-packages\\ipykernel\\ipkernel.py:283: DeprecationWarning: `should_run_async` will not call `transform_cell` automatically in the future. Please pass the result to `transformed_cell` argument and any exception that happen during thetransform in `preprocessing_exc_tuple` in IPython 7.17 and above.\n",
      "  and should_run_async(code)\n"
     ]
    }
   ],
   "source": [
    "from scipy.spatial import distance\n",
    "\n",
    "def calc_hausdorff_distance(model, num_topics, is_lda):\n",
    "    hd_matrix = np.zeros((num_topics, num_topics))  # initialize a matrix to store HD values\n",
    "    \n",
    "    for i in range(num_topics):\n",
    "        for j in range(i+1, num_topics):\n",
    "            # extract topic distributions for topics i and j\n",
    "            if is_lda:\n",
    "                topic_i_dist = model.get_topic_terms(i)\n",
    "                topic_j_dist = model.get_topic_terms(j)\n",
    "            else:\n",
    "                # open-source ctm implementation does not limit number of words, so we have to limit it to the top-8 manually\n",
    "                topic_i_dist = [[word2id[p]] for p, _ in model.get_word_distribution_by_topic_id(i)[:8]]\n",
    "                topic_j_dist = [[word2id[p]] for p, _ in model.get_word_distribution_by_topic_id(j)[:8]]\n",
    "\n",
    "            # compute asymmetric Hausdorff distance (HD) by saving the biggest of the two\n",
    "            hd = max(distance.directed_hausdorff(topic_i_dist, topic_j_dist), \n",
    "                      distance.directed_hausdorff(topic_j_dist, topic_i_dist))\n",
    "\n",
    "            hd_matrix[i, j] = hd[0]\n",
    "\n",
    "    return np.mean(hd_matrix)"
   ]
  },
  {
   "cell_type": "code",
   "execution_count": 30,
   "id": "a6381d8c",
   "metadata": {},
   "outputs": [
    {
     "name": "stderr",
     "output_type": "stream",
     "text": [
      "C:\\Programs\\miniconda3\\envs\\NN_clone\\lib\\site-packages\\ipykernel\\ipkernel.py:283: DeprecationWarning: `should_run_async` will not call `transform_cell` automatically in the future. Please pass the result to `transformed_cell` argument and any exception that happen during thetransform in `preprocessing_exc_tuple` in IPython 7.17 and above.\n",
      "  and should_run_async(code)\n",
      "C:\\Programs\\miniconda3\\envs\\NN_clone\\lib\\site-packages\\contextualized_topic_models\\models\\ctm.py:669: Warning: This is an experimental feature that we has not been fully tested. Refer to the following issue:https://github.com/MilaNLProc/contextualized-topic-models/issues/38\n",
      "  warnings.warn(\n",
      "C:\\Programs\\miniconda3\\envs\\NN_clone\\lib\\site-packages\\contextualized_topic_models\\models\\ctm.py:669: Warning: This is an experimental feature that we has not been fully tested. Refer to the following issue:https://github.com/MilaNLProc/contextualized-topic-models/issues/38\n",
      "  warnings.warn(\n"
     ]
    },
    {
     "name": "stdout",
     "output_type": "stream",
     "text": [
      " Progress: [███████████████████████████████████████████████████████████████████████████████████████-------------] 87.50%"
     ]
    },
    {
     "name": "stderr",
     "output_type": "stream",
     "text": [
      "C:\\Programs\\miniconda3\\envs\\NN_clone\\lib\\site-packages\\contextualized_topic_models\\models\\ctm.py:669: Warning: This is an experimental feature that we has not been fully tested. Refer to the following issue:https://github.com/MilaNLProc/contextualized-topic-models/issues/38\n",
      "  warnings.warn(\n"
     ]
    },
    {
     "name": "stdout",
     "output_type": "stream",
     "text": [
      "\r",
      " Progress: [████████████████████████████████████████████████████████████████████████████████████████████████████] 100.00%\n"
     ]
    },
    {
     "name": "stderr",
     "output_type": "stream",
     "text": [
      "C:\\Programs\\miniconda3\\envs\\NN_clone\\lib\\site-packages\\contextualized_topic_models\\models\\ctm.py:669: Warning: This is an experimental feature that we has not been fully tested. Refer to the following issue:https://github.com/MilaNLProc/contextualized-topic-models/issues/38\n",
      "  warnings.warn(\n"
     ]
    }
   ],
   "source": [
    "results = {'tus': {}, 'hd': {}}\n",
    "corpuses = [\"classic lda\", \"ntm\"]\n",
    "num_topics_arr = [5, 10, 15, 20]\n",
    "\n",
    "def do_test():\n",
    "    total_iter = len(corpuses) * len(num_topics_arr)\n",
    "    curr_iter = 1\n",
    "    for key in corpuses:\n",
    "        results['tus'][key] = {}\n",
    "        results['hd'][key] = {}\n",
    "        for num_topics in num_topics_arr:\n",
    "            progress_bar(curr_iter, total_iter)\n",
    "            if key=='ntm':\n",
    "                dir_path = f\"../models/ntm_topics{num_topics}/\"\n",
    "                # if directory already exists, model have been saved before\n",
    "                if os.path.isdir(f\"../models/ntm_topics{num_topics}/\"):\n",
    "                    ctm_model = CombinedTM(bow_size=len(tp.vocab), contextual_size=512, n_components=num_topics, num_epochs=10, batch_size=64)\n",
    "                    ctm_model.load(model_dir=dir_path, epoch=4)\n",
    "                else:\n",
    "                    ctm_model = train_ntm_model(num_topics)\n",
    "                _, score_tus = calculate_tus(ctm_model, ctm_model.bow_size, ctm_model.n_components, False)\n",
    "                score_hd = calc_hausdorff_distance(ctm_model, ctm_model.n_components, False)\n",
    "            else:\n",
    "#                 lda_model = train_lda(num_topics)\n",
    "#                 _, score_tus = calculate_tus(lda_model)\n",
    "#                 score_hd = calc_hausdorff_distance(lda_model)\n",
    "                score_tus = 0\n",
    "                score_hd = 0\n",
    "            \n",
    "            results['tus'][key][str(num_topics)] = score_tus\n",
    "            results['hd'][key][str(num_topics)] = score_hd\n",
    "            curr_iter += 1\n",
    "\n",
    "\n",
    "do_test()"
   ]
  },
  {
   "cell_type": "code",
   "execution_count": 31,
   "id": "4679fa2f",
   "metadata": {},
   "outputs": [
    {
     "name": "stderr",
     "output_type": "stream",
     "text": [
      "C:\\Programs\\miniconda3\\envs\\NN_clone\\lib\\site-packages\\ipykernel\\ipkernel.py:283: DeprecationWarning: `should_run_async` will not call `transform_cell` automatically in the future. Please pass the result to `transformed_cell` argument and any exception that happen during thetransform in `preprocessing_exc_tuple` in IPython 7.17 and above.\n",
      "  and should_run_async(code)\n"
     ]
    },
    {
     "data": {
      "text/plain": [
       "{'tus': {'classic lda': {'5': 0, '10': 0, '15': 0, '20': 0},\n",
       "  'ntm': {'5': 0.7996837151773741,\n",
       "   '10': 0.8995028597509419,\n",
       "   '15': 0.9328976683101744,\n",
       "   '20': 0.9494619408702476}},\n",
       " 'hd': {'classic lda': {'5': 0, '10': 0, '15': 0, '20': 0},\n",
       "  'ntm': {'5': 136.64, '10': 135.72, '15': 165.92444444444445, '20': 157.455}}}"
      ]
     },
     "execution_count": 31,
     "metadata": {},
     "output_type": "execute_result"
    }
   ],
   "source": [
    "results"
   ]
  },
  {
   "cell_type": "code",
   "execution_count": 21,
   "id": "3aa8b210",
   "metadata": {},
   "outputs": [
    {
     "name": "stderr",
     "output_type": "stream",
     "text": [
      "C:\\Programs\\miniconda3\\envs\\NN_clone\\lib\\site-packages\\ipykernel\\ipkernel.py:283: DeprecationWarning: `should_run_async` will not call `transform_cell` automatically in the future. Please pass the result to `transformed_cell` argument and any exception that happen during thetransform in `preprocessing_exc_tuple` in IPython 7.17 and above.\n",
      "  and should_run_async(code)\n"
     ]
    },
    {
     "data": {
      "image/png": "[encoded data removed]",
      "text/plain": [
       "<Figure size 432x288 with 1 Axes>"
      ]
     },
     "metadata": {
      "needs_background": "light"
     },
     "output_type": "display_data"
    }
   ],
   "source": [
    "classic_keys = list(results['tus']['classic lda'].keys())\n",
    "extended_keys = list(results['tus']['ntm'].keys())\n",
    "\n",
    "classic_values = list(results['tus']['classic lda'].values())\n",
    "extended_values = list(results['tus']['ntm'].values())\n",
    "\n",
    "x_values = range(len(classic_keys))\n",
    "\n",
    "bar_width = 0.3\n",
    "\n",
    "# plot the bars for the classic dictionary values\n",
    "plt.bar(x_values, classic_values, align='edge', width=-bar_width, alpha=1, label='Classic LDA')\n",
    "\n",
    "# plot the bars for the new dictionary values\n",
    "plt.bar(x_values, extended_values, align='edge', width=bar_width, alpha=1, label='NTM (CombinedTM)')\n",
    "\n",
    "# set the x-axis ticks and labels\n",
    "plt.xticks(x_values, classic_keys)\n",
    "\n",
    "# add a legend to the plot\n",
    "plt.legend()\n",
    "\n",
    "Y_str = \"TUS\"\n",
    "\n",
    "# set the y-axis label\n",
    "plt.ylabel(Y_str)\n",
    "\n",
    "# set the x-axis label\n",
    "plt.xlabel('Number of topics')\n",
    "\n",
    "# show the plot\n",
    "plt.show()"
   ]
  },
  {
   "cell_type": "code",
   "execution_count": 22,
   "id": "53d450d4",
   "metadata": {},
   "outputs": [
    {
     "name": "stderr",
     "output_type": "stream",
     "text": [
      "C:\\Programs\\miniconda3\\envs\\NN_clone\\lib\\site-packages\\ipykernel\\ipkernel.py:283: DeprecationWarning: `should_run_async` will not call `transform_cell` automatically in the future. Please pass the result to `transformed_cell` argument and any exception that happen during thetransform in `preprocessing_exc_tuple` in IPython 7.17 and above.\n",
      "  and should_run_async(code)\n"
     ]
    },
    {
     "data": {
      "image/png": "[encoded data removed]",
      "text/plain": [
       "<Figure size 432x288 with 1 Axes>"
      ]
     },
     "metadata": {
      "needs_background": "light"
     },
     "output_type": "display_data"
    }
   ],
   "source": [
    "classic_keys = list(results['hd']['classic lda'].keys())\n",
    "extended_keys = list(results['hd']['ntm'].keys())\n",
    "\n",
    "classic_values = list(results['hd']['classic lda'].values())\n",
    "extended_values = list(results['hd']['ntm'].values())\n",
    "\n",
    "x_values = range(len(classic_keys))\n",
    "\n",
    "bar_width = 0.3\n",
    "\n",
    "# plot the bars for the classic dictionary values\n",
    "plt.bar(x_values, classic_values, align='edge', width=-bar_width, alpha=1, label='Classic LDA')\n",
    "\n",
    "# plot the bars for the new dictionary values\n",
    "plt.bar(x_values, extended_values, align='edge', width=bar_width, alpha=1, label='NTM (CombinedTM)')\n",
    "\n",
    "# set the x-axis ticks and labels\n",
    "plt.xticks(x_values, classic_keys)\n",
    "\n",
    "# add a legend to the plot\n",
    "plt.legend()\n",
    "\n",
    "Y_str = \"Hausdorff Distance\" \n",
    "\n",
    "# set the y-axis label\n",
    "plt.ylabel(Y_str)\n",
    "\n",
    "# set the x-axis label\n",
    "plt.xlabel('Number of topics')\n",
    "\n",
    "# show the plot\n",
    "plt.show()"
   ]
  },
  {
   "cell_type": "code",
   "execution_count": null,
   "id": "2d3c1a56",
   "metadata": {},
   "outputs": [],
   "source": []
  }
 ],
 "metadata": {
  "kernelspec": {
   "display_name": "Python 3",
   "language": "python",
   "name": "python3"
  },
  "language_info": {
   "codemirror_mode": {
    "name": "ipython",
    "version": 3
   },
   "file_extension": ".py",
   "mimetype": "text/x-python",
   "name": "python",
   "nbconvert_exporter": "python",
   "pygments_lexer": "ipython3",
   "version": "3.9.16"
  }
 },
 "nbformat": 4,
 "nbformat_minor": 5
}
