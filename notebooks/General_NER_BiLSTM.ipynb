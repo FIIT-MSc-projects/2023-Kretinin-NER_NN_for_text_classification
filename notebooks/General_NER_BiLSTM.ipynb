{
 "cells": [
  {
   "cell_type": "code",
   "execution_count": 1,
   "id": "d6c3b533",
   "metadata": {},
   "outputs": [
    {
     "name": "stdout",
     "output_type": "stream",
     "text": [
      "Tensorflow version: 2.10.1\n",
      "GPU detected: [PhysicalDevice(name='/physical_device:GPU:0', device_type='GPU')]\n"
     ]
    }
   ],
   "source": [
    "import tensorflow as tf\n",
    "import pandas as pd\n",
    "import numpy as np\n",
    "import pickle\n",
    "from keras_preprocessing.sequence import pad_sequences\n",
    "from sklearn.model_selection import train_test_split\n",
    "from keras.layers import LSTM, Embedding, Dense, TimeDistributed, Dropout, Bidirectional, Attention\n",
    "from keras import Input\n",
    "from tensorflow.keras.models import Sequential, Model\n",
    "import keras\n",
    "from tqdm import tqdm\n",
    "import matplotlib.pyplot as plt\n",
    "\n",
    "print('Tensorflow version:', tf.__version__)\n",
    "print('GPU detected:', tf.config.list_physical_devices('GPU'))\n",
    "gpus = tf.config.list_physical_devices('GPU')\n",
    "if gpus:\n",
    "    strategy = tf.distribute.OneDeviceStrategy(device=\"/GPU:0\")\n",
    "else:\n",
    "    strategy = tf.distribute.OneDeviceStrategy(device=\"/CPU:0\")"
   ]
  },
  {
   "cell_type": "markdown",
   "id": "4bee1830",
   "metadata": {},
   "source": [
    "## Read and preprocess dataset"
   ]
  },
  {
   "cell_type": "code",
   "execution_count": 2,
   "id": "bfb43059",
   "metadata": {},
   "outputs": [
    {
     "data": {
      "text/html": [
       "<div>\n",
       "<style scoped>\n",
       "    .dataframe tbody tr th:only-of-type {\n",
       "        vertical-align: middle;\n",
       "    }\n",
       "\n",
       "    .dataframe tbody tr th {\n",
       "        vertical-align: top;\n",
       "    }\n",
       "\n",
       "    .dataframe thead th {\n",
       "        text-align: right;\n",
       "    }\n",
       "</style>\n",
       "<table border=\"1\" class=\"dataframe\">\n",
       "  <thead>\n",
       "    <tr style=\"text-align: right;\">\n",
       "      <th></th>\n",
       "      <th>Sentence #</th>\n",
       "      <th>Word</th>\n",
       "      <th>POS</th>\n",
       "      <th>Tag</th>\n",
       "    </tr>\n",
       "  </thead>\n",
       "  <tbody>\n",
       "    <tr>\n",
       "      <th>0</th>\n",
       "      <td>Sentence: 1</td>\n",
       "      <td>Thousands</td>\n",
       "      <td>NNS</td>\n",
       "      <td>O</td>\n",
       "    </tr>\n",
       "    <tr>\n",
       "      <th>1</th>\n",
       "      <td>NaN</td>\n",
       "      <td>of</td>\n",
       "      <td>IN</td>\n",
       "      <td>O</td>\n",
       "    </tr>\n",
       "    <tr>\n",
       "      <th>2</th>\n",
       "      <td>NaN</td>\n",
       "      <td>demonstrators</td>\n",
       "      <td>NNS</td>\n",
       "      <td>O</td>\n",
       "    </tr>\n",
       "    <tr>\n",
       "      <th>3</th>\n",
       "      <td>NaN</td>\n",
       "      <td>have</td>\n",
       "      <td>VBP</td>\n",
       "      <td>O</td>\n",
       "    </tr>\n",
       "    <tr>\n",
       "      <th>4</th>\n",
       "      <td>NaN</td>\n",
       "      <td>marched</td>\n",
       "      <td>VBN</td>\n",
       "      <td>O</td>\n",
       "    </tr>\n",
       "    <tr>\n",
       "      <th>5</th>\n",
       "      <td>NaN</td>\n",
       "      <td>through</td>\n",
       "      <td>IN</td>\n",
       "      <td>O</td>\n",
       "    </tr>\n",
       "    <tr>\n",
       "      <th>6</th>\n",
       "      <td>NaN</td>\n",
       "      <td>London</td>\n",
       "      <td>NNP</td>\n",
       "      <td>B-geo</td>\n",
       "    </tr>\n",
       "    <tr>\n",
       "      <th>7</th>\n",
       "      <td>NaN</td>\n",
       "      <td>to</td>\n",
       "      <td>TO</td>\n",
       "      <td>O</td>\n",
       "    </tr>\n",
       "    <tr>\n",
       "      <th>8</th>\n",
       "      <td>NaN</td>\n",
       "      <td>protest</td>\n",
       "      <td>VB</td>\n",
       "      <td>O</td>\n",
       "    </tr>\n",
       "    <tr>\n",
       "      <th>9</th>\n",
       "      <td>NaN</td>\n",
       "      <td>the</td>\n",
       "      <td>DT</td>\n",
       "      <td>O</td>\n",
       "    </tr>\n",
       "    <tr>\n",
       "      <th>10</th>\n",
       "      <td>NaN</td>\n",
       "      <td>war</td>\n",
       "      <td>NN</td>\n",
       "      <td>O</td>\n",
       "    </tr>\n",
       "    <tr>\n",
       "      <th>11</th>\n",
       "      <td>NaN</td>\n",
       "      <td>in</td>\n",
       "      <td>IN</td>\n",
       "      <td>O</td>\n",
       "    </tr>\n",
       "    <tr>\n",
       "      <th>12</th>\n",
       "      <td>NaN</td>\n",
       "      <td>Iraq</td>\n",
       "      <td>NNP</td>\n",
       "      <td>B-geo</td>\n",
       "    </tr>\n",
       "    <tr>\n",
       "      <th>13</th>\n",
       "      <td>NaN</td>\n",
       "      <td>and</td>\n",
       "      <td>CC</td>\n",
       "      <td>O</td>\n",
       "    </tr>\n",
       "    <tr>\n",
       "      <th>14</th>\n",
       "      <td>NaN</td>\n",
       "      <td>demand</td>\n",
       "      <td>VB</td>\n",
       "      <td>O</td>\n",
       "    </tr>\n",
       "    <tr>\n",
       "      <th>15</th>\n",
       "      <td>NaN</td>\n",
       "      <td>the</td>\n",
       "      <td>DT</td>\n",
       "      <td>O</td>\n",
       "    </tr>\n",
       "    <tr>\n",
       "      <th>16</th>\n",
       "      <td>NaN</td>\n",
       "      <td>withdrawal</td>\n",
       "      <td>NN</td>\n",
       "      <td>O</td>\n",
       "    </tr>\n",
       "    <tr>\n",
       "      <th>17</th>\n",
       "      <td>NaN</td>\n",
       "      <td>of</td>\n",
       "      <td>IN</td>\n",
       "      <td>O</td>\n",
       "    </tr>\n",
       "    <tr>\n",
       "      <th>18</th>\n",
       "      <td>NaN</td>\n",
       "      <td>British</td>\n",
       "      <td>JJ</td>\n",
       "      <td>B-gpe</td>\n",
       "    </tr>\n",
       "    <tr>\n",
       "      <th>19</th>\n",
       "      <td>NaN</td>\n",
       "      <td>troops</td>\n",
       "      <td>NNS</td>\n",
       "      <td>O</td>\n",
       "    </tr>\n",
       "    <tr>\n",
       "      <th>20</th>\n",
       "      <td>NaN</td>\n",
       "      <td>from</td>\n",
       "      <td>IN</td>\n",
       "      <td>O</td>\n",
       "    </tr>\n",
       "    <tr>\n",
       "      <th>21</th>\n",
       "      <td>NaN</td>\n",
       "      <td>that</td>\n",
       "      <td>DT</td>\n",
       "      <td>O</td>\n",
       "    </tr>\n",
       "    <tr>\n",
       "      <th>22</th>\n",
       "      <td>NaN</td>\n",
       "      <td>country</td>\n",
       "      <td>NN</td>\n",
       "      <td>O</td>\n",
       "    </tr>\n",
       "    <tr>\n",
       "      <th>23</th>\n",
       "      <td>NaN</td>\n",
       "      <td>.</td>\n",
       "      <td>.</td>\n",
       "      <td>O</td>\n",
       "    </tr>\n",
       "    <tr>\n",
       "      <th>24</th>\n",
       "      <td>Sentence: 2</td>\n",
       "      <td>Families</td>\n",
       "      <td>NNS</td>\n",
       "      <td>O</td>\n",
       "    </tr>\n",
       "    <tr>\n",
       "      <th>25</th>\n",
       "      <td>NaN</td>\n",
       "      <td>of</td>\n",
       "      <td>IN</td>\n",
       "      <td>O</td>\n",
       "    </tr>\n",
       "    <tr>\n",
       "      <th>26</th>\n",
       "      <td>NaN</td>\n",
       "      <td>soldiers</td>\n",
       "      <td>NNS</td>\n",
       "      <td>O</td>\n",
       "    </tr>\n",
       "    <tr>\n",
       "      <th>27</th>\n",
       "      <td>NaN</td>\n",
       "      <td>killed</td>\n",
       "      <td>VBN</td>\n",
       "      <td>O</td>\n",
       "    </tr>\n",
       "    <tr>\n",
       "      <th>28</th>\n",
       "      <td>NaN</td>\n",
       "      <td>in</td>\n",
       "      <td>IN</td>\n",
       "      <td>O</td>\n",
       "    </tr>\n",
       "    <tr>\n",
       "      <th>29</th>\n",
       "      <td>NaN</td>\n",
       "      <td>the</td>\n",
       "      <td>DT</td>\n",
       "      <td>O</td>\n",
       "    </tr>\n",
       "    <tr>\n",
       "      <th>30</th>\n",
       "      <td>NaN</td>\n",
       "      <td>conflict</td>\n",
       "      <td>NN</td>\n",
       "      <td>O</td>\n",
       "    </tr>\n",
       "    <tr>\n",
       "      <th>31</th>\n",
       "      <td>NaN</td>\n",
       "      <td>joined</td>\n",
       "      <td>VBD</td>\n",
       "      <td>O</td>\n",
       "    </tr>\n",
       "    <tr>\n",
       "      <th>32</th>\n",
       "      <td>NaN</td>\n",
       "      <td>the</td>\n",
       "      <td>DT</td>\n",
       "      <td>O</td>\n",
       "    </tr>\n",
       "    <tr>\n",
       "      <th>33</th>\n",
       "      <td>NaN</td>\n",
       "      <td>protesters</td>\n",
       "      <td>NNS</td>\n",
       "      <td>O</td>\n",
       "    </tr>\n",
       "    <tr>\n",
       "      <th>34</th>\n",
       "      <td>NaN</td>\n",
       "      <td>who</td>\n",
       "      <td>WP</td>\n",
       "      <td>O</td>\n",
       "    </tr>\n",
       "    <tr>\n",
       "      <th>35</th>\n",
       "      <td>NaN</td>\n",
       "      <td>carried</td>\n",
       "      <td>VBD</td>\n",
       "      <td>O</td>\n",
       "    </tr>\n",
       "    <tr>\n",
       "      <th>36</th>\n",
       "      <td>NaN</td>\n",
       "      <td>banners</td>\n",
       "      <td>NNS</td>\n",
       "      <td>O</td>\n",
       "    </tr>\n",
       "    <tr>\n",
       "      <th>37</th>\n",
       "      <td>NaN</td>\n",
       "      <td>with</td>\n",
       "      <td>IN</td>\n",
       "      <td>O</td>\n",
       "    </tr>\n",
       "    <tr>\n",
       "      <th>38</th>\n",
       "      <td>NaN</td>\n",
       "      <td>such</td>\n",
       "      <td>JJ</td>\n",
       "      <td>O</td>\n",
       "    </tr>\n",
       "    <tr>\n",
       "      <th>39</th>\n",
       "      <td>NaN</td>\n",
       "      <td>slogans</td>\n",
       "      <td>NNS</td>\n",
       "      <td>O</td>\n",
       "    </tr>\n",
       "  </tbody>\n",
       "</table>\n",
       "</div>"
      ],
      "text/plain": [
       "     Sentence #           Word  POS    Tag\n",
       "0   Sentence: 1      Thousands  NNS      O\n",
       "1           NaN             of   IN      O\n",
       "2           NaN  demonstrators  NNS      O\n",
       "3           NaN           have  VBP      O\n",
       "4           NaN        marched  VBN      O\n",
       "5           NaN        through   IN      O\n",
       "6           NaN         London  NNP  B-geo\n",
       "7           NaN             to   TO      O\n",
       "8           NaN        protest   VB      O\n",
       "9           NaN            the   DT      O\n",
       "10          NaN            war   NN      O\n",
       "11          NaN             in   IN      O\n",
       "12          NaN           Iraq  NNP  B-geo\n",
       "13          NaN            and   CC      O\n",
       "14          NaN         demand   VB      O\n",
       "15          NaN            the   DT      O\n",
       "16          NaN     withdrawal   NN      O\n",
       "17          NaN             of   IN      O\n",
       "18          NaN        British   JJ  B-gpe\n",
       "19          NaN         troops  NNS      O\n",
       "20          NaN           from   IN      O\n",
       "21          NaN           that   DT      O\n",
       "22          NaN        country   NN      O\n",
       "23          NaN              .    .      O\n",
       "24  Sentence: 2       Families  NNS      O\n",
       "25          NaN             of   IN      O\n",
       "26          NaN       soldiers  NNS      O\n",
       "27          NaN         killed  VBN      O\n",
       "28          NaN             in   IN      O\n",
       "29          NaN            the   DT      O\n",
       "30          NaN       conflict   NN      O\n",
       "31          NaN         joined  VBD      O\n",
       "32          NaN            the   DT      O\n",
       "33          NaN     protesters  NNS      O\n",
       "34          NaN            who   WP      O\n",
       "35          NaN        carried  VBD      O\n",
       "36          NaN        banners  NNS      O\n",
       "37          NaN           with   IN      O\n",
       "38          NaN           such   JJ      O\n",
       "39          NaN        slogans  NNS      O"
      ]
     },
     "execution_count": 2,
     "metadata": {},
     "output_type": "execute_result"
    }
   ],
   "source": [
    "data = pd.read_csv('../kaggle/input/ner_datasetreference.csv', encoding = 'unicode_escape')\n",
    "data[:40]"
   ]
  },
  {
   "cell_type": "code",
   "execution_count": 3,
   "id": "f1937ff7",
   "metadata": {
    "scrolled": true
   },
   "outputs": [
    {
     "data": {
      "text/html": [
       "<div>\n",
       "<style scoped>\n",
       "    .dataframe tbody tr th:only-of-type {\n",
       "        vertical-align: middle;\n",
       "    }\n",
       "\n",
       "    .dataframe tbody tr th {\n",
       "        vertical-align: top;\n",
       "    }\n",
       "\n",
       "    .dataframe thead th {\n",
       "        text-align: right;\n",
       "    }\n",
       "</style>\n",
       "<table border=\"1\" class=\"dataframe\">\n",
       "  <thead>\n",
       "    <tr style=\"text-align: right;\">\n",
       "      <th></th>\n",
       "      <th>Sentence</th>\n",
       "      <th>Word</th>\n",
       "      <th>Tag</th>\n",
       "    </tr>\n",
       "  </thead>\n",
       "  <tbody>\n",
       "    <tr>\n",
       "      <th>0</th>\n",
       "      <td>1</td>\n",
       "      <td>Thousands</td>\n",
       "      <td>O</td>\n",
       "    </tr>\n",
       "    <tr>\n",
       "      <th>1</th>\n",
       "      <td>1</td>\n",
       "      <td>of</td>\n",
       "      <td>O</td>\n",
       "    </tr>\n",
       "    <tr>\n",
       "      <th>2</th>\n",
       "      <td>1</td>\n",
       "      <td>demonstrators</td>\n",
       "      <td>O</td>\n",
       "    </tr>\n",
       "    <tr>\n",
       "      <th>3</th>\n",
       "      <td>1</td>\n",
       "      <td>have</td>\n",
       "      <td>O</td>\n",
       "    </tr>\n",
       "    <tr>\n",
       "      <th>4</th>\n",
       "      <td>1</td>\n",
       "      <td>marched</td>\n",
       "      <td>O</td>\n",
       "    </tr>\n",
       "    <tr>\n",
       "      <th>5</th>\n",
       "      <td>1</td>\n",
       "      <td>through</td>\n",
       "      <td>O</td>\n",
       "    </tr>\n",
       "    <tr>\n",
       "      <th>6</th>\n",
       "      <td>1</td>\n",
       "      <td>London</td>\n",
       "      <td>B-geo</td>\n",
       "    </tr>\n",
       "    <tr>\n",
       "      <th>7</th>\n",
       "      <td>1</td>\n",
       "      <td>to</td>\n",
       "      <td>O</td>\n",
       "    </tr>\n",
       "    <tr>\n",
       "      <th>8</th>\n",
       "      <td>1</td>\n",
       "      <td>protest</td>\n",
       "      <td>O</td>\n",
       "    </tr>\n",
       "    <tr>\n",
       "      <th>9</th>\n",
       "      <td>1</td>\n",
       "      <td>the</td>\n",
       "      <td>O</td>\n",
       "    </tr>\n",
       "    <tr>\n",
       "      <th>10</th>\n",
       "      <td>1</td>\n",
       "      <td>war</td>\n",
       "      <td>O</td>\n",
       "    </tr>\n",
       "    <tr>\n",
       "      <th>11</th>\n",
       "      <td>1</td>\n",
       "      <td>in</td>\n",
       "      <td>O</td>\n",
       "    </tr>\n",
       "    <tr>\n",
       "      <th>12</th>\n",
       "      <td>1</td>\n",
       "      <td>Iraq</td>\n",
       "      <td>B-geo</td>\n",
       "    </tr>\n",
       "    <tr>\n",
       "      <th>13</th>\n",
       "      <td>1</td>\n",
       "      <td>and</td>\n",
       "      <td>O</td>\n",
       "    </tr>\n",
       "    <tr>\n",
       "      <th>14</th>\n",
       "      <td>1</td>\n",
       "      <td>demand</td>\n",
       "      <td>O</td>\n",
       "    </tr>\n",
       "    <tr>\n",
       "      <th>15</th>\n",
       "      <td>1</td>\n",
       "      <td>the</td>\n",
       "      <td>O</td>\n",
       "    </tr>\n",
       "    <tr>\n",
       "      <th>16</th>\n",
       "      <td>1</td>\n",
       "      <td>withdrawal</td>\n",
       "      <td>O</td>\n",
       "    </tr>\n",
       "    <tr>\n",
       "      <th>17</th>\n",
       "      <td>1</td>\n",
       "      <td>of</td>\n",
       "      <td>O</td>\n",
       "    </tr>\n",
       "    <tr>\n",
       "      <th>18</th>\n",
       "      <td>1</td>\n",
       "      <td>British</td>\n",
       "      <td>B-gpe</td>\n",
       "    </tr>\n",
       "    <tr>\n",
       "      <th>19</th>\n",
       "      <td>1</td>\n",
       "      <td>troops</td>\n",
       "      <td>O</td>\n",
       "    </tr>\n",
       "    <tr>\n",
       "      <th>20</th>\n",
       "      <td>1</td>\n",
       "      <td>from</td>\n",
       "      <td>O</td>\n",
       "    </tr>\n",
       "    <tr>\n",
       "      <th>21</th>\n",
       "      <td>1</td>\n",
       "      <td>that</td>\n",
       "      <td>O</td>\n",
       "    </tr>\n",
       "    <tr>\n",
       "      <th>22</th>\n",
       "      <td>1</td>\n",
       "      <td>country</td>\n",
       "      <td>O</td>\n",
       "    </tr>\n",
       "    <tr>\n",
       "      <th>23</th>\n",
       "      <td>1</td>\n",
       "      <td>.</td>\n",
       "      <td>O</td>\n",
       "    </tr>\n",
       "    <tr>\n",
       "      <th>24</th>\n",
       "      <td>2</td>\n",
       "      <td>Families</td>\n",
       "      <td>O</td>\n",
       "    </tr>\n",
       "    <tr>\n",
       "      <th>25</th>\n",
       "      <td>2</td>\n",
       "      <td>of</td>\n",
       "      <td>O</td>\n",
       "    </tr>\n",
       "    <tr>\n",
       "      <th>26</th>\n",
       "      <td>2</td>\n",
       "      <td>soldiers</td>\n",
       "      <td>O</td>\n",
       "    </tr>\n",
       "    <tr>\n",
       "      <th>27</th>\n",
       "      <td>2</td>\n",
       "      <td>killed</td>\n",
       "      <td>O</td>\n",
       "    </tr>\n",
       "    <tr>\n",
       "      <th>28</th>\n",
       "      <td>2</td>\n",
       "      <td>in</td>\n",
       "      <td>O</td>\n",
       "    </tr>\n",
       "    <tr>\n",
       "      <th>29</th>\n",
       "      <td>2</td>\n",
       "      <td>the</td>\n",
       "      <td>O</td>\n",
       "    </tr>\n",
       "  </tbody>\n",
       "</table>\n",
       "</div>"
      ],
      "text/plain": [
       "    Sentence           Word    Tag\n",
       "0          1      Thousands      O\n",
       "1          1             of      O\n",
       "2          1  demonstrators      O\n",
       "3          1           have      O\n",
       "4          1        marched      O\n",
       "5          1        through      O\n",
       "6          1         London  B-geo\n",
       "7          1             to      O\n",
       "8          1        protest      O\n",
       "9          1            the      O\n",
       "10         1            war      O\n",
       "11         1             in      O\n",
       "12         1           Iraq  B-geo\n",
       "13         1            and      O\n",
       "14         1         demand      O\n",
       "15         1            the      O\n",
       "16         1     withdrawal      O\n",
       "17         1             of      O\n",
       "18         1        British  B-gpe\n",
       "19         1         troops      O\n",
       "20         1           from      O\n",
       "21         1           that      O\n",
       "22         1        country      O\n",
       "23         1              .      O\n",
       "24         2       Families      O\n",
       "25         2             of      O\n",
       "26         2       soldiers      O\n",
       "27         2         killed      O\n",
       "28         2             in      O\n",
       "29         2            the      O"
      ]
     },
     "execution_count": 3,
     "metadata": {},
     "output_type": "execute_result"
    }
   ],
   "source": [
    "data['Sentence #'] = data['Sentence #'].fillna(method='ffill')\n",
    "data['Sentence #'] = data['Sentence #'].str.replace('Sentence: ', '').astype(int)\n",
    "data = data.rename(columns={'Sentence #': 'Sentence'})\n",
    "data = data[['Sentence', 'Word', 'Tag']]\n",
    "data[:30]"
   ]
  },
  {
   "cell_type": "code",
   "execution_count": 4,
   "id": "888cec3c",
   "metadata": {},
   "outputs": [
    {
     "name": "stdout",
     "output_type": "stream",
     "text": [
      "Number of unique entities: 17\n"
     ]
    },
    {
     "data": {
      "text/plain": [
       "array(['O', 'B-geo', 'B-gpe', 'B-per', 'I-geo', 'B-org', 'I-org', 'B-tim',\n",
       "       'B-art', 'I-art', 'I-per', 'I-gpe', 'I-tim', 'B-nat', 'B-eve',\n",
       "       'I-eve', 'I-nat'], dtype=object)"
      ]
     },
     "execution_count": 4,
     "metadata": {},
     "output_type": "execute_result"
    }
   ],
   "source": [
    "print(f\"Number of unique entities: {len(data['Tag'].unique())}\")\n",
    "data['Tag'].unique()"
   ]
  },
  {
   "cell_type": "code",
   "execution_count": 5,
   "id": "e2c350f5",
   "metadata": {},
   "outputs": [],
   "source": [
    "words = list(set(data['Word'].values))\n",
    "words.append(\"ENDPAD\")\n",
    "num_words = len(words)\n",
    "\n",
    "tags = list(set(data['Tag'].values))\n",
    "num_tags = len(tags)"
   ]
  },
  {
   "cell_type": "markdown",
   "id": "d8af9d36",
   "metadata": {},
   "source": [
    "To obtain only useful for us data we can build a SentenceGetter class object, which will parse dataset and give us processed sentences to work with."
   ]
  },
  {
   "cell_type": "code",
   "execution_count": 6,
   "id": "103e732b",
   "metadata": {},
   "outputs": [
    {
     "data": {
      "text/plain": [
       "[[('Thousands', 'O'),\n",
       "  ('of', 'O'),\n",
       "  ('demonstrators', 'O'),\n",
       "  ('have', 'O'),\n",
       "  ('marched', 'O'),\n",
       "  ('through', 'O'),\n",
       "  ('London', 'B-geo'),\n",
       "  ('to', 'O'),\n",
       "  ('protest', 'O'),\n",
       "  ('the', 'O'),\n",
       "  ('war', 'O'),\n",
       "  ('in', 'O'),\n",
       "  ('Iraq', 'B-geo'),\n",
       "  ('and', 'O'),\n",
       "  ('demand', 'O'),\n",
       "  ('the', 'O'),\n",
       "  ('withdrawal', 'O'),\n",
       "  ('of', 'O'),\n",
       "  ('British', 'B-gpe'),\n",
       "  ('troops', 'O'),\n",
       "  ('from', 'O'),\n",
       "  ('that', 'O'),\n",
       "  ('country', 'O'),\n",
       "  ('.', 'O')]]"
      ]
     },
     "execution_count": 6,
     "metadata": {},
     "output_type": "execute_result"
    }
   ],
   "source": [
    "class SentenceGetter(object):\n",
    "    def __init__(self, data):\n",
    "        self.n_sent = 1\n",
    "        self.data = data\n",
    "        self.empty = False\n",
    "        agg_func = lambda s: [(w, t) for w, t in zip(s['Word'].values.tolist(), s['Tag'].values.tolist())]\n",
    "        self.grouped = self.data.groupby('Sentence').apply(agg_func)\n",
    "        self.sentences = [s for s in self.grouped]\n",
    "\n",
    "    def get_next(self):\n",
    "        try:\n",
    "            s = self.grouped[\"{}\".format(self.n_sent)]\n",
    "            self.n_sent += 1\n",
    "            return s\n",
    "        except:\n",
    "            return None\n",
    "\n",
    "# Init SentenceGetter object to preprocess and parse dataset into separate sentences\n",
    "# 'sentences' object is an array of arrays, which contains tuples of word-entity pairs\n",
    "getter = SentenceGetter(data)\n",
    "sentences = getter.sentences\n",
    "sentences[:1]"
   ]
  },
  {
   "cell_type": "markdown",
   "id": "2243c725",
   "metadata": {},
   "source": [
    "At last, we should separate obtained sentences to the training and testing parts in relation 9:1 respectively."
   ]
  },
  {
   "cell_type": "code",
   "execution_count": 7,
   "id": "8d2bbd16",
   "metadata": {},
   "outputs": [],
   "source": [
    "word2idx = {w: i for i, w in enumerate(words)}\n",
    "tag2idx = {t: i for i, t in enumerate(tags)}\n",
    "\n",
    "max_len = data.groupby(['Sentence'], sort=False).size().max()\n",
    "\n",
    "x = [[word2idx[w[0]] for w in s] for s in sentences]\n",
    "x = pad_sequences(maxlen=max_len, sequences=x, padding=\"post\", value=word2idx[\"ENDPAD\"])\n",
    "\n",
    "y = [[tag2idx[w[1]] for w in s] for s in sentences]\n",
    "y = pad_sequences(maxlen=max_len, sequences=y, padding=\"post\", value=tag2idx['O'])\n",
    "\n",
    "x_train, x_test, y_train, y_test = train_test_split(x, y, test_size=0.2, random_state=1)"
   ]
  },
  {
   "cell_type": "code",
   "execution_count": 8,
   "id": "8f9f0c04",
   "metadata": {},
   "outputs": [
    {
     "data": {
      "text/plain": [
       "[[('Thousands', 'O'),\n",
       "  ('of', 'O'),\n",
       "  ('demonstrators', 'O'),\n",
       "  ('have', 'O'),\n",
       "  ('marched', 'O'),\n",
       "  ('through', 'O'),\n",
       "  ('London', 'B-geo'),\n",
       "  ('to', 'O'),\n",
       "  ('protest', 'O'),\n",
       "  ('the', 'O'),\n",
       "  ('war', 'O'),\n",
       "  ('in', 'O'),\n",
       "  ('Iraq', 'B-geo'),\n",
       "  ('and', 'O'),\n",
       "  ('demand', 'O'),\n",
       "  ('the', 'O'),\n",
       "  ('withdrawal', 'O'),\n",
       "  ('of', 'O'),\n",
       "  ('British', 'B-gpe'),\n",
       "  ('troops', 'O'),\n",
       "  ('from', 'O'),\n",
       "  ('that', 'O'),\n",
       "  ('country', 'O'),\n",
       "  ('.', 'O')],\n",
       " [('Families', 'O'),\n",
       "  ('of', 'O'),\n",
       "  ('soldiers', 'O'),\n",
       "  ('killed', 'O'),\n",
       "  ('in', 'O'),\n",
       "  ('the', 'O'),\n",
       "  ('conflict', 'O'),\n",
       "  ('joined', 'O'),\n",
       "  ('the', 'O'),\n",
       "  ('protesters', 'O'),\n",
       "  ('who', 'O'),\n",
       "  ('carried', 'O'),\n",
       "  ('banners', 'O'),\n",
       "  ('with', 'O'),\n",
       "  ('such', 'O'),\n",
       "  ('slogans', 'O'),\n",
       "  ('as', 'O'),\n",
       "  ('\"', 'O'),\n",
       "  ('Bush', 'B-per'),\n",
       "  ('Number', 'O'),\n",
       "  ('One', 'O'),\n",
       "  ('Terrorist', 'O'),\n",
       "  ('\"', 'O'),\n",
       "  ('and', 'O'),\n",
       "  ('\"', 'O'),\n",
       "  ('Stop', 'O'),\n",
       "  ('the', 'O'),\n",
       "  ('Bombings', 'O'),\n",
       "  ('.', 'O'),\n",
       "  ('\"', 'O')]]"
      ]
     },
     "execution_count": 8,
     "metadata": {},
     "output_type": "execute_result"
    }
   ],
   "source": [
    "sentences[:2]"
   ]
  },
  {
   "cell_type": "markdown",
   "id": "bc80cfc5",
   "metadata": {},
   "source": [
    "## Model definition"
   ]
  },
  {
   "cell_type": "markdown",
   "id": "83bd29ba",
   "metadata": {},
   "source": [
    "For a NER task we created a NN using 2x BidirectionalLSTM (BiLSTM) to find the relation and the context between words and their position in the text. There are 2 of them (BiLSTM) because if we will increase the number of unitsof the layer, it will process more words and find more relations, but quality will be lower (less training time). Therefore we decided to add anothe layer after a Dropout, so the NN will be able to train longer and to find more reliable connectiuions between words. Besides that, NN contains an Embedding layer to reduce a dimensionality of an input vector. At last, we have used an Attention layer to emphasize the most important words relations obtained from BiLSTM, which will be processed by Dense layers after that."
   ]
  },
  {
   "cell_type": "code",
   "execution_count": 9,
   "id": "b7624e6e",
   "metadata": {},
   "outputs": [],
   "source": [
    "def build_model(dropout, optimizer_name, learning_rate):\n",
    "    input_layer = Input(shape=(max_len,))\n",
    "    embed = Embedding(input_dim=len(words), output_dim=100, input_length=max_len)(input_layer)\n",
    "    rnn_1 = Bidirectional(LSTM(units=100, return_sequences=True, recurrent_dropout=0))(embed)\n",
    "    rnn_drop = Dropout(dropout)(rnn_1)\n",
    "    rnn_2 = Bidirectional(LSTM(units=100, return_sequences=True, recurrent_dropout=0))(rnn_drop)\n",
    "    attention = Attention()([rnn_2, rnn_2])\n",
    "    dense_1 = TimeDistributed(Dense(len(tags) * 4, activation=\"relu\"))(rnn_2)\n",
    "    dense_2 = TimeDistributed(Dense(len(tags) * 2, activation=\"relu\"))(dense_1)\n",
    "    out = keras.layers.Dense(units=len(tags), activation='softmax')(dense_2)\n",
    "    \n",
    "    \n",
    "    model = Model(input_layer, out)\n",
    "    \n",
    "    model.summary()\n",
    "\n",
    "    if optimizer_name == \"Adam\":\n",
    "        optimizer = tf.keras.optimizers.Adam(learning_rate)\n",
    "    elif optimizer_name == \"Nadam\":\n",
    "        optimizer = tf.keras.optimizers.Nadam(learning_rate)\n",
    "    elif optimizer_name == \"RMSprop\":\n",
    "        optimizer = tf.keras.optimizers.RMSprop(learning_rate)\n",
    "\n",
    "    model.compile(optimizer=optimizer,\n",
    "                  loss=\"sparse_categorical_crossentropy\",\n",
    "                  metrics=[\"accuracy\"])\n",
    "    \n",
    "    return model"
   ]
  },
  {
   "cell_type": "markdown",
   "id": "9ad7c091",
   "metadata": {},
   "source": [
    "**Note**: we've encountered a strange problem (probably bug with wandb/tensorflow), when EarlyStopping was freezing a sweep after a first run. There was no error, and program wasn't stopping as well. Sadly, we were unable to fix that, and had to remove this part of the code temporarily. Therefore we have found out, that in average model began to overfit after 6th - 7th epoch, so we set the epoch number for a sweep to the constant value."
   ]
  },
  {
   "cell_type": "code",
   "execution_count": 11,
   "id": "e1fef726",
   "metadata": {},
   "outputs": [],
   "source": [
    "import wandb\n",
    "from wandb.keras import WandbCallback\n",
    "from tensorflow.keras.callbacks import EarlyStopping\n",
    "\n",
    "early_stop = EarlyStopping(monitor='val_loss', mode='min', patience=0)\n",
    "\n",
    "def train():    \n",
    "    config_defaults = {\n",
    "        'dropout': 0,\n",
    "        'batch_size_divisor': 4,\n",
    "        'optimizer': 'Adam',\n",
    "        'learning_rate': 0.01,\n",
    "        'epochs': 1\n",
    "    }\n",
    "\n",
    "    wandb.init(config=config_defaults)\n",
    "\n",
    "    config = wandb.config\n",
    "    \n",
    "    with strategy.scope():\n",
    "        model = build_model(config.dropout, config.optimizer, config.learning_rate)\n",
    "\n",
    "        history = model.fit(\n",
    "            x=x_train,\n",
    "            y=y_train,\n",
    "            validation_split=0.1,\n",
    "            batch_size=int(max_len/config.batch_size_divisor),\n",
    "            epochs=config.epochs,\n",
    "            verbose=1,\n",
    "            callbacks=[\n",
    "                early_stop,\n",
    "                WandbCallback()\n",
    "            ]\n",
    "        )\n",
    "\n",
    "    metrics = {\n",
    "        'val_loss': history.history['val_loss'][-1],\n",
    "        'val_accuracy': history.history['val_accuracy'][-1],\n",
    "    }\n",
    "\n",
    "    wandb.log(metrics)\n",
    "\n",
    "#     print(config)"
   ]
  },
  {
   "cell_type": "markdown",
   "id": "e89f258c",
   "metadata": {},
   "source": [
    "For the sweep we have selected the following hyperparameters:\n",
    " - dropout rate\n",
    " - divisor for a batch size (since there is no need to process hunderds of words, as there will be no relation in a such a long sequence)\n",
    " - optimizer\n",
    " - learning rate\n",
    " - number of epochs (constant due to the bug with EarlyStopping, described above)"
   ]
  },
  {
   "cell_type": "code",
   "execution_count": null,
   "id": "4fe14e2f",
   "metadata": {
    "scrolled": true
   },
   "outputs": [
    {
     "name": "stdout",
     "output_type": "stream",
     "text": [
      "Create sweep with ID: 7owi962b\n",
      "Sweep URL: https://wandb.ai/xkretinin/uncategorized/sweeps/7owi962b\n"
     ]
    },
    {
     "name": "stderr",
     "output_type": "stream",
     "text": [
      "\u001b[34m\u001b[1mwandb\u001b[0m: Agent Starting Run: p4ajrvs0 with config:\n",
      "\u001b[34m\u001b[1mwandb\u001b[0m: \tbatch_size_divisor: 1\n",
      "\u001b[34m\u001b[1mwandb\u001b[0m: \tdropout: 0.3\n",
      "\u001b[34m\u001b[1mwandb\u001b[0m: \tepochs: 6\n",
      "\u001b[34m\u001b[1mwandb\u001b[0m: \tlearning_rate: 0.0002603713257115396\n",
      "\u001b[34m\u001b[1mwandb\u001b[0m: \toptimizer: RMSprop\n",
      "\u001b[34m\u001b[1mwandb\u001b[0m: Currently logged in as: \u001b[33mxkretinin\u001b[0m. Use \u001b[1m`wandb login --relogin`\u001b[0m to force relogin\n"
     ]
    },
    {
     "data": {
      "text/html": [
       "wandb version 0.15.4 is available!  To upgrade, please run:\n",
       " $ pip install wandb --upgrade"
      ],
      "text/plain": [
       "<IPython.core.display.HTML object>"
      ]
     },
     "metadata": {},
     "output_type": "display_data"
    },
    {
     "data": {
      "text/html": [
       "Tracking run with wandb version 0.13.10"
      ],
      "text/plain": [
       "<IPython.core.display.HTML object>"
      ]
     },
     "metadata": {},
     "output_type": "display_data"
    },
    {
     "data": {
      "text/html": [
       "Run data is saved locally in <code>C:\\Programming\\2023-Kretinin-NER_NN_for_text_classification\\notebooks\\wandb\\run-20230608_150515-p4ajrvs0</code>"
      ],
      "text/plain": [
       "<IPython.core.display.HTML object>"
      ]
     },
     "metadata": {},
     "output_type": "display_data"
    },
    {
     "data": {
      "text/html": [
       "Syncing run <strong><a href='https://wandb.ai/xkretinin/uncategorized/runs/p4ajrvs0' target=\"_blank\">golden-sweep-1</a></strong> to <a href='https://wandb.ai/xkretinin/uncategorized' target=\"_blank\">Weights & Biases</a> (<a href='https://wandb.me/run' target=\"_blank\">docs</a>)<br/>Sweep page: <a href='https://wandb.ai/xkretinin/uncategorized/sweeps/7owi962b' target=\"_blank\">https://wandb.ai/xkretinin/uncategorized/sweeps/7owi962b</a>"
      ],
      "text/plain": [
       "<IPython.core.display.HTML object>"
      ]
     },
     "metadata": {},
     "output_type": "display_data"
    },
    {
     "data": {
      "text/html": [
       " View project at <a href='https://wandb.ai/xkretinin/uncategorized' target=\"_blank\">https://wandb.ai/xkretinin/uncategorized</a>"
      ],
      "text/plain": [
       "<IPython.core.display.HTML object>"
      ]
     },
     "metadata": {},
     "output_type": "display_data"
    },
    {
     "data": {
      "text/html": [
       " View sweep at <a href='https://wandb.ai/xkretinin/uncategorized/sweeps/7owi962b' target=\"_blank\">https://wandb.ai/xkretinin/uncategorized/sweeps/7owi962b</a>"
      ],
      "text/plain": [
       "<IPython.core.display.HTML object>"
      ]
     },
     "metadata": {},
     "output_type": "display_data"
    },
    {
     "data": {
      "text/html": [
       " View run at <a href='https://wandb.ai/xkretinin/uncategorized/runs/p4ajrvs0' target=\"_blank\">https://wandb.ai/xkretinin/uncategorized/runs/p4ajrvs0</a>"
      ],
      "text/plain": [
       "<IPython.core.display.HTML object>"
      ]
     },
     "metadata": {},
     "output_type": "display_data"
    },
    {
     "name": "stdout",
     "output_type": "stream",
     "text": [
      "Model: \"model\"\n",
      "_________________________________________________________________\n",
      " Layer (type)                Output Shape              Param #   \n",
      "=================================================================\n",
      " input_1 (InputLayer)        [(None, 104)]             0         \n",
      "                                                                 \n",
      " embedding (Embedding)       (None, 104, 100)          3517900   \n",
      "                                                                 \n",
      " bidirectional (Bidirectiona  (None, 104, 200)         160800    \n",
      " l)                                                              \n",
      "                                                                 \n",
      " dropout (Dropout)           (None, 104, 200)          0         \n",
      "                                                                 \n",
      " bidirectional_1 (Bidirectio  (None, 104, 200)         240800    \n",
      " nal)                                                            \n",
      "                                                                 \n",
      " time_distributed (TimeDistr  (None, 104, 68)          13668     \n",
      " ibuted)                                                         \n",
      "                                                                 \n",
      " time_distributed_1 (TimeDis  (None, 104, 34)          2346      \n",
      " tributed)                                                       \n",
      "                                                                 \n",
      " dense_2 (Dense)             (None, 104, 17)           595       \n",
      "                                                                 \n",
      "=================================================================\n",
      "Total params: 3,936,109\n",
      "Trainable params: 3,936,109\n",
      "Non-trainable params: 0\n",
      "_________________________________________________________________\n"
     ]
    },
    {
     "name": "stderr",
     "output_type": "stream",
     "text": [
      "\u001b[34m\u001b[1mwandb\u001b[0m: \u001b[33mWARNING\u001b[0m The save_model argument by default saves the model in the HDF5 format that cannot save custom objects like subclassed models and custom layers. This behavior will be deprecated in a future release in favor of the SavedModel format. Meanwhile, the HDF5 model is saved as W&B files and the SavedModel as W&B Artifacts.\n"
     ]
    },
    {
     "name": "stdout",
     "output_type": "stream",
     "text": [
      "Epoch 1/6\n",
      "332/333 [============================>.] - ETA: 0s - loss: 0.2150 - accuracy: 0.9650"
     ]
    },
    {
     "name": "stderr",
     "output_type": "stream",
     "text": [
      "WARNING:absl:Found untraced functions such as lstm_cell_1_layer_call_fn, lstm_cell_1_layer_call_and_return_conditional_losses, lstm_cell_2_layer_call_fn, lstm_cell_2_layer_call_and_return_conditional_losses, lstm_cell_4_layer_call_fn while saving (showing 5 of 8). These functions will not be directly callable after loading.\n"
     ]
    },
    {
     "name": "stdout",
     "output_type": "stream",
     "text": [
      "INFO:tensorflow:Assets written to: C:\\Programming\\2023-Kretinin-NER_NN_for_text_classification\\notebooks\\wandb\\run-20230608_150515-p4ajrvs0\\files\\model-best\\assets\n"
     ]
    },
    {
     "name": "stderr",
     "output_type": "stream",
     "text": [
      "INFO:tensorflow:Assets written to: C:\\Programming\\2023-Kretinin-NER_NN_for_text_classification\\notebooks\\wandb\\run-20230608_150515-p4ajrvs0\\files\\model-best\\assets\n",
      "\u001b[34m\u001b[1mwandb\u001b[0m: Adding directory to artifact (C:\\Programming\\2023-Kretinin-NER_NN_for_text_classification\\notebooks\\wandb\\run-20230608_150515-p4ajrvs0\\files\\model-best)... Done. 0.1s\n"
     ]
    },
    {
     "name": "stdout",
     "output_type": "stream",
     "text": [
      "333/333 [==============================] - 68s 167ms/step - loss: 0.2150 - accuracy: 0.9650 - val_loss: 0.1057 - val_accuracy: 0.9679\n",
      "Epoch 2/6\n",
      "332/333 [============================>.] - ETA: 0s - loss: 0.0765 - accuracy: 0.9777"
     ]
    },
    {
     "name": "stderr",
     "output_type": "stream",
     "text": [
      "WARNING:absl:Found untraced functions such as lstm_cell_1_layer_call_fn, lstm_cell_1_layer_call_and_return_conditional_losses, lstm_cell_2_layer_call_fn, lstm_cell_2_layer_call_and_return_conditional_losses, lstm_cell_4_layer_call_fn while saving (showing 5 of 8). These functions will not be directly callable after loading.\n"
     ]
    },
    {
     "name": "stdout",
     "output_type": "stream",
     "text": [
      "INFO:tensorflow:Assets written to: C:\\Programming\\2023-Kretinin-NER_NN_for_text_classification\\notebooks\\wandb\\run-20230608_150515-p4ajrvs0\\files\\model-best\\assets\n"
     ]
    },
    {
     "name": "stderr",
     "output_type": "stream",
     "text": [
      "INFO:tensorflow:Assets written to: C:\\Programming\\2023-Kretinin-NER_NN_for_text_classification\\notebooks\\wandb\\run-20230608_150515-p4ajrvs0\\files\\model-best\\assets\n",
      "\u001b[34m\u001b[1mwandb\u001b[0m: Adding directory to artifact (C:\\Programming\\2023-Kretinin-NER_NN_for_text_classification\\notebooks\\wandb\\run-20230608_150515-p4ajrvs0\\files\\model-best)... Done. 0.1s\n"
     ]
    },
    {
     "name": "stdout",
     "output_type": "stream",
     "text": [
      "333/333 [==============================] - 53s 160ms/step - loss: 0.0765 - accuracy: 0.9777 - val_loss: 0.0624 - val_accuracy: 0.9829\n",
      "Epoch 3/6\n",
      "332/333 [============================>.] - ETA: 0s - loss: 0.0531 - accuracy: 0.9853"
     ]
    },
    {
     "name": "stderr",
     "output_type": "stream",
     "text": [
      "WARNING:absl:Found untraced functions such as lstm_cell_1_layer_call_fn, lstm_cell_1_layer_call_and_return_conditional_losses, lstm_cell_2_layer_call_fn, lstm_cell_2_layer_call_and_return_conditional_losses, lstm_cell_4_layer_call_fn while saving (showing 5 of 8). These functions will not be directly callable after loading.\n"
     ]
    },
    {
     "name": "stdout",
     "output_type": "stream",
     "text": [
      "INFO:tensorflow:Assets written to: C:\\Programming\\2023-Kretinin-NER_NN_for_text_classification\\notebooks\\wandb\\run-20230608_150515-p4ajrvs0\\files\\model-best\\assets\n"
     ]
    },
    {
     "name": "stderr",
     "output_type": "stream",
     "text": [
      "INFO:tensorflow:Assets written to: C:\\Programming\\2023-Kretinin-NER_NN_for_text_classification\\notebooks\\wandb\\run-20230608_150515-p4ajrvs0\\files\\model-best\\assets\n",
      "\u001b[34m\u001b[1mwandb\u001b[0m: Adding directory to artifact (C:\\Programming\\2023-Kretinin-NER_NN_for_text_classification\\notebooks\\wandb\\run-20230608_150515-p4ajrvs0\\files\\model-best)... Done. 0.1s\n"
     ]
    },
    {
     "name": "stdout",
     "output_type": "stream",
     "text": [
      "333/333 [==============================] - 54s 162ms/step - loss: 0.0531 - accuracy: 0.9853 - val_loss: 0.0528 - val_accuracy: 0.9855\n",
      "Epoch 4/6\n",
      "332/333 [============================>.] - ETA: 0s - loss: 0.0437 - accuracy: 0.9873"
     ]
    },
    {
     "name": "stderr",
     "output_type": "stream",
     "text": [
      "WARNING:absl:Found untraced functions such as lstm_cell_1_layer_call_fn, lstm_cell_1_layer_call_and_return_conditional_losses, lstm_cell_2_layer_call_fn, lstm_cell_2_layer_call_and_return_conditional_losses, lstm_cell_4_layer_call_fn while saving (showing 5 of 8). These functions will not be directly callable after loading.\n"
     ]
    },
    {
     "name": "stdout",
     "output_type": "stream",
     "text": [
      "INFO:tensorflow:Assets written to: C:\\Programming\\2023-Kretinin-NER_NN_for_text_classification\\notebooks\\wandb\\run-20230608_150515-p4ajrvs0\\files\\model-best\\assets\n"
     ]
    },
    {
     "name": "stderr",
     "output_type": "stream",
     "text": [
      "INFO:tensorflow:Assets written to: C:\\Programming\\2023-Kretinin-NER_NN_for_text_classification\\notebooks\\wandb\\run-20230608_150515-p4ajrvs0\\files\\model-best\\assets\n",
      "\u001b[34m\u001b[1mwandb\u001b[0m: Adding directory to artifact (C:\\Programming\\2023-Kretinin-NER_NN_for_text_classification\\notebooks\\wandb\\run-20230608_150515-p4ajrvs0\\files\\model-best)... Done. 0.2s\n"
     ]
    },
    {
     "name": "stdout",
     "output_type": "stream",
     "text": [
      "333/333 [==============================] - 55s 166ms/step - loss: 0.0437 - accuracy: 0.9873 - val_loss: 0.0438 - val_accuracy: 0.9874\n",
      "Epoch 5/6\n",
      "333/333 [==============================] - 28s 85ms/step - loss: 0.0368 - accuracy: 0.9892 - val_loss: 0.0459 - val_accuracy: 0.9864\n"
     ]
    },
    {
     "data": {
      "text/html": [
       "Waiting for W&B process to finish... <strong style=\"color:green\">(success).</strong>"
      ],
      "text/plain": [
       "<IPython.core.display.HTML object>"
      ]
     },
     "metadata": {},
     "output_type": "display_data"
    },
    {
     "data": {
      "application/vnd.jupyter.widget-view+json": {
       "model_id": "34e4eb34ce8643309ad8541b7687e730",
       "version_major": 2,
       "version_minor": 0
      },
      "text/plain": [
       "VBox(children=(Label(value='167.538 MB of 167.539 MB uploaded (0.098 MB deduped)\\r'), FloatProgress(value=0.99…"
      ]
     },
     "metadata": {},
     "output_type": "display_data"
    },
    {
     "data": {
      "text/html": [
       "<style>\n",
       "    table.wandb td:nth-child(1) { padding: 0 10px; text-align: left ; width: auto;} td:nth-child(2) {text-align: left ; width: 100%}\n",
       "    .wandb-row { display: flex; flex-direction: row; flex-wrap: wrap; justify-content: flex-start; width: 100% }\n",
       "    .wandb-col { display: flex; flex-direction: column; flex-basis: 100%; flex: 1; padding: 10px; }\n",
       "    </style>\n",
       "<div class=\"wandb-row\"><div class=\"wandb-col\"><h3>Run history:</h3><br/><table class=\"wandb\"><tr><td>accuracy</td><td>▁▅▇▇█</td></tr><tr><td>epoch</td><td>▁▃▅▆█</td></tr><tr><td>loss</td><td>█▃▂▁▁</td></tr><tr><td>val_accuracy</td><td>▁▆▇███</td></tr><tr><td>val_loss</td><td>█▃▂▁▁▁</td></tr></table><br/></div><div class=\"wandb-col\"><h3>Run summary:</h3><br/><table class=\"wandb\"><tr><td>accuracy</td><td>0.98919</td></tr><tr><td>best_epoch</td><td>3</td></tr><tr><td>best_val_loss</td><td>0.04382</td></tr><tr><td>epoch</td><td>4</td></tr><tr><td>loss</td><td>0.03683</td></tr><tr><td>val_accuracy</td><td>0.98636</td></tr><tr><td>val_loss</td><td>0.04589</td></tr></table><br/></div></div>"
      ],
      "text/plain": [
       "<IPython.core.display.HTML object>"
      ]
     },
     "metadata": {},
     "output_type": "display_data"
    },
    {
     "data": {
      "text/html": [
       " View run <strong style=\"color:#cdcd00\">golden-sweep-1</strong> at: <a href='https://wandb.ai/xkretinin/uncategorized/runs/p4ajrvs0' target=\"_blank\">https://wandb.ai/xkretinin/uncategorized/runs/p4ajrvs0</a><br/>Synced 5 W&B file(s), 1 media file(s), 16 artifact file(s) and 1 other file(s)"
      ],
      "text/plain": [
       "<IPython.core.display.HTML object>"
      ]
     },
     "metadata": {},
     "output_type": "display_data"
    },
    {
     "data": {
      "text/html": [
       "Find logs at: <code>.\\wandb\\run-20230608_150515-p4ajrvs0\\logs</code>"
      ],
      "text/plain": [
       "<IPython.core.display.HTML object>"
      ]
     },
     "metadata": {},
     "output_type": "display_data"
    },
    {
     "name": "stderr",
     "output_type": "stream",
     "text": [
      "\u001b[34m\u001b[1mwandb\u001b[0m: Agent Starting Run: 1wau2yz9 with config:\n",
      "\u001b[34m\u001b[1mwandb\u001b[0m: \tbatch_size_divisor: 1\n",
      "\u001b[34m\u001b[1mwandb\u001b[0m: \tdropout: 0.2\n",
      "\u001b[34m\u001b[1mwandb\u001b[0m: \tepochs: 6\n",
      "\u001b[34m\u001b[1mwandb\u001b[0m: \tlearning_rate: 0.000636157966048447\n",
      "\u001b[34m\u001b[1mwandb\u001b[0m: \toptimizer: Nadam\n"
     ]
    },
    {
     "data": {
      "text/html": [
       "wandb version 0.15.4 is available!  To upgrade, please run:\n",
       " $ pip install wandb --upgrade"
      ],
      "text/plain": [
       "<IPython.core.display.HTML object>"
      ]
     },
     "metadata": {},
     "output_type": "display_data"
    },
    {
     "data": {
      "text/html": [
       "Tracking run with wandb version 0.13.10"
      ],
      "text/plain": [
       "<IPython.core.display.HTML object>"
      ]
     },
     "metadata": {},
     "output_type": "display_data"
    },
    {
     "data": {
      "text/html": [
       "Run data is saved locally in <code>C:\\Programming\\2023-Kretinin-NER_NN_for_text_classification\\notebooks\\wandb\\run-20230608_150959-1wau2yz9</code>"
      ],
      "text/plain": [
       "<IPython.core.display.HTML object>"
      ]
     },
     "metadata": {},
     "output_type": "display_data"
    },
    {
     "data": {
      "text/html": [
       "Syncing run <strong><a href='https://wandb.ai/xkretinin/uncategorized/runs/1wau2yz9' target=\"_blank\">sweepy-sweep-2</a></strong> to <a href='https://wandb.ai/xkretinin/uncategorized' target=\"_blank\">Weights & Biases</a> (<a href='https://wandb.me/run' target=\"_blank\">docs</a>)<br/>Sweep page: <a href='https://wandb.ai/xkretinin/uncategorized/sweeps/7owi962b' target=\"_blank\">https://wandb.ai/xkretinin/uncategorized/sweeps/7owi962b</a>"
      ],
      "text/plain": [
       "<IPython.core.display.HTML object>"
      ]
     },
     "metadata": {},
     "output_type": "display_data"
    },
    {
     "data": {
      "text/html": [
       " View project at <a href='https://wandb.ai/xkretinin/uncategorized' target=\"_blank\">https://wandb.ai/xkretinin/uncategorized</a>"
      ],
      "text/plain": [
       "<IPython.core.display.HTML object>"
      ]
     },
     "metadata": {},
     "output_type": "display_data"
    },
    {
     "data": {
      "text/html": [
       " View sweep at <a href='https://wandb.ai/xkretinin/uncategorized/sweeps/7owi962b' target=\"_blank\">https://wandb.ai/xkretinin/uncategorized/sweeps/7owi962b</a>"
      ],
      "text/plain": [
       "<IPython.core.display.HTML object>"
      ]
     },
     "metadata": {},
     "output_type": "display_data"
    },
    {
     "data": {
      "text/html": [
       " View run at <a href='https://wandb.ai/xkretinin/uncategorized/runs/1wau2yz9' target=\"_blank\">https://wandb.ai/xkretinin/uncategorized/runs/1wau2yz9</a>"
      ],
      "text/plain": [
       "<IPython.core.display.HTML object>"
      ]
     },
     "metadata": {},
     "output_type": "display_data"
    },
    {
     "name": "stdout",
     "output_type": "stream",
     "text": [
      "Model: \"model\"\n",
      "_________________________________________________________________\n",
      " Layer (type)                Output Shape              Param #   \n",
      "=================================================================\n",
      " input_1 (InputLayer)        [(None, 104)]             0         \n",
      "                                                                 \n",
      " embedding (Embedding)       (None, 104, 100)          3517900   \n",
      "                                                                 \n",
      " bidirectional (Bidirectiona  (None, 104, 200)         160800    \n",
      " l)                                                              \n",
      "                                                                 \n",
      " dropout (Dropout)           (None, 104, 200)          0         \n",
      "                                                                 \n",
      " bidirectional_1 (Bidirectio  (None, 104, 200)         240800    \n",
      " nal)                                                            \n",
      "                                                                 \n",
      " time_distributed (TimeDistr  (None, 104, 68)          13668     \n",
      " ibuted)                                                         \n",
      "                                                                 \n",
      " time_distributed_1 (TimeDis  (None, 104, 34)          2346      \n",
      " tributed)                                                       \n",
      "                                                                 \n",
      " dense_2 (Dense)             (None, 104, 17)           595       \n",
      "                                                                 \n",
      "=================================================================\n",
      "Total params: 3,936,109\n",
      "Trainable params: 3,936,109\n",
      "Non-trainable params: 0\n",
      "_________________________________________________________________\n",
      "Epoch 1/6\n",
      "332/333 [============================>.] - ETA: 0s - loss: 0.2229 - accuracy: 0.9654"
     ]
    },
    {
     "name": "stderr",
     "output_type": "stream",
     "text": [
      "WARNING:absl:Found untraced functions such as lstm_cell_1_layer_call_fn, lstm_cell_1_layer_call_and_return_conditional_losses, lstm_cell_2_layer_call_fn, lstm_cell_2_layer_call_and_return_conditional_losses, lstm_cell_4_layer_call_fn while saving (showing 5 of 8). These functions will not be directly callable after loading.\n"
     ]
    },
    {
     "name": "stdout",
     "output_type": "stream",
     "text": [
      "INFO:tensorflow:Assets written to: C:\\Programming\\2023-Kretinin-NER_NN_for_text_classification\\notebooks\\wandb\\run-20230608_150959-1wau2yz9\\files\\model-best\\assets\n"
     ]
    },
    {
     "name": "stderr",
     "output_type": "stream",
     "text": [
      "INFO:tensorflow:Assets written to: C:\\Programming\\2023-Kretinin-NER_NN_for_text_classification\\notebooks\\wandb\\run-20230608_150959-1wau2yz9\\files\\model-best\\assets\n",
      "\u001b[34m\u001b[1mwandb\u001b[0m: Adding directory to artifact (C:\\Programming\\2023-Kretinin-NER_NN_for_text_classification\\notebooks\\wandb\\run-20230608_150959-1wau2yz9\\files\\model-best)... Done. 0.2s\n"
     ]
    },
    {
     "name": "stdout",
     "output_type": "stream",
     "text": [
      "333/333 [==============================] - 67s 178ms/step - loss: 0.2229 - accuracy: 0.9654 - val_loss: 0.0922 - val_accuracy: 0.9745\n",
      "Epoch 2/6\n",
      "333/333 [==============================] - ETA: 0s - loss: 0.0650 - accuracy: 0.9809"
     ]
    },
    {
     "name": "stderr",
     "output_type": "stream",
     "text": [
      "WARNING:absl:Found untraced functions such as lstm_cell_1_layer_call_fn, lstm_cell_1_layer_call_and_return_conditional_losses, lstm_cell_2_layer_call_fn, lstm_cell_2_layer_call_and_return_conditional_losses, lstm_cell_4_layer_call_fn while saving (showing 5 of 8). These functions will not be directly callable after loading.\n"
     ]
    },
    {
     "name": "stdout",
     "output_type": "stream",
     "text": [
      "INFO:tensorflow:Assets written to: C:\\Programming\\2023-Kretinin-NER_NN_for_text_classification\\notebooks\\wandb\\run-20230608_150959-1wau2yz9\\files\\model-best\\assets\n"
     ]
    },
    {
     "name": "stderr",
     "output_type": "stream",
     "text": [
      "INFO:tensorflow:Assets written to: C:\\Programming\\2023-Kretinin-NER_NN_for_text_classification\\notebooks\\wandb\\run-20230608_150959-1wau2yz9\\files\\model-best\\assets\n",
      "\u001b[34m\u001b[1mwandb\u001b[0m: Adding directory to artifact (C:\\Programming\\2023-Kretinin-NER_NN_for_text_classification\\notebooks\\wandb\\run-20230608_150959-1wau2yz9\\files\\model-best)... Done. 0.2s\n"
     ]
    },
    {
     "name": "stdout",
     "output_type": "stream",
     "text": [
      "333/333 [==============================] - 57s 170ms/step - loss: 0.0650 - accuracy: 0.9809 - val_loss: 0.0543 - val_accuracy: 0.9835\n",
      "Epoch 3/6\n",
      "333/333 [==============================] - ETA: 0s - loss: 0.0429 - accuracy: 0.9874"
     ]
    },
    {
     "name": "stderr",
     "output_type": "stream",
     "text": [
      "WARNING:absl:Found untraced functions such as lstm_cell_1_layer_call_fn, lstm_cell_1_layer_call_and_return_conditional_losses, lstm_cell_2_layer_call_fn, lstm_cell_2_layer_call_and_return_conditional_losses, lstm_cell_4_layer_call_fn while saving (showing 5 of 8). These functions will not be directly callable after loading.\n"
     ]
    },
    {
     "name": "stdout",
     "output_type": "stream",
     "text": [
      "INFO:tensorflow:Assets written to: C:\\Programming\\2023-Kretinin-NER_NN_for_text_classification\\notebooks\\wandb\\run-20230608_150959-1wau2yz9\\files\\model-best\\assets\n"
     ]
    },
    {
     "name": "stderr",
     "output_type": "stream",
     "text": [
      "INFO:tensorflow:Assets written to: C:\\Programming\\2023-Kretinin-NER_NN_for_text_classification\\notebooks\\wandb\\run-20230608_150959-1wau2yz9\\files\\model-best\\assets\n",
      "\u001b[34m\u001b[1mwandb\u001b[0m: Adding directory to artifact (C:\\Programming\\2023-Kretinin-NER_NN_for_text_classification\\notebooks\\wandb\\run-20230608_150959-1wau2yz9\\files\\model-best)... Done. 0.2s\n"
     ]
    },
    {
     "name": "stdout",
     "output_type": "stream",
     "text": [
      "333/333 [==============================] - 56s 168ms/step - loss: 0.0429 - accuracy: 0.9874 - val_loss: 0.0533 - val_accuracy: 0.9855\n",
      "Epoch 4/6\n",
      "332/333 [============================>.] - ETA: 0s - loss: 0.0329 - accuracy: 0.9905"
     ]
    },
    {
     "name": "stderr",
     "output_type": "stream",
     "text": [
      "WARNING:absl:Found untraced functions such as lstm_cell_1_layer_call_fn, lstm_cell_1_layer_call_and_return_conditional_losses, lstm_cell_2_layer_call_fn, lstm_cell_2_layer_call_and_return_conditional_losses, lstm_cell_4_layer_call_fn while saving (showing 5 of 8). These functions will not be directly callable after loading.\n"
     ]
    },
    {
     "name": "stdout",
     "output_type": "stream",
     "text": [
      "INFO:tensorflow:Assets written to: C:\\Programming\\2023-Kretinin-NER_NN_for_text_classification\\notebooks\\wandb\\run-20230608_150959-1wau2yz9\\files\\model-best\\assets\n"
     ]
    },
    {
     "name": "stderr",
     "output_type": "stream",
     "text": [
      "INFO:tensorflow:Assets written to: C:\\Programming\\2023-Kretinin-NER_NN_for_text_classification\\notebooks\\wandb\\run-20230608_150959-1wau2yz9\\files\\model-best\\assets\n",
      "\u001b[34m\u001b[1mwandb\u001b[0m: Adding directory to artifact (C:\\Programming\\2023-Kretinin-NER_NN_for_text_classification\\notebooks\\wandb\\run-20230608_150959-1wau2yz9\\files\\model-best)... Done. 0.2s\n"
     ]
    },
    {
     "name": "stdout",
     "output_type": "stream",
     "text": [
      "333/333 [==============================] - 56s 167ms/step - loss: 0.0329 - accuracy: 0.9905 - val_loss: 0.0343 - val_accuracy: 0.9905\n",
      "Epoch 5/6\n",
      "333/333 [==============================] - 30s 88ms/step - loss: 0.0253 - accuracy: 0.9926 - val_loss: 0.0697 - val_accuracy: 0.9810\n"
     ]
    },
    {
     "data": {
      "text/html": [
       "Waiting for W&B process to finish... <strong style=\"color:green\">(success).</strong>"
      ],
      "text/plain": [
       "<IPython.core.display.HTML object>"
      ]
     },
     "metadata": {},
     "output_type": "display_data"
    },
    {
     "data": {
      "application/vnd.jupyter.widget-view+json": {
       "model_id": "f2a668a5e9e14aa8ba9bdd5b3558db73",
       "version_major": 2,
       "version_minor": 0
      },
      "text/plain": [
       "VBox(children=(Label(value='242.753 MB of 242.753 MB uploaded (0.098 MB deduped)\\r'), FloatProgress(value=1.0,…"
      ]
     },
     "metadata": {},
     "output_type": "display_data"
    },
    {
     "data": {
      "text/html": [
       "<style>\n",
       "    table.wandb td:nth-child(1) { padding: 0 10px; text-align: left ; width: auto;} td:nth-child(2) {text-align: left ; width: 100%}\n",
       "    .wandb-row { display: flex; flex-direction: row; flex-wrap: wrap; justify-content: flex-start; width: 100% }\n",
       "    .wandb-col { display: flex; flex-direction: column; flex-basis: 100%; flex: 1; padding: 10px; }\n",
       "    </style>\n",
       "<div class=\"wandb-row\"><div class=\"wandb-col\"><h3>Run history:</h3><br/><table class=\"wandb\"><tr><td>accuracy</td><td>▁▅▇▇█</td></tr><tr><td>epoch</td><td>▁▃▅▆█</td></tr><tr><td>loss</td><td>█▂▂▁▁</td></tr><tr><td>val_accuracy</td><td>▁▅▆█▄▄</td></tr><tr><td>val_loss</td><td>█▃▃▁▅▅</td></tr></table><br/></div><div class=\"wandb-col\"><h3>Run summary:</h3><br/><table class=\"wandb\"><tr><td>accuracy</td><td>0.99265</td></tr><tr><td>best_epoch</td><td>3</td></tr><tr><td>best_val_loss</td><td>0.03426</td></tr><tr><td>epoch</td><td>4</td></tr><tr><td>loss</td><td>0.02534</td></tr><tr><td>val_accuracy</td><td>0.98105</td></tr><tr><td>val_loss</td><td>0.06972</td></tr></table><br/></div></div>"
      ],
      "text/plain": [
       "<IPython.core.display.HTML object>"
      ]
     },
     "metadata": {},
     "output_type": "display_data"
    },
    {
     "data": {
      "text/html": [
       " View run <strong style=\"color:#cdcd00\">sweepy-sweep-2</strong> at: <a href='https://wandb.ai/xkretinin/uncategorized/runs/1wau2yz9' target=\"_blank\">https://wandb.ai/xkretinin/uncategorized/runs/1wau2yz9</a><br/>Synced 5 W&B file(s), 1 media file(s), 16 artifact file(s) and 1 other file(s)"
      ],
      "text/plain": [
       "<IPython.core.display.HTML object>"
      ]
     },
     "metadata": {},
     "output_type": "display_data"
    },
    {
     "data": {
      "text/html": [
       "Find logs at: <code>.\\wandb\\run-20230608_150959-1wau2yz9\\logs</code>"
      ],
      "text/plain": [
       "<IPython.core.display.HTML object>"
      ]
     },
     "metadata": {},
     "output_type": "display_data"
    },
    {
     "name": "stderr",
     "output_type": "stream",
     "text": [
      "\u001b[34m\u001b[1mwandb\u001b[0m: Agent Starting Run: btv0uzzf with config:\n",
      "\u001b[34m\u001b[1mwandb\u001b[0m: \tbatch_size_divisor: 1\n",
      "\u001b[34m\u001b[1mwandb\u001b[0m: \tdropout: 0.3\n",
      "\u001b[34m\u001b[1mwandb\u001b[0m: \tepochs: 6\n",
      "\u001b[34m\u001b[1mwandb\u001b[0m: \tlearning_rate: 0.000559352070120936\n",
      "\u001b[34m\u001b[1mwandb\u001b[0m: \toptimizer: RMSprop\n"
     ]
    },
    {
     "data": {
      "text/html": [
       "wandb version 0.15.4 is available!  To upgrade, please run:\n",
       " $ pip install wandb --upgrade"
      ],
      "text/plain": [
       "<IPython.core.display.HTML object>"
      ]
     },
     "metadata": {},
     "output_type": "display_data"
    },
    {
     "data": {
      "text/html": [
       "Tracking run with wandb version 0.13.10"
      ],
      "text/plain": [
       "<IPython.core.display.HTML object>"
      ]
     },
     "metadata": {},
     "output_type": "display_data"
    },
    {
     "data": {
      "text/html": [
       "Run data is saved locally in <code>C:\\Programming\\2023-Kretinin-NER_NN_for_text_classification\\notebooks\\wandb\\run-20230608_151454-btv0uzzf</code>"
      ],
      "text/plain": [
       "<IPython.core.display.HTML object>"
      ]
     },
     "metadata": {},
     "output_type": "display_data"
    },
    {
     "data": {
      "text/html": [
       "Syncing run <strong><a href='https://wandb.ai/xkretinin/uncategorized/runs/btv0uzzf' target=\"_blank\">earthy-sweep-3</a></strong> to <a href='https://wandb.ai/xkretinin/uncategorized' target=\"_blank\">Weights & Biases</a> (<a href='https://wandb.me/run' target=\"_blank\">docs</a>)<br/>Sweep page: <a href='https://wandb.ai/xkretinin/uncategorized/sweeps/7owi962b' target=\"_blank\">https://wandb.ai/xkretinin/uncategorized/sweeps/7owi962b</a>"
      ],
      "text/plain": [
       "<IPython.core.display.HTML object>"
      ]
     },
     "metadata": {},
     "output_type": "display_data"
    },
    {
     "data": {
      "text/html": [
       " View project at <a href='https://wandb.ai/xkretinin/uncategorized' target=\"_blank\">https://wandb.ai/xkretinin/uncategorized</a>"
      ],
      "text/plain": [
       "<IPython.core.display.HTML object>"
      ]
     },
     "metadata": {},
     "output_type": "display_data"
    },
    {
     "data": {
      "text/html": [
       " View sweep at <a href='https://wandb.ai/xkretinin/uncategorized/sweeps/7owi962b' target=\"_blank\">https://wandb.ai/xkretinin/uncategorized/sweeps/7owi962b</a>"
      ],
      "text/plain": [
       "<IPython.core.display.HTML object>"
      ]
     },
     "metadata": {},
     "output_type": "display_data"
    },
    {
     "data": {
      "text/html": [
       " View run at <a href='https://wandb.ai/xkretinin/uncategorized/runs/btv0uzzf' target=\"_blank\">https://wandb.ai/xkretinin/uncategorized/runs/btv0uzzf</a>"
      ],
      "text/plain": [
       "<IPython.core.display.HTML object>"
      ]
     },
     "metadata": {},
     "output_type": "display_data"
    },
    {
     "name": "stdout",
     "output_type": "stream",
     "text": [
      "Model: \"model\"\n",
      "_________________________________________________________________\n",
      " Layer (type)                Output Shape              Param #   \n",
      "=================================================================\n",
      " input_1 (InputLayer)        [(None, 104)]             0         \n",
      "                                                                 \n",
      " embedding (Embedding)       (None, 104, 100)          3517900   \n",
      "                                                                 \n",
      " bidirectional (Bidirectiona  (None, 104, 200)         160800    \n",
      " l)                                                              \n",
      "                                                                 \n",
      " dropout (Dropout)           (None, 104, 200)          0         \n",
      "                                                                 \n",
      " bidirectional_1 (Bidirectio  (None, 104, 200)         240800    \n",
      " nal)                                                            \n",
      "                                                                 \n",
      " time_distributed (TimeDistr  (None, 104, 68)          13668     \n",
      " ibuted)                                                         \n",
      "                                                                 \n",
      " time_distributed_1 (TimeDis  (None, 104, 34)          2346      \n",
      " tributed)                                                       \n",
      "                                                                 \n",
      " dense_2 (Dense)             (None, 104, 17)           595       \n",
      "                                                                 \n",
      "=================================================================\n",
      "Total params: 3,936,109\n",
      "Trainable params: 3,936,109\n",
      "Non-trainable params: 0\n",
      "_________________________________________________________________\n",
      "Epoch 1/6\n",
      "333/333 [==============================] - ETA: 0s - loss: 0.1538 - accuracy: 0.9696"
     ]
    },
    {
     "name": "stderr",
     "output_type": "stream",
     "text": [
      "WARNING:absl:Found untraced functions such as lstm_cell_1_layer_call_fn, lstm_cell_1_layer_call_and_return_conditional_losses, lstm_cell_2_layer_call_fn, lstm_cell_2_layer_call_and_return_conditional_losses, lstm_cell_4_layer_call_fn while saving (showing 5 of 8). These functions will not be directly callable after loading.\n"
     ]
    },
    {
     "name": "stdout",
     "output_type": "stream",
     "text": [
      "INFO:tensorflow:Assets written to: C:\\Programming\\2023-Kretinin-NER_NN_for_text_classification\\notebooks\\wandb\\run-20230608_151454-btv0uzzf\\files\\model-best\\assets\n"
     ]
    },
    {
     "name": "stderr",
     "output_type": "stream",
     "text": [
      "INFO:tensorflow:Assets written to: C:\\Programming\\2023-Kretinin-NER_NN_for_text_classification\\notebooks\\wandb\\run-20230608_151454-btv0uzzf\\files\\model-best\\assets\n",
      "\u001b[34m\u001b[1mwandb\u001b[0m: Adding directory to artifact (C:\\Programming\\2023-Kretinin-NER_NN_for_text_classification\\notebooks\\wandb\\run-20230608_151454-btv0uzzf\\files\\model-best)... Done. 0.1s\n"
     ]
    },
    {
     "name": "stdout",
     "output_type": "stream",
     "text": [
      "333/333 [==============================] - 36s 84ms/step - loss: 0.1538 - accuracy: 0.9696 - val_loss: 0.0749 - val_accuracy: 0.9780\n",
      "Epoch 2/6\n",
      "332/333 [============================>.] - ETA: 0s - loss: 0.0500 - accuracy: 0.9858"
     ]
    },
    {
     "name": "stderr",
     "output_type": "stream",
     "text": [
      "WARNING:absl:Found untraced functions such as lstm_cell_1_layer_call_fn, lstm_cell_1_layer_call_and_return_conditional_losses, lstm_cell_2_layer_call_fn, lstm_cell_2_layer_call_and_return_conditional_losses, lstm_cell_4_layer_call_fn while saving (showing 5 of 8). These functions will not be directly callable after loading.\n"
     ]
    },
    {
     "name": "stdout",
     "output_type": "stream",
     "text": [
      "INFO:tensorflow:Assets written to: C:\\Programming\\2023-Kretinin-NER_NN_for_text_classification\\notebooks\\wandb\\run-20230608_151454-btv0uzzf\\files\\model-best\\assets\n"
     ]
    },
    {
     "name": "stderr",
     "output_type": "stream",
     "text": [
      "INFO:tensorflow:Assets written to: C:\\Programming\\2023-Kretinin-NER_NN_for_text_classification\\notebooks\\wandb\\run-20230608_151454-btv0uzzf\\files\\model-best\\assets\n",
      "\u001b[34m\u001b[1mwandb\u001b[0m: Adding directory to artifact (C:\\Programming\\2023-Kretinin-NER_NN_for_text_classification\\notebooks\\wandb\\run-20230608_151454-btv0uzzf\\files\\model-best)... Done. 0.2s\n"
     ]
    },
    {
     "name": "stdout",
     "output_type": "stream",
     "text": [
      "333/333 [==============================] - 32s 96ms/step - loss: 0.0500 - accuracy: 0.9858 - val_loss: 0.0573 - val_accuracy: 0.9835\n",
      "Epoch 3/6\n",
      "332/333 [============================>.] - ETA: 0s - loss: 0.0365 - accuracy: 0.9897"
     ]
    },
    {
     "name": "stderr",
     "output_type": "stream",
     "text": [
      "WARNING:absl:Found untraced functions such as lstm_cell_1_layer_call_fn, lstm_cell_1_layer_call_and_return_conditional_losses, lstm_cell_2_layer_call_fn, lstm_cell_2_layer_call_and_return_conditional_losses, lstm_cell_4_layer_call_fn while saving (showing 5 of 8). These functions will not be directly callable after loading.\n"
     ]
    },
    {
     "name": "stdout",
     "output_type": "stream",
     "text": [
      "INFO:tensorflow:Assets written to: C:\\Programming\\2023-Kretinin-NER_NN_for_text_classification\\notebooks\\wandb\\run-20230608_151454-btv0uzzf\\files\\model-best\\assets\n"
     ]
    },
    {
     "name": "stderr",
     "output_type": "stream",
     "text": [
      "INFO:tensorflow:Assets written to: C:\\Programming\\2023-Kretinin-NER_NN_for_text_classification\\notebooks\\wandb\\run-20230608_151454-btv0uzzf\\files\\model-best\\assets\n",
      "\u001b[34m\u001b[1mwandb\u001b[0m: Adding directory to artifact (C:\\Programming\\2023-Kretinin-NER_NN_for_text_classification\\notebooks\\wandb\\run-20230608_151454-btv0uzzf\\files\\model-best)... Done. 0.2s\n"
     ]
    },
    {
     "name": "stdout",
     "output_type": "stream",
     "text": [
      "333/333 [==============================] - 55s 166ms/step - loss: 0.0365 - accuracy: 0.9897 - val_loss: 0.0458 - val_accuracy: 0.9867\n",
      "Epoch 4/6\n",
      "332/333 [============================>.] - ETA: 0s - loss: 0.0283 - accuracy: 0.9918"
     ]
    },
    {
     "name": "stderr",
     "output_type": "stream",
     "text": [
      "WARNING:absl:Found untraced functions such as lstm_cell_1_layer_call_fn, lstm_cell_1_layer_call_and_return_conditional_losses, lstm_cell_2_layer_call_fn, lstm_cell_2_layer_call_and_return_conditional_losses, lstm_cell_4_layer_call_fn while saving (showing 5 of 8). These functions will not be directly callable after loading.\n"
     ]
    },
    {
     "name": "stdout",
     "output_type": "stream",
     "text": [
      "INFO:tensorflow:Assets written to: C:\\Programming\\2023-Kretinin-NER_NN_for_text_classification\\notebooks\\wandb\\run-20230608_151454-btv0uzzf\\files\\model-best\\assets\n"
     ]
    },
    {
     "name": "stderr",
     "output_type": "stream",
     "text": [
      "INFO:tensorflow:Assets written to: C:\\Programming\\2023-Kretinin-NER_NN_for_text_classification\\notebooks\\wandb\\run-20230608_151454-btv0uzzf\\files\\model-best\\assets\n",
      "\u001b[34m\u001b[1mwandb\u001b[0m: Adding directory to artifact (C:\\Programming\\2023-Kretinin-NER_NN_for_text_classification\\notebooks\\wandb\\run-20230608_151454-btv0uzzf\\files\\model-best)... Done. 0.1s\n"
     ]
    },
    {
     "name": "stdout",
     "output_type": "stream",
     "text": [
      "333/333 [==============================] - 55s 164ms/step - loss: 0.0283 - accuracy: 0.9918 - val_loss: 0.0365 - val_accuracy: 0.9895\n",
      "Epoch 5/6\n",
      "333/333 [==============================] - ETA: 0s - loss: 0.0237 - accuracy: 0.9932"
     ]
    },
    {
     "name": "stderr",
     "output_type": "stream",
     "text": [
      "WARNING:absl:Found untraced functions such as lstm_cell_1_layer_call_fn, lstm_cell_1_layer_call_and_return_conditional_losses, lstm_cell_2_layer_call_fn, lstm_cell_2_layer_call_and_return_conditional_losses, lstm_cell_4_layer_call_fn while saving (showing 5 of 8). These functions will not be directly callable after loading.\n"
     ]
    },
    {
     "name": "stdout",
     "output_type": "stream",
     "text": [
      "INFO:tensorflow:Assets written to: C:\\Programming\\2023-Kretinin-NER_NN_for_text_classification\\notebooks\\wandb\\run-20230608_151454-btv0uzzf\\files\\model-best\\assets\n"
     ]
    },
    {
     "name": "stderr",
     "output_type": "stream",
     "text": [
      "INFO:tensorflow:Assets written to: C:\\Programming\\2023-Kretinin-NER_NN_for_text_classification\\notebooks\\wandb\\run-20230608_151454-btv0uzzf\\files\\model-best\\assets\n",
      "\u001b[34m\u001b[1mwandb\u001b[0m: Adding directory to artifact (C:\\Programming\\2023-Kretinin-NER_NN_for_text_classification\\notebooks\\wandb\\run-20230608_151454-btv0uzzf\\files\\model-best)... Done. 0.2s\n"
     ]
    },
    {
     "name": "stdout",
     "output_type": "stream",
     "text": [
      "333/333 [==============================] - 52s 157ms/step - loss: 0.0237 - accuracy: 0.9932 - val_loss: 0.0350 - val_accuracy: 0.9894\n",
      "Epoch 6/6\n",
      "332/333 [============================>.] - ETA: 0s - loss: 0.0210 - accuracy: 0.9939"
     ]
    },
    {
     "name": "stderr",
     "output_type": "stream",
     "text": [
      "WARNING:absl:Found untraced functions such as lstm_cell_1_layer_call_fn, lstm_cell_1_layer_call_and_return_conditional_losses, lstm_cell_2_layer_call_fn, lstm_cell_2_layer_call_and_return_conditional_losses, lstm_cell_4_layer_call_fn while saving (showing 5 of 8). These functions will not be directly callable after loading.\n"
     ]
    },
    {
     "name": "stdout",
     "output_type": "stream",
     "text": [
      "INFO:tensorflow:Assets written to: C:\\Programming\\2023-Kretinin-NER_NN_for_text_classification\\notebooks\\wandb\\run-20230608_151454-btv0uzzf\\files\\model-best\\assets\n"
     ]
    },
    {
     "name": "stderr",
     "output_type": "stream",
     "text": [
      "INFO:tensorflow:Assets written to: C:\\Programming\\2023-Kretinin-NER_NN_for_text_classification\\notebooks\\wandb\\run-20230608_151454-btv0uzzf\\files\\model-best\\assets\n",
      "\u001b[34m\u001b[1mwandb\u001b[0m: Adding directory to artifact (C:\\Programming\\2023-Kretinin-NER_NN_for_text_classification\\notebooks\\wandb\\run-20230608_151454-btv0uzzf\\files\\model-best)... Done. 0.1s\n"
     ]
    },
    {
     "name": "stdout",
     "output_type": "stream",
     "text": [
      "\b\b\b\b\b\b\b\b\b\b\b\b\b\b\b\b\b\b\b\b\b\b\b\b\b\b\b\b\b\b\b\b\b\b\b\b\b\b\b\b\b\b\b\b\b\b\b\b\b\b\b\b\b\b\b\b\b\b\b\b\b\b\b\b\b\b\b\b\b\b\b\b\b\b\b\b\b\b\b\b\b\b\b\b\r",
      "333/333 [==============================] - 45s 135ms/step - loss: 0.0210 - accuracy: 0.9939 - val_loss: 0.0278 - val_accuracy: 0.9918\n"
     ]
    },
    {
     "data": {
      "text/html": [
       "Waiting for W&B process to finish... <strong style=\"color:green\">(success).</strong>"
      ],
      "text/plain": [
       "<IPython.core.display.HTML object>"
      ]
     },
     "metadata": {},
     "output_type": "display_data"
    },
    {
     "data": {
      "text/html": [
       "<style>\n",
       "    table.wandb td:nth-child(1) { padding: 0 10px; text-align: left ; width: auto;} td:nth-child(2) {text-align: left ; width: 100%}\n",
       "    .wandb-row { display: flex; flex-direction: row; flex-wrap: wrap; justify-content: flex-start; width: 100% }\n",
       "    .wandb-col { display: flex; flex-direction: column; flex-basis: 100%; flex: 1; padding: 10px; }\n",
       "    </style>\n",
       "<div class=\"wandb-row\"><div class=\"wandb-col\"><h3>Run history:</h3><br/><table class=\"wandb\"><tr><td>accuracy</td><td>▁▆▇▇██</td></tr><tr><td>epoch</td><td>▁▂▄▅▇█</td></tr><tr><td>loss</td><td>█▃▂▁▁▁</td></tr><tr><td>val_accuracy</td><td>▁▄▅▇▇██</td></tr><tr><td>val_loss</td><td>█▅▄▂▂▁▁</td></tr></table><br/></div><div class=\"wandb-col\"><h3>Run summary:</h3><br/><table class=\"wandb\"><tr><td>accuracy</td><td>0.9939</td></tr><tr><td>best_epoch</td><td>5</td></tr><tr><td>best_val_loss</td><td>0.02783</td></tr><tr><td>epoch</td><td>5</td></tr><tr><td>loss</td><td>0.02099</td></tr><tr><td>val_accuracy</td><td>0.99182</td></tr><tr><td>val_loss</td><td>0.02783</td></tr></table><br/></div></div>"
      ],
      "text/plain": [
       "<IPython.core.display.HTML object>"
      ]
     },
     "metadata": {},
     "output_type": "display_data"
    },
    {
     "data": {
      "text/html": [
       " View run <strong style=\"color:#cdcd00\">earthy-sweep-3</strong> at: <a href='https://wandb.ai/xkretinin/uncategorized/runs/btv0uzzf' target=\"_blank\">https://wandb.ai/xkretinin/uncategorized/runs/btv0uzzf</a><br/>Synced 5 W&B file(s), 1 media file(s), 24 artifact file(s) and 1 other file(s)"
      ],
      "text/plain": [
       "<IPython.core.display.HTML object>"
      ]
     },
     "metadata": {},
     "output_type": "display_data"
    },
    {
     "data": {
      "text/html": [
       "Find logs at: <code>.\\wandb\\run-20230608_151454-btv0uzzf\\logs</code>"
      ],
      "text/plain": [
       "<IPython.core.display.HTML object>"
      ]
     },
     "metadata": {},
     "output_type": "display_data"
    },
    {
     "name": "stderr",
     "output_type": "stream",
     "text": [
      "\u001b[34m\u001b[1mwandb\u001b[0m: Agent Starting Run: km42mwzu with config:\n",
      "\u001b[34m\u001b[1mwandb\u001b[0m: \tbatch_size_divisor: 1\n",
      "\u001b[34m\u001b[1mwandb\u001b[0m: \tdropout: 0.4\n",
      "\u001b[34m\u001b[1mwandb\u001b[0m: \tepochs: 6\n",
      "\u001b[34m\u001b[1mwandb\u001b[0m: \tlearning_rate: 0.00011530679810708438\n",
      "\u001b[34m\u001b[1mwandb\u001b[0m: \toptimizer: RMSprop\n"
     ]
    },
    {
     "data": {
      "text/html": [
       "wandb version 0.15.4 is available!  To upgrade, please run:\n",
       " $ pip install wandb --upgrade"
      ],
      "text/plain": [
       "<IPython.core.display.HTML object>"
      ]
     },
     "metadata": {},
     "output_type": "display_data"
    },
    {
     "data": {
      "text/html": [
       "Tracking run with wandb version 0.13.10"
      ],
      "text/plain": [
       "<IPython.core.display.HTML object>"
      ]
     },
     "metadata": {},
     "output_type": "display_data"
    },
    {
     "data": {
      "text/html": [
       "Run data is saved locally in <code>C:\\Programming\\2023-Kretinin-NER_NN_for_text_classification\\notebooks\\wandb\\run-20230608_152013-km42mwzu</code>"
      ],
      "text/plain": [
       "<IPython.core.display.HTML object>"
      ]
     },
     "metadata": {},
     "output_type": "display_data"
    },
    {
     "data": {
      "text/html": [
       "Syncing run <strong><a href='https://wandb.ai/xkretinin/uncategorized/runs/km42mwzu' target=\"_blank\">lunar-sweep-4</a></strong> to <a href='https://wandb.ai/xkretinin/uncategorized' target=\"_blank\">Weights & Biases</a> (<a href='https://wandb.me/run' target=\"_blank\">docs</a>)<br/>Sweep page: <a href='https://wandb.ai/xkretinin/uncategorized/sweeps/7owi962b' target=\"_blank\">https://wandb.ai/xkretinin/uncategorized/sweeps/7owi962b</a>"
      ],
      "text/plain": [
       "<IPython.core.display.HTML object>"
      ]
     },
     "metadata": {},
     "output_type": "display_data"
    },
    {
     "data": {
      "text/html": [
       " View project at <a href='https://wandb.ai/xkretinin/uncategorized' target=\"_blank\">https://wandb.ai/xkretinin/uncategorized</a>"
      ],
      "text/plain": [
       "<IPython.core.display.HTML object>"
      ]
     },
     "metadata": {},
     "output_type": "display_data"
    },
    {
     "data": {
      "text/html": [
       " View sweep at <a href='https://wandb.ai/xkretinin/uncategorized/sweeps/7owi962b' target=\"_blank\">https://wandb.ai/xkretinin/uncategorized/sweeps/7owi962b</a>"
      ],
      "text/plain": [
       "<IPython.core.display.HTML object>"
      ]
     },
     "metadata": {},
     "output_type": "display_data"
    },
    {
     "data": {
      "text/html": [
       " View run at <a href='https://wandb.ai/xkretinin/uncategorized/runs/km42mwzu' target=\"_blank\">https://wandb.ai/xkretinin/uncategorized/runs/km42mwzu</a>"
      ],
      "text/plain": [
       "<IPython.core.display.HTML object>"
      ]
     },
     "metadata": {},
     "output_type": "display_data"
    },
    {
     "name": "stdout",
     "output_type": "stream",
     "text": [
      "Model: \"model\"\n",
      "_________________________________________________________________\n",
      " Layer (type)                Output Shape              Param #   \n",
      "=================================================================\n",
      " input_1 (InputLayer)        [(None, 104)]             0         \n",
      "                                                                 \n",
      " embedding (Embedding)       (None, 104, 100)          3517900   \n",
      "                                                                 \n",
      " bidirectional (Bidirectiona  (None, 104, 200)         160800    \n",
      " l)                                                              \n",
      "                                                                 \n",
      " dropout (Dropout)           (None, 104, 200)          0         \n",
      "                                                                 \n",
      " bidirectional_1 (Bidirectio  (None, 104, 200)         240800    \n",
      " nal)                                                            \n",
      "                                                                 \n",
      " time_distributed (TimeDistr  (None, 104, 68)          13668     \n",
      " ibuted)                                                         \n",
      "                                                                 \n",
      " time_distributed_1 (TimeDis  (None, 104, 34)          2346      \n",
      " tributed)                                                       \n",
      "                                                                 \n",
      " dense_2 (Dense)             (None, 104, 17)           595       \n",
      "                                                                 \n",
      "=================================================================\n",
      "Total params: 3,936,109\n",
      "Trainable params: 3,936,109\n",
      "Non-trainable params: 0\n",
      "_________________________________________________________________\n",
      "Epoch 1/6\n",
      "332/333 [============================>.] - ETA: 0s - loss: 0.3500 - accuracy: 0.9648"
     ]
    },
    {
     "name": "stderr",
     "output_type": "stream",
     "text": [
      "WARNING:absl:Found untraced functions such as lstm_cell_1_layer_call_fn, lstm_cell_1_layer_call_and_return_conditional_losses, lstm_cell_2_layer_call_fn, lstm_cell_2_layer_call_and_return_conditional_losses, lstm_cell_4_layer_call_fn while saving (showing 5 of 8). These functions will not be directly callable after loading.\n"
     ]
    },
    {
     "name": "stdout",
     "output_type": "stream",
     "text": [
      "INFO:tensorflow:Assets written to: C:\\Programming\\2023-Kretinin-NER_NN_for_text_classification\\notebooks\\wandb\\run-20230608_152013-km42mwzu\\files\\model-best\\assets\n"
     ]
    },
    {
     "name": "stderr",
     "output_type": "stream",
     "text": [
      "INFO:tensorflow:Assets written to: C:\\Programming\\2023-Kretinin-NER_NN_for_text_classification\\notebooks\\wandb\\run-20230608_152013-km42mwzu\\files\\model-best\\assets\n",
      "\u001b[34m\u001b[1mwandb\u001b[0m: Adding directory to artifact (C:\\Programming\\2023-Kretinin-NER_NN_for_text_classification\\notebooks\\wandb\\run-20230608_152013-km42mwzu\\files\\model-best)... Done. 0.1s\n"
     ]
    },
    {
     "name": "stdout",
     "output_type": "stream",
     "text": [
      "333/333 [==============================] - 48s 131ms/step - loss: 0.3500 - accuracy: 0.9648 - val_loss: 0.1497 - val_accuracy: 0.9678\n",
      "Epoch 2/6\n",
      "332/333 [============================>.] - ETA: 0s - loss: 0.1305 - accuracy: 0.9681"
     ]
    },
    {
     "name": "stderr",
     "output_type": "stream",
     "text": [
      "WARNING:absl:Found untraced functions such as lstm_cell_1_layer_call_fn, lstm_cell_1_layer_call_and_return_conditional_losses, lstm_cell_2_layer_call_fn, lstm_cell_2_layer_call_and_return_conditional_losses, lstm_cell_4_layer_call_fn while saving (showing 5 of 8). These functions will not be directly callable after loading.\n"
     ]
    },
    {
     "name": "stdout",
     "output_type": "stream",
     "text": [
      "INFO:tensorflow:Assets written to: C:\\Programming\\2023-Kretinin-NER_NN_for_text_classification\\notebooks\\wandb\\run-20230608_152013-km42mwzu\\files\\model-best\\assets\n"
     ]
    },
    {
     "name": "stderr",
     "output_type": "stream",
     "text": [
      "INFO:tensorflow:Assets written to: C:\\Programming\\2023-Kretinin-NER_NN_for_text_classification\\notebooks\\wandb\\run-20230608_152013-km42mwzu\\files\\model-best\\assets\n",
      "\u001b[34m\u001b[1mwandb\u001b[0m: Adding directory to artifact (C:\\Programming\\2023-Kretinin-NER_NN_for_text_classification\\notebooks\\wandb\\run-20230608_152013-km42mwzu\\files\\model-best)... Done. 0.1s\n"
     ]
    },
    {
     "name": "stdout",
     "output_type": "stream",
     "text": [
      "333/333 [==============================] - 42s 126ms/step - loss: 0.1305 - accuracy: 0.9681 - val_loss: 0.1047 - val_accuracy: 0.9695\n",
      "Epoch 3/6\n",
      "332/333 [============================>.] - ETA: 0s - loss: 0.0879 - accuracy: 0.9738"
     ]
    },
    {
     "name": "stderr",
     "output_type": "stream",
     "text": [
      "WARNING:absl:Found untraced functions such as lstm_cell_1_layer_call_fn, lstm_cell_1_layer_call_and_return_conditional_losses, lstm_cell_2_layer_call_fn, lstm_cell_2_layer_call_and_return_conditional_losses, lstm_cell_4_layer_call_fn while saving (showing 5 of 8). These functions will not be directly callable after loading.\n"
     ]
    },
    {
     "name": "stdout",
     "output_type": "stream",
     "text": [
      "INFO:tensorflow:Assets written to: C:\\Programming\\2023-Kretinin-NER_NN_for_text_classification\\notebooks\\wandb\\run-20230608_152013-km42mwzu\\files\\model-best\\assets\n"
     ]
    },
    {
     "name": "stderr",
     "output_type": "stream",
     "text": [
      "INFO:tensorflow:Assets written to: C:\\Programming\\2023-Kretinin-NER_NN_for_text_classification\\notebooks\\wandb\\run-20230608_152013-km42mwzu\\files\\model-best\\assets\n",
      "\u001b[34m\u001b[1mwandb\u001b[0m: Adding directory to artifact (C:\\Programming\\2023-Kretinin-NER_NN_for_text_classification\\notebooks\\wandb\\run-20230608_152013-km42mwzu\\files\\model-best)... Done. 0.1s\n"
     ]
    },
    {
     "name": "stdout",
     "output_type": "stream",
     "text": [
      "333/333 [==============================] - 42s 127ms/step - loss: 0.0879 - accuracy: 0.9738 - val_loss: 0.0774 - val_accuracy: 0.9780\n",
      "Epoch 4/6\n",
      "332/333 [============================>.] - ETA: 0s - loss: 0.0688 - accuracy: 0.9804"
     ]
    },
    {
     "name": "stderr",
     "output_type": "stream",
     "text": [
      "WARNING:absl:Found untraced functions such as lstm_cell_1_layer_call_fn, lstm_cell_1_layer_call_and_return_conditional_losses, lstm_cell_2_layer_call_fn, lstm_cell_2_layer_call_and_return_conditional_losses, lstm_cell_4_layer_call_fn while saving (showing 5 of 8). These functions will not be directly callable after loading.\n"
     ]
    },
    {
     "name": "stdout",
     "output_type": "stream",
     "text": [
      "INFO:tensorflow:Assets written to: C:\\Programming\\2023-Kretinin-NER_NN_for_text_classification\\notebooks\\wandb\\run-20230608_152013-km42mwzu\\files\\model-best\\assets\n"
     ]
    },
    {
     "name": "stderr",
     "output_type": "stream",
     "text": [
      "INFO:tensorflow:Assets written to: C:\\Programming\\2023-Kretinin-NER_NN_for_text_classification\\notebooks\\wandb\\run-20230608_152013-km42mwzu\\files\\model-best\\assets\n",
      "\u001b[34m\u001b[1mwandb\u001b[0m: Adding directory to artifact (C:\\Programming\\2023-Kretinin-NER_NN_for_text_classification\\notebooks\\wandb\\run-20230608_152013-km42mwzu\\files\\model-best)... Done. 0.1s\n"
     ]
    },
    {
     "name": "stdout",
     "output_type": "stream",
     "text": [
      "333/333 [==============================] - 41s 122ms/step - loss: 0.0688 - accuracy: 0.9804 - val_loss: 0.0639 - val_accuracy: 0.9818\n",
      "Epoch 5/6\n",
      "332/333 [============================>.] - ETA: 0s - loss: 0.0579 - accuracy: 0.9832"
     ]
    },
    {
     "name": "stderr",
     "output_type": "stream",
     "text": [
      "WARNING:absl:Found untraced functions such as lstm_cell_1_layer_call_fn, lstm_cell_1_layer_call_and_return_conditional_losses, lstm_cell_2_layer_call_fn, lstm_cell_2_layer_call_and_return_conditional_losses, lstm_cell_4_layer_call_fn while saving (showing 5 of 8). These functions will not be directly callable after loading.\n"
     ]
    },
    {
     "name": "stdout",
     "output_type": "stream",
     "text": [
      "INFO:tensorflow:Assets written to: C:\\Programming\\2023-Kretinin-NER_NN_for_text_classification\\notebooks\\wandb\\run-20230608_152013-km42mwzu\\files\\model-best\\assets\n"
     ]
    },
    {
     "name": "stderr",
     "output_type": "stream",
     "text": [
      "INFO:tensorflow:Assets written to: C:\\Programming\\2023-Kretinin-NER_NN_for_text_classification\\notebooks\\wandb\\run-20230608_152013-km42mwzu\\files\\model-best\\assets\n",
      "\u001b[34m\u001b[1mwandb\u001b[0m: Adding directory to artifact (C:\\Programming\\2023-Kretinin-NER_NN_for_text_classification\\notebooks\\wandb\\run-20230608_152013-km42mwzu\\files\\model-best)... Done. 0.2s\n"
     ]
    },
    {
     "name": "stdout",
     "output_type": "stream",
     "text": [
      "333/333 [==============================] - 42s 125ms/step - loss: 0.0579 - accuracy: 0.9832 - val_loss: 0.0570 - val_accuracy: 0.9834\n",
      "Epoch 6/6\n",
      "332/333 [============================>.] - ETA: 0s - loss: 0.0513 - accuracy: 0.9851"
     ]
    },
    {
     "name": "stderr",
     "output_type": "stream",
     "text": [
      "WARNING:absl:Found untraced functions such as lstm_cell_1_layer_call_fn, lstm_cell_1_layer_call_and_return_conditional_losses, lstm_cell_2_layer_call_fn, lstm_cell_2_layer_call_and_return_conditional_losses, lstm_cell_4_layer_call_fn while saving (showing 5 of 8). These functions will not be directly callable after loading.\n"
     ]
    },
    {
     "name": "stdout",
     "output_type": "stream",
     "text": [
      "INFO:tensorflow:Assets written to: C:\\Programming\\2023-Kretinin-NER_NN_for_text_classification\\notebooks\\wandb\\run-20230608_152013-km42mwzu\\files\\model-best\\assets\n"
     ]
    },
    {
     "name": "stderr",
     "output_type": "stream",
     "text": [
      "INFO:tensorflow:Assets written to: C:\\Programming\\2023-Kretinin-NER_NN_for_text_classification\\notebooks\\wandb\\run-20230608_152013-km42mwzu\\files\\model-best\\assets\n",
      "\u001b[34m\u001b[1mwandb\u001b[0m: Adding directory to artifact (C:\\Programming\\2023-Kretinin-NER_NN_for_text_classification\\notebooks\\wandb\\run-20230608_152013-km42mwzu\\files\\model-best)... Done. 0.2s\n"
     ]
    },
    {
     "name": "stdout",
     "output_type": "stream",
     "text": [
      "\b\b\b\b\b\b\b\b\b\b\b\b\b\b\b\b\b\b\b\b\b\b\b\b\b\b\b\b\b\b\b\b\b\b\b\b\b\b\b\b\b\b\b\b\b\b\b\b\b\b\b\b\b\b\b\b\b\b\b\b\b\b\b\b\b\b\b\b\b\b\b\b\b\b\b\b\b\b\b\b\b\b\b\b\r",
      "333/333 [==============================] - 47s 141ms/step - loss: 0.0513 - accuracy: 0.9851 - val_loss: 0.0565 - val_accuracy: 0.9848\n"
     ]
    },
    {
     "data": {
      "text/html": [
       "Waiting for W&B process to finish... <strong style=\"color:green\">(success).</strong>"
      ],
      "text/plain": [
       "<IPython.core.display.HTML object>"
      ]
     },
     "metadata": {},
     "output_type": "display_data"
    },
    {
     "data": {
      "text/html": [
       "<style>\n",
       "    table.wandb td:nth-child(1) { padding: 0 10px; text-align: left ; width: auto;} td:nth-child(2) {text-align: left ; width: 100%}\n",
       "    .wandb-row { display: flex; flex-direction: row; flex-wrap: wrap; justify-content: flex-start; width: 100% }\n",
       "    .wandb-col { display: flex; flex-direction: column; flex-basis: 100%; flex: 1; padding: 10px; }\n",
       "    </style>\n",
       "<div class=\"wandb-row\"><div class=\"wandb-col\"><h3>Run history:</h3><br/><table class=\"wandb\"><tr><td>accuracy</td><td>▁▂▄▆▇█</td></tr><tr><td>epoch</td><td>▁▂▄▅▇█</td></tr><tr><td>loss</td><td>█▃▂▁▁▁</td></tr><tr><td>val_accuracy</td><td>▁▂▅▇▇██</td></tr><tr><td>val_loss</td><td>█▅▃▂▁▁▁</td></tr></table><br/></div><div class=\"wandb-col\"><h3>Run summary:</h3><br/><table class=\"wandb\"><tr><td>accuracy</td><td>0.98506</td></tr><tr><td>best_epoch</td><td>5</td></tr><tr><td>best_val_loss</td><td>0.0565</td></tr><tr><td>epoch</td><td>5</td></tr><tr><td>loss</td><td>0.05135</td></tr><tr><td>val_accuracy</td><td>0.98479</td></tr><tr><td>val_loss</td><td>0.0565</td></tr></table><br/></div></div>"
      ],
      "text/plain": [
       "<IPython.core.display.HTML object>"
      ]
     },
     "metadata": {},
     "output_type": "display_data"
    },
    {
     "data": {
      "text/html": [
       " View run <strong style=\"color:#cdcd00\">lunar-sweep-4</strong> at: <a href='https://wandb.ai/xkretinin/uncategorized/runs/km42mwzu' target=\"_blank\">https://wandb.ai/xkretinin/uncategorized/runs/km42mwzu</a><br/>Synced 5 W&B file(s), 1 media file(s), 24 artifact file(s) and 1 other file(s)"
      ],
      "text/plain": [
       "<IPython.core.display.HTML object>"
      ]
     },
     "metadata": {},
     "output_type": "display_data"
    },
    {
     "data": {
      "text/html": [
       "Find logs at: <code>.\\wandb\\run-20230608_152013-km42mwzu\\logs</code>"
      ],
      "text/plain": [
       "<IPython.core.display.HTML object>"
      ]
     },
     "metadata": {},
     "output_type": "display_data"
    },
    {
     "name": "stderr",
     "output_type": "stream",
     "text": [
      "\u001b[34m\u001b[1mwandb\u001b[0m: Agent Starting Run: cyrxwf1u with config:\n",
      "\u001b[34m\u001b[1mwandb\u001b[0m: \tbatch_size_divisor: 1\n",
      "\u001b[34m\u001b[1mwandb\u001b[0m: \tdropout: 0.3\n",
      "\u001b[34m\u001b[1mwandb\u001b[0m: \tepochs: 6\n",
      "\u001b[34m\u001b[1mwandb\u001b[0m: \tlearning_rate: 0.0002976904593648314\n",
      "\u001b[34m\u001b[1mwandb\u001b[0m: \toptimizer: Nadam\n"
     ]
    },
    {
     "data": {
      "text/html": [
       "wandb version 0.15.4 is available!  To upgrade, please run:\n",
       " $ pip install wandb --upgrade"
      ],
      "text/plain": [
       "<IPython.core.display.HTML object>"
      ]
     },
     "metadata": {},
     "output_type": "display_data"
    },
    {
     "data": {
      "text/html": [
       "Tracking run with wandb version 0.13.10"
      ],
      "text/plain": [
       "<IPython.core.display.HTML object>"
      ]
     },
     "metadata": {},
     "output_type": "display_data"
    },
    {
     "data": {
      "text/html": [
       "Run data is saved locally in <code>C:\\Programming\\2023-Kretinin-NER_NN_for_text_classification\\notebooks\\wandb\\run-20230608_152516-cyrxwf1u</code>"
      ],
      "text/plain": [
       "<IPython.core.display.HTML object>"
      ]
     },
     "metadata": {},
     "output_type": "display_data"
    },
    {
     "data": {
      "text/html": [
       "Syncing run <strong><a href='https://wandb.ai/xkretinin/uncategorized/runs/cyrxwf1u' target=\"_blank\">lilac-sweep-5</a></strong> to <a href='https://wandb.ai/xkretinin/uncategorized' target=\"_blank\">Weights & Biases</a> (<a href='https://wandb.me/run' target=\"_blank\">docs</a>)<br/>Sweep page: <a href='https://wandb.ai/xkretinin/uncategorized/sweeps/7owi962b' target=\"_blank\">https://wandb.ai/xkretinin/uncategorized/sweeps/7owi962b</a>"
      ],
      "text/plain": [
       "<IPython.core.display.HTML object>"
      ]
     },
     "metadata": {},
     "output_type": "display_data"
    },
    {
     "data": {
      "text/html": [
       " View project at <a href='https://wandb.ai/xkretinin/uncategorized' target=\"_blank\">https://wandb.ai/xkretinin/uncategorized</a>"
      ],
      "text/plain": [
       "<IPython.core.display.HTML object>"
      ]
     },
     "metadata": {},
     "output_type": "display_data"
    },
    {
     "data": {
      "text/html": [
       " View sweep at <a href='https://wandb.ai/xkretinin/uncategorized/sweeps/7owi962b' target=\"_blank\">https://wandb.ai/xkretinin/uncategorized/sweeps/7owi962b</a>"
      ],
      "text/plain": [
       "<IPython.core.display.HTML object>"
      ]
     },
     "metadata": {},
     "output_type": "display_data"
    },
    {
     "data": {
      "text/html": [
       " View run at <a href='https://wandb.ai/xkretinin/uncategorized/runs/cyrxwf1u' target=\"_blank\">https://wandb.ai/xkretinin/uncategorized/runs/cyrxwf1u</a>"
      ],
      "text/plain": [
       "<IPython.core.display.HTML object>"
      ]
     },
     "metadata": {},
     "output_type": "display_data"
    },
    {
     "name": "stdout",
     "output_type": "stream",
     "text": [
      "Model: \"model\"\n",
      "_________________________________________________________________\n",
      " Layer (type)                Output Shape              Param #   \n",
      "=================================================================\n",
      " input_1 (InputLayer)        [(None, 104)]             0         \n",
      "                                                                 \n",
      " embedding (Embedding)       (None, 104, 100)          3517900   \n",
      "                                                                 \n",
      " bidirectional (Bidirectiona  (None, 104, 200)         160800    \n",
      " l)                                                              \n",
      "                                                                 \n",
      " dropout (Dropout)           (None, 104, 200)          0         \n",
      "                                                                 \n",
      " bidirectional_1 (Bidirectio  (None, 104, 200)         240800    \n",
      " nal)                                                            \n",
      "                                                                 \n",
      " time_distributed (TimeDistr  (None, 104, 68)          13668     \n",
      " ibuted)                                                         \n",
      "                                                                 \n",
      " time_distributed_1 (TimeDis  (None, 104, 34)          2346      \n",
      " tributed)                                                       \n",
      "                                                                 \n",
      " dense_2 (Dense)             (None, 104, 17)           595       \n",
      "                                                                 \n",
      "=================================================================\n",
      "Total params: 3,936,109\n",
      "Trainable params: 3,936,109\n",
      "Non-trainable params: 0\n",
      "_________________________________________________________________\n",
      "Epoch 1/6\n",
      "332/333 [============================>.] - ETA: 0s - loss: 0.2830 - accuracy: 0.9615"
     ]
    },
    {
     "name": "stderr",
     "output_type": "stream",
     "text": [
      "WARNING:absl:Found untraced functions such as lstm_cell_1_layer_call_fn, lstm_cell_1_layer_call_and_return_conditional_losses, lstm_cell_2_layer_call_fn, lstm_cell_2_layer_call_and_return_conditional_losses, lstm_cell_4_layer_call_fn while saving (showing 5 of 8). These functions will not be directly callable after loading.\n"
     ]
    },
    {
     "name": "stdout",
     "output_type": "stream",
     "text": [
      "INFO:tensorflow:Assets written to: C:\\Programming\\2023-Kretinin-NER_NN_for_text_classification\\notebooks\\wandb\\run-20230608_152516-cyrxwf1u\\files\\model-best\\assets\n"
     ]
    },
    {
     "name": "stderr",
     "output_type": "stream",
     "text": [
      "INFO:tensorflow:Assets written to: C:\\Programming\\2023-Kretinin-NER_NN_for_text_classification\\notebooks\\wandb\\run-20230608_152516-cyrxwf1u\\files\\model-best\\assets\n",
      "\u001b[34m\u001b[1mwandb\u001b[0m: Adding directory to artifact (C:\\Programming\\2023-Kretinin-NER_NN_for_text_classification\\notebooks\\wandb\\run-20230608_152516-cyrxwf1u\\files\\model-best)... Done. 0.2s\n"
     ]
    },
    {
     "name": "stdout",
     "output_type": "stream",
     "text": [
      "333/333 [==============================] - 50s 132ms/step - loss: 0.2830 - accuracy: 0.9615 - val_loss: 0.1625 - val_accuracy: 0.9678\n",
      "Epoch 2/6\n",
      "332/333 [============================>.] - ETA: 0s - loss: 0.1047 - accuracy: 0.9716"
     ]
    },
    {
     "name": "stderr",
     "output_type": "stream",
     "text": [
      "WARNING:absl:Found untraced functions such as lstm_cell_1_layer_call_fn, lstm_cell_1_layer_call_and_return_conditional_losses, lstm_cell_2_layer_call_fn, lstm_cell_2_layer_call_and_return_conditional_losses, lstm_cell_4_layer_call_fn while saving (showing 5 of 8). These functions will not be directly callable after loading.\n"
     ]
    },
    {
     "name": "stdout",
     "output_type": "stream",
     "text": [
      "INFO:tensorflow:Assets written to: C:\\Programming\\2023-Kretinin-NER_NN_for_text_classification\\notebooks\\wandb\\run-20230608_152516-cyrxwf1u\\files\\model-best\\assets\n"
     ]
    },
    {
     "name": "stderr",
     "output_type": "stream",
     "text": [
      "INFO:tensorflow:Assets written to: C:\\Programming\\2023-Kretinin-NER_NN_for_text_classification\\notebooks\\wandb\\run-20230608_152516-cyrxwf1u\\files\\model-best\\assets\n",
      "\u001b[34m\u001b[1mwandb\u001b[0m: Adding directory to artifact (C:\\Programming\\2023-Kretinin-NER_NN_for_text_classification\\notebooks\\wandb\\run-20230608_152516-cyrxwf1u\\files\\model-best)... Done. 0.2s\n"
     ]
    },
    {
     "name": "stdout",
     "output_type": "stream",
     "text": [
      "333/333 [==============================] - 43s 129ms/step - loss: 0.1047 - accuracy: 0.9716 - val_loss: 0.0834 - val_accuracy: 0.9752\n",
      "Epoch 3/6\n",
      "332/333 [============================>.] - ETA: 0s - loss: 0.0648 - accuracy: 0.9800"
     ]
    },
    {
     "name": "stderr",
     "output_type": "stream",
     "text": [
      "WARNING:absl:Found untraced functions such as lstm_cell_1_layer_call_fn, lstm_cell_1_layer_call_and_return_conditional_losses, lstm_cell_2_layer_call_fn, lstm_cell_2_layer_call_and_return_conditional_losses, lstm_cell_4_layer_call_fn while saving (showing 5 of 8). These functions will not be directly callable after loading.\n"
     ]
    },
    {
     "name": "stdout",
     "output_type": "stream",
     "text": [
      "INFO:tensorflow:Assets written to: C:\\Programming\\2023-Kretinin-NER_NN_for_text_classification\\notebooks\\wandb\\run-20230608_152516-cyrxwf1u\\files\\model-best\\assets\n"
     ]
    },
    {
     "name": "stderr",
     "output_type": "stream",
     "text": [
      "INFO:tensorflow:Assets written to: C:\\Programming\\2023-Kretinin-NER_NN_for_text_classification\\notebooks\\wandb\\run-20230608_152516-cyrxwf1u\\files\\model-best\\assets\n",
      "\u001b[34m\u001b[1mwandb\u001b[0m: Adding directory to artifact (C:\\Programming\\2023-Kretinin-NER_NN_for_text_classification\\notebooks\\wandb\\run-20230608_152516-cyrxwf1u\\files\\model-best)... Done. 0.2s\n"
     ]
    },
    {
     "name": "stdout",
     "output_type": "stream",
     "text": [
      "333/333 [==============================] - 43s 129ms/step - loss: 0.0648 - accuracy: 0.9800 - val_loss: 0.0675 - val_accuracy: 0.9789\n",
      "Epoch 4/6\n",
      "332/333 [============================>.] - ETA: 0s - loss: 0.0519 - accuracy: 0.9843"
     ]
    },
    {
     "name": "stderr",
     "output_type": "stream",
     "text": [
      "WARNING:absl:Found untraced functions such as lstm_cell_1_layer_call_fn, lstm_cell_1_layer_call_and_return_conditional_losses, lstm_cell_2_layer_call_fn, lstm_cell_2_layer_call_and_return_conditional_losses, lstm_cell_4_layer_call_fn while saving (showing 5 of 8). These functions will not be directly callable after loading.\n"
     ]
    },
    {
     "name": "stdout",
     "output_type": "stream",
     "text": [
      "INFO:tensorflow:Assets written to: C:\\Programming\\2023-Kretinin-NER_NN_for_text_classification\\notebooks\\wandb\\run-20230608_152516-cyrxwf1u\\files\\model-best\\assets\n"
     ]
    },
    {
     "name": "stderr",
     "output_type": "stream",
     "text": [
      "INFO:tensorflow:Assets written to: C:\\Programming\\2023-Kretinin-NER_NN_for_text_classification\\notebooks\\wandb\\run-20230608_152516-cyrxwf1u\\files\\model-best\\assets\n",
      "\u001b[34m\u001b[1mwandb\u001b[0m: Adding directory to artifact (C:\\Programming\\2023-Kretinin-NER_NN_for_text_classification\\notebooks\\wandb\\run-20230608_152516-cyrxwf1u\\files\\model-best)... Done. 0.2s\n"
     ]
    },
    {
     "name": "stdout",
     "output_type": "stream",
     "text": [
      "333/333 [==============================] - 43s 128ms/step - loss: 0.0519 - accuracy: 0.9843 - val_loss: 0.0511 - val_accuracy: 0.9846\n",
      "Epoch 5/6\n",
      "332/333 [============================>.] - ETA: 0s - loss: 0.0421 - accuracy: 0.9876"
     ]
    },
    {
     "name": "stderr",
     "output_type": "stream",
     "text": [
      "WARNING:absl:Found untraced functions such as lstm_cell_1_layer_call_fn, lstm_cell_1_layer_call_and_return_conditional_losses, lstm_cell_2_layer_call_fn, lstm_cell_2_layer_call_and_return_conditional_losses, lstm_cell_4_layer_call_fn while saving (showing 5 of 8). These functions will not be directly callable after loading.\n"
     ]
    },
    {
     "name": "stdout",
     "output_type": "stream",
     "text": [
      "INFO:tensorflow:Assets written to: C:\\Programming\\2023-Kretinin-NER_NN_for_text_classification\\notebooks\\wandb\\run-20230608_152516-cyrxwf1u\\files\\model-best\\assets\n"
     ]
    },
    {
     "name": "stderr",
     "output_type": "stream",
     "text": [
      "INFO:tensorflow:Assets written to: C:\\Programming\\2023-Kretinin-NER_NN_for_text_classification\\notebooks\\wandb\\run-20230608_152516-cyrxwf1u\\files\\model-best\\assets\n",
      "\u001b[34m\u001b[1mwandb\u001b[0m: Adding directory to artifact (C:\\Programming\\2023-Kretinin-NER_NN_for_text_classification\\notebooks\\wandb\\run-20230608_152516-cyrxwf1u\\files\\model-best)... Done. 0.2s\n"
     ]
    },
    {
     "name": "stdout",
     "output_type": "stream",
     "text": [
      "333/333 [==============================] - 43s 129ms/step - loss: 0.0422 - accuracy: 0.9876 - val_loss: 0.0473 - val_accuracy: 0.9859\n",
      "Epoch 6/6\n",
      "333/333 [==============================] - 24s 71ms/step - loss: 0.0331 - accuracy: 0.9906 - val_loss: 0.0525 - val_accuracy: 0.9845\n"
     ]
    },
    {
     "data": {
      "text/html": [
       "Waiting for W&B process to finish... <strong style=\"color:green\">(success).</strong>"
      ],
      "text/plain": [
       "<IPython.core.display.HTML object>"
      ]
     },
     "metadata": {},
     "output_type": "display_data"
    },
    {
     "data": {
      "text/html": [
       "<style>\n",
       "    table.wandb td:nth-child(1) { padding: 0 10px; text-align: left ; width: auto;} td:nth-child(2) {text-align: left ; width: 100%}\n",
       "    .wandb-row { display: flex; flex-direction: row; flex-wrap: wrap; justify-content: flex-start; width: 100% }\n",
       "    .wandb-col { display: flex; flex-direction: column; flex-basis: 100%; flex: 1; padding: 10px; }\n",
       "    </style>\n",
       "<div class=\"wandb-row\"><div class=\"wandb-col\"><h3>Run history:</h3><br/><table class=\"wandb\"><tr><td>accuracy</td><td>▁▃▅▆▇█</td></tr><tr><td>epoch</td><td>▁▂▄▅▇█</td></tr><tr><td>loss</td><td>█▃▂▂▁▁</td></tr><tr><td>val_accuracy</td><td>▁▄▅██▇▇</td></tr><tr><td>val_loss</td><td>█▃▂▁▁▁▁</td></tr></table><br/></div><div class=\"wandb-col\"><h3>Run summary:</h3><br/><table class=\"wandb\"><tr><td>accuracy</td><td>0.99062</td></tr><tr><td>best_epoch</td><td>4</td></tr><tr><td>best_val_loss</td><td>0.04735</td></tr><tr><td>epoch</td><td>5</td></tr><tr><td>loss</td><td>0.03306</td></tr><tr><td>val_accuracy</td><td>0.98449</td></tr><tr><td>val_loss</td><td>0.05245</td></tr></table><br/></div></div>"
      ],
      "text/plain": [
       "<IPython.core.display.HTML object>"
      ]
     },
     "metadata": {},
     "output_type": "display_data"
    },
    {
     "data": {
      "text/html": [
       " View run <strong style=\"color:#cdcd00\">lilac-sweep-5</strong> at: <a href='https://wandb.ai/xkretinin/uncategorized/runs/cyrxwf1u' target=\"_blank\">https://wandb.ai/xkretinin/uncategorized/runs/cyrxwf1u</a><br/>Synced 5 W&B file(s), 1 media file(s), 20 artifact file(s) and 1 other file(s)"
      ],
      "text/plain": [
       "<IPython.core.display.HTML object>"
      ]
     },
     "metadata": {},
     "output_type": "display_data"
    },
    {
     "data": {
      "text/html": [
       "Find logs at: <code>.\\wandb\\run-20230608_152516-cyrxwf1u\\logs</code>"
      ],
      "text/plain": [
       "<IPython.core.display.HTML object>"
      ]
     },
     "metadata": {},
     "output_type": "display_data"
    },
    {
     "name": "stderr",
     "output_type": "stream",
     "text": [
      "\u001b[34m\u001b[1mwandb\u001b[0m: Agent Starting Run: hq182b17 with config:\n",
      "\u001b[34m\u001b[1mwandb\u001b[0m: \tbatch_size_divisor: 1\n",
      "\u001b[34m\u001b[1mwandb\u001b[0m: \tdropout: 0.4\n",
      "\u001b[34m\u001b[1mwandb\u001b[0m: \tepochs: 6\n",
      "\u001b[34m\u001b[1mwandb\u001b[0m: \tlearning_rate: 0.0009402013401109628\n",
      "\u001b[34m\u001b[1mwandb\u001b[0m: \toptimizer: Adam\n"
     ]
    },
    {
     "data": {
      "text/html": [
       "wandb version 0.15.4 is available!  To upgrade, please run:\n",
       " $ pip install wandb --upgrade"
      ],
      "text/plain": [
       "<IPython.core.display.HTML object>"
      ]
     },
     "metadata": {},
     "output_type": "display_data"
    },
    {
     "data": {
      "text/html": [
       "Tracking run with wandb version 0.13.10"
      ],
      "text/plain": [
       "<IPython.core.display.HTML object>"
      ]
     },
     "metadata": {},
     "output_type": "display_data"
    },
    {
     "data": {
      "text/html": [
       "Run data is saved locally in <code>C:\\Programming\\2023-Kretinin-NER_NN_for_text_classification\\notebooks\\wandb\\run-20230608_152955-hq182b17</code>"
      ],
      "text/plain": [
       "<IPython.core.display.HTML object>"
      ]
     },
     "metadata": {},
     "output_type": "display_data"
    },
    {
     "data": {
      "text/html": [
       "Syncing run <strong><a href='https://wandb.ai/xkretinin/uncategorized/runs/hq182b17' target=\"_blank\">clean-sweep-6</a></strong> to <a href='https://wandb.ai/xkretinin/uncategorized' target=\"_blank\">Weights & Biases</a> (<a href='https://wandb.me/run' target=\"_blank\">docs</a>)<br/>Sweep page: <a href='https://wandb.ai/xkretinin/uncategorized/sweeps/7owi962b' target=\"_blank\">https://wandb.ai/xkretinin/uncategorized/sweeps/7owi962b</a>"
      ],
      "text/plain": [
       "<IPython.core.display.HTML object>"
      ]
     },
     "metadata": {},
     "output_type": "display_data"
    },
    {
     "data": {
      "text/html": [
       " View project at <a href='https://wandb.ai/xkretinin/uncategorized' target=\"_blank\">https://wandb.ai/xkretinin/uncategorized</a>"
      ],
      "text/plain": [
       "<IPython.core.display.HTML object>"
      ]
     },
     "metadata": {},
     "output_type": "display_data"
    },
    {
     "data": {
      "text/html": [
       " View sweep at <a href='https://wandb.ai/xkretinin/uncategorized/sweeps/7owi962b' target=\"_blank\">https://wandb.ai/xkretinin/uncategorized/sweeps/7owi962b</a>"
      ],
      "text/plain": [
       "<IPython.core.display.HTML object>"
      ]
     },
     "metadata": {},
     "output_type": "display_data"
    },
    {
     "data": {
      "text/html": [
       " View run at <a href='https://wandb.ai/xkretinin/uncategorized/runs/hq182b17' target=\"_blank\">https://wandb.ai/xkretinin/uncategorized/runs/hq182b17</a>"
      ],
      "text/plain": [
       "<IPython.core.display.HTML object>"
      ]
     },
     "metadata": {},
     "output_type": "display_data"
    },
    {
     "name": "stdout",
     "output_type": "stream",
     "text": [
      "Model: \"model\"\n",
      "_________________________________________________________________\n",
      " Layer (type)                Output Shape              Param #   \n",
      "=================================================================\n",
      " input_1 (InputLayer)        [(None, 104)]             0         \n",
      "                                                                 \n",
      " embedding (Embedding)       (None, 104, 100)          3517900   \n",
      "                                                                 \n",
      " bidirectional (Bidirectiona  (None, 104, 200)         160800    \n",
      " l)                                                              \n",
      "                                                                 \n",
      " dropout (Dropout)           (None, 104, 200)          0         \n",
      "                                                                 \n",
      " bidirectional_1 (Bidirectio  (None, 104, 200)         240800    \n",
      " nal)                                                            \n",
      "                                                                 \n",
      " time_distributed (TimeDistr  (None, 104, 68)          13668     \n",
      " ibuted)                                                         \n",
      "                                                                 \n",
      " time_distributed_1 (TimeDis  (None, 104, 34)          2346      \n",
      " tributed)                                                       \n",
      "                                                                 \n",
      " dense_2 (Dense)             (None, 104, 17)           595       \n",
      "                                                                 \n",
      "=================================================================\n",
      "Total params: 3,936,109\n",
      "Trainable params: 3,936,109\n",
      "Non-trainable params: 0\n",
      "_________________________________________________________________\n",
      "Epoch 1/6\n",
      "332/333 [============================>.] - ETA: 0s - loss: 0.2052 - accuracy: 0.9672"
     ]
    },
    {
     "name": "stderr",
     "output_type": "stream",
     "text": [
      "WARNING:absl:Found untraced functions such as lstm_cell_1_layer_call_fn, lstm_cell_1_layer_call_and_return_conditional_losses, lstm_cell_2_layer_call_fn, lstm_cell_2_layer_call_and_return_conditional_losses, lstm_cell_4_layer_call_fn while saving (showing 5 of 8). These functions will not be directly callable after loading.\n"
     ]
    },
    {
     "name": "stdout",
     "output_type": "stream",
     "text": [
      "INFO:tensorflow:Assets written to: C:\\Programming\\2023-Kretinin-NER_NN_for_text_classification\\notebooks\\wandb\\run-20230608_152955-hq182b17\\files\\model-best\\assets\n"
     ]
    },
    {
     "name": "stderr",
     "output_type": "stream",
     "text": [
      "INFO:tensorflow:Assets written to: C:\\Programming\\2023-Kretinin-NER_NN_for_text_classification\\notebooks\\wandb\\run-20230608_152955-hq182b17\\files\\model-best\\assets\n",
      "\u001b[34m\u001b[1mwandb\u001b[0m: Adding directory to artifact (C:\\Programming\\2023-Kretinin-NER_NN_for_text_classification\\notebooks\\wandb\\run-20230608_152955-hq182b17\\files\\model-best)... Done. 0.2s\n"
     ]
    },
    {
     "name": "stdout",
     "output_type": "stream",
     "text": [
      "333/333 [==============================] - 48s 130ms/step - loss: 0.2052 - accuracy: 0.9672 - val_loss: 0.0654 - val_accuracy: 0.9811\n",
      "Epoch 2/6\n",
      "332/333 [============================>.] - ETA: 0s - loss: 0.0492 - accuracy: 0.9856"
     ]
    },
    {
     "name": "stderr",
     "output_type": "stream",
     "text": [
      "WARNING:absl:Found untraced functions such as lstm_cell_1_layer_call_fn, lstm_cell_1_layer_call_and_return_conditional_losses, lstm_cell_2_layer_call_fn, lstm_cell_2_layer_call_and_return_conditional_losses, lstm_cell_4_layer_call_fn while saving (showing 5 of 8). These functions will not be directly callable after loading.\n"
     ]
    },
    {
     "name": "stdout",
     "output_type": "stream",
     "text": [
      "INFO:tensorflow:Assets written to: C:\\Programming\\2023-Kretinin-NER_NN_for_text_classification\\notebooks\\wandb\\run-20230608_152955-hq182b17\\files\\model-best\\assets\n"
     ]
    },
    {
     "name": "stderr",
     "output_type": "stream",
     "text": [
      "INFO:tensorflow:Assets written to: C:\\Programming\\2023-Kretinin-NER_NN_for_text_classification\\notebooks\\wandb\\run-20230608_152955-hq182b17\\files\\model-best\\assets\n",
      "\u001b[34m\u001b[1mwandb\u001b[0m: Adding directory to artifact (C:\\Programming\\2023-Kretinin-NER_NN_for_text_classification\\notebooks\\wandb\\run-20230608_152955-hq182b17\\files\\model-best)... Done. 0.2s\n"
     ]
    },
    {
     "name": "stdout",
     "output_type": "stream",
     "text": [
      "333/333 [==============================] - 41s 123ms/step - loss: 0.0492 - accuracy: 0.9856 - val_loss: 0.0412 - val_accuracy: 0.9883\n",
      "Epoch 3/6\n",
      "332/333 [============================>.] - ETA: 0s - loss: 0.0299 - accuracy: 0.9914"
     ]
    },
    {
     "name": "stderr",
     "output_type": "stream",
     "text": [
      "WARNING:absl:Found untraced functions such as lstm_cell_1_layer_call_fn, lstm_cell_1_layer_call_and_return_conditional_losses, lstm_cell_2_layer_call_fn, lstm_cell_2_layer_call_and_return_conditional_losses, lstm_cell_4_layer_call_fn while saving (showing 5 of 8). These functions will not be directly callable after loading.\n"
     ]
    },
    {
     "name": "stdout",
     "output_type": "stream",
     "text": [
      "INFO:tensorflow:Assets written to: C:\\Programming\\2023-Kretinin-NER_NN_for_text_classification\\notebooks\\wandb\\run-20230608_152955-hq182b17\\files\\model-best\\assets\n"
     ]
    },
    {
     "name": "stderr",
     "output_type": "stream",
     "text": [
      "INFO:tensorflow:Assets written to: C:\\Programming\\2023-Kretinin-NER_NN_for_text_classification\\notebooks\\wandb\\run-20230608_152955-hq182b17\\files\\model-best\\assets\n",
      "\u001b[34m\u001b[1mwandb\u001b[0m: Adding directory to artifact (C:\\Programming\\2023-Kretinin-NER_NN_for_text_classification\\notebooks\\wandb\\run-20230608_152955-hq182b17\\files\\model-best)... Done. 0.2s\n"
     ]
    },
    {
     "name": "stdout",
     "output_type": "stream",
     "text": [
      "333/333 [==============================] - 41s 123ms/step - loss: 0.0299 - accuracy: 0.9914 - val_loss: 0.0328 - val_accuracy: 0.9905\n",
      "Epoch 4/6\n",
      "332/333 [============================>.] - ETA: 0s - loss: 0.0220 - accuracy: 0.9936"
     ]
    },
    {
     "name": "stderr",
     "output_type": "stream",
     "text": [
      "WARNING:absl:Found untraced functions such as lstm_cell_1_layer_call_fn, lstm_cell_1_layer_call_and_return_conditional_losses, lstm_cell_2_layer_call_fn, lstm_cell_2_layer_call_and_return_conditional_losses, lstm_cell_4_layer_call_fn while saving (showing 5 of 8). These functions will not be directly callable after loading.\n"
     ]
    },
    {
     "name": "stdout",
     "output_type": "stream",
     "text": [
      "INFO:tensorflow:Assets written to: C:\\Programming\\2023-Kretinin-NER_NN_for_text_classification\\notebooks\\wandb\\run-20230608_152955-hq182b17\\files\\model-best\\assets\n"
     ]
    },
    {
     "name": "stderr",
     "output_type": "stream",
     "text": [
      "INFO:tensorflow:Assets written to: C:\\Programming\\2023-Kretinin-NER_NN_for_text_classification\\notebooks\\wandb\\run-20230608_152955-hq182b17\\files\\model-best\\assets\n",
      "\u001b[34m\u001b[1mwandb\u001b[0m: Adding directory to artifact (C:\\Programming\\2023-Kretinin-NER_NN_for_text_classification\\notebooks\\wandb\\run-20230608_152955-hq182b17\\files\\model-best)... Done. 0.2s\n"
     ]
    },
    {
     "name": "stdout",
     "output_type": "stream",
     "text": [
      "333/333 [==============================] - 41s 122ms/step - loss: 0.0220 - accuracy: 0.9936 - val_loss: 0.0300 - val_accuracy: 0.9920\n",
      "Epoch 5/6\n",
      "333/333 [==============================] - 22s 66ms/step - loss: 0.0180 - accuracy: 0.9947 - val_loss: 0.0302 - val_accuracy: 0.9916\n"
     ]
    },
    {
     "data": {
      "text/html": [
       "Waiting for W&B process to finish... <strong style=\"color:green\">(success).</strong>"
      ],
      "text/plain": [
       "<IPython.core.display.HTML object>"
      ]
     },
     "metadata": {},
     "output_type": "display_data"
    },
    {
     "data": {
      "application/vnd.jupyter.widget-view+json": {
       "model_id": "391fe3affce44fa993de86e49125f92a",
       "version_major": 2,
       "version_minor": 0
      },
      "text/plain": [
       "VBox(children=(Label(value='242.748 MB of 242.748 MB uploaded (0.099 MB deduped)\\r'), FloatProgress(value=1.0,…"
      ]
     },
     "metadata": {},
     "output_type": "display_data"
    },
    {
     "data": {
      "text/html": [
       "<style>\n",
       "    table.wandb td:nth-child(1) { padding: 0 10px; text-align: left ; width: auto;} td:nth-child(2) {text-align: left ; width: 100%}\n",
       "    .wandb-row { display: flex; flex-direction: row; flex-wrap: wrap; justify-content: flex-start; width: 100% }\n",
       "    .wandb-col { display: flex; flex-direction: column; flex-basis: 100%; flex: 1; padding: 10px; }\n",
       "    </style>\n",
       "<div class=\"wandb-row\"><div class=\"wandb-col\"><h3>Run history:</h3><br/><table class=\"wandb\"><tr><td>accuracy</td><td>▁▆▇██</td></tr><tr><td>epoch</td><td>▁▃▅▆█</td></tr><tr><td>loss</td><td>█▂▁▁▁</td></tr><tr><td>val_accuracy</td><td>▁▆▇███</td></tr><tr><td>val_loss</td><td>█▃▂▁▁▁</td></tr></table><br/></div><div class=\"wandb-col\"><h3>Run summary:</h3><br/><table class=\"wandb\"><tr><td>accuracy</td><td>0.99471</td></tr><tr><td>best_epoch</td><td>3</td></tr><tr><td>best_val_loss</td><td>0.02996</td></tr><tr><td>epoch</td><td>4</td></tr><tr><td>loss</td><td>0.01805</td></tr><tr><td>val_accuracy</td><td>0.99159</td></tr><tr><td>val_loss</td><td>0.03021</td></tr></table><br/></div></div>"
      ],
      "text/plain": [
       "<IPython.core.display.HTML object>"
      ]
     },
     "metadata": {},
     "output_type": "display_data"
    },
    {
     "data": {
      "text/html": [
       " View run <strong style=\"color:#cdcd00\">clean-sweep-6</strong> at: <a href='https://wandb.ai/xkretinin/uncategorized/runs/hq182b17' target=\"_blank\">https://wandb.ai/xkretinin/uncategorized/runs/hq182b17</a><br/>Synced 5 W&B file(s), 1 media file(s), 16 artifact file(s) and 1 other file(s)"
      ],
      "text/plain": [
       "<IPython.core.display.HTML object>"
      ]
     },
     "metadata": {},
     "output_type": "display_data"
    },
    {
     "data": {
      "text/html": [
       "Find logs at: <code>.\\wandb\\run-20230608_152955-hq182b17\\logs</code>"
      ],
      "text/plain": [
       "<IPython.core.display.HTML object>"
      ]
     },
     "metadata": {},
     "output_type": "display_data"
    },
    {
     "name": "stderr",
     "output_type": "stream",
     "text": [
      "\u001b[34m\u001b[1mwandb\u001b[0m: Agent Starting Run: tyxv81e8 with config:\n",
      "\u001b[34m\u001b[1mwandb\u001b[0m: \tbatch_size_divisor: 1\n",
      "\u001b[34m\u001b[1mwandb\u001b[0m: \tdropout: 0.6\n",
      "\u001b[34m\u001b[1mwandb\u001b[0m: \tepochs: 6\n",
      "\u001b[34m\u001b[1mwandb\u001b[0m: \tlearning_rate: 0.00019625462199642993\n",
      "\u001b[34m\u001b[1mwandb\u001b[0m: \toptimizer: RMSprop\n"
     ]
    },
    {
     "data": {
      "text/html": [
       "wandb version 0.15.4 is available!  To upgrade, please run:\n",
       " $ pip install wandb --upgrade"
      ],
      "text/plain": [
       "<IPython.core.display.HTML object>"
      ]
     },
     "metadata": {},
     "output_type": "display_data"
    },
    {
     "data": {
      "text/html": [
       "Tracking run with wandb version 0.13.10"
      ],
      "text/plain": [
       "<IPython.core.display.HTML object>"
      ]
     },
     "metadata": {},
     "output_type": "display_data"
    },
    {
     "data": {
      "text/html": [
       "Run data is saved locally in <code>C:\\Programming\\2023-Kretinin-NER_NN_for_text_classification\\notebooks\\wandb\\run-20230608_153339-tyxv81e8</code>"
      ],
      "text/plain": [
       "<IPython.core.display.HTML object>"
      ]
     },
     "metadata": {},
     "output_type": "display_data"
    },
    {
     "data": {
      "text/html": [
       "Syncing run <strong><a href='https://wandb.ai/xkretinin/uncategorized/runs/tyxv81e8' target=\"_blank\">desert-sweep-7</a></strong> to <a href='https://wandb.ai/xkretinin/uncategorized' target=\"_blank\">Weights & Biases</a> (<a href='https://wandb.me/run' target=\"_blank\">docs</a>)<br/>Sweep page: <a href='https://wandb.ai/xkretinin/uncategorized/sweeps/7owi962b' target=\"_blank\">https://wandb.ai/xkretinin/uncategorized/sweeps/7owi962b</a>"
      ],
      "text/plain": [
       "<IPython.core.display.HTML object>"
      ]
     },
     "metadata": {},
     "output_type": "display_data"
    },
    {
     "data": {
      "text/html": [
       " View project at <a href='https://wandb.ai/xkretinin/uncategorized' target=\"_blank\">https://wandb.ai/xkretinin/uncategorized</a>"
      ],
      "text/plain": [
       "<IPython.core.display.HTML object>"
      ]
     },
     "metadata": {},
     "output_type": "display_data"
    },
    {
     "data": {
      "text/html": [
       " View sweep at <a href='https://wandb.ai/xkretinin/uncategorized/sweeps/7owi962b' target=\"_blank\">https://wandb.ai/xkretinin/uncategorized/sweeps/7owi962b</a>"
      ],
      "text/plain": [
       "<IPython.core.display.HTML object>"
      ]
     },
     "metadata": {},
     "output_type": "display_data"
    },
    {
     "data": {
      "text/html": [
       " View run at <a href='https://wandb.ai/xkretinin/uncategorized/runs/tyxv81e8' target=\"_blank\">https://wandb.ai/xkretinin/uncategorized/runs/tyxv81e8</a>"
      ],
      "text/plain": [
       "<IPython.core.display.HTML object>"
      ]
     },
     "metadata": {},
     "output_type": "display_data"
    },
    {
     "name": "stdout",
     "output_type": "stream",
     "text": [
      "Model: \"model\"\n",
      "_________________________________________________________________\n",
      " Layer (type)                Output Shape              Param #   \n",
      "=================================================================\n",
      " input_1 (InputLayer)        [(None, 104)]             0         \n",
      "                                                                 \n",
      " embedding (Embedding)       (None, 104, 100)          3517900   \n",
      "                                                                 \n",
      " bidirectional (Bidirectiona  (None, 104, 200)         160800    \n",
      " l)                                                              \n",
      "                                                                 \n",
      " dropout (Dropout)           (None, 104, 200)          0         \n",
      "                                                                 \n",
      " bidirectional_1 (Bidirectio  (None, 104, 200)         240800    \n",
      " nal)                                                            \n",
      "                                                                 \n",
      " time_distributed (TimeDistr  (None, 104, 68)          13668     \n",
      " ibuted)                                                         \n",
      "                                                                 \n",
      " time_distributed_1 (TimeDis  (None, 104, 34)          2346      \n",
      " tributed)                                                       \n",
      "                                                                 \n",
      " dense_2 (Dense)             (None, 104, 17)           595       \n",
      "                                                                 \n",
      "=================================================================\n",
      "Total params: 3,936,109\n",
      "Trainable params: 3,936,109\n",
      "Non-trainable params: 0\n",
      "_________________________________________________________________\n",
      "Epoch 1/6\n",
      "332/333 [============================>.] - ETA: 0s - loss: 0.2951 - accuracy: 0.9581"
     ]
    },
    {
     "name": "stderr",
     "output_type": "stream",
     "text": [
      "WARNING:absl:Found untraced functions such as lstm_cell_1_layer_call_fn, lstm_cell_1_layer_call_and_return_conditional_losses, lstm_cell_2_layer_call_fn, lstm_cell_2_layer_call_and_return_conditional_losses, lstm_cell_4_layer_call_fn while saving (showing 5 of 8). These functions will not be directly callable after loading.\n"
     ]
    },
    {
     "name": "stdout",
     "output_type": "stream",
     "text": [
      "INFO:tensorflow:Assets written to: C:\\Programming\\2023-Kretinin-NER_NN_for_text_classification\\notebooks\\wandb\\run-20230608_153339-tyxv81e8\\files\\model-best\\assets\n"
     ]
    },
    {
     "name": "stderr",
     "output_type": "stream",
     "text": [
      "INFO:tensorflow:Assets written to: C:\\Programming\\2023-Kretinin-NER_NN_for_text_classification\\notebooks\\wandb\\run-20230608_153339-tyxv81e8\\files\\model-best\\assets\n",
      "\u001b[34m\u001b[1mwandb\u001b[0m: Adding directory to artifact (C:\\Programming\\2023-Kretinin-NER_NN_for_text_classification\\notebooks\\wandb\\run-20230608_153339-tyxv81e8\\files\\model-best)... Done. 0.1s\n"
     ]
    },
    {
     "name": "stdout",
     "output_type": "stream",
     "text": [
      "333/333 [==============================] - 48s 126ms/step - loss: 0.2951 - accuracy: 0.9581 - val_loss: 0.1298 - val_accuracy: 0.9679\n",
      "Epoch 2/6\n",
      "332/333 [============================>.] - ETA: 0s - loss: 0.0950 - accuracy: 0.9736"
     ]
    },
    {
     "name": "stderr",
     "output_type": "stream",
     "text": [
      "WARNING:absl:Found untraced functions such as lstm_cell_1_layer_call_fn, lstm_cell_1_layer_call_and_return_conditional_losses, lstm_cell_2_layer_call_fn, lstm_cell_2_layer_call_and_return_conditional_losses, lstm_cell_4_layer_call_fn while saving (showing 5 of 8). These functions will not be directly callable after loading.\n"
     ]
    },
    {
     "name": "stdout",
     "output_type": "stream",
     "text": [
      "INFO:tensorflow:Assets written to: C:\\Programming\\2023-Kretinin-NER_NN_for_text_classification\\notebooks\\wandb\\run-20230608_153339-tyxv81e8\\files\\model-best\\assets\n"
     ]
    },
    {
     "name": "stderr",
     "output_type": "stream",
     "text": [
      "INFO:tensorflow:Assets written to: C:\\Programming\\2023-Kretinin-NER_NN_for_text_classification\\notebooks\\wandb\\run-20230608_153339-tyxv81e8\\files\\model-best\\assets\n",
      "\u001b[34m\u001b[1mwandb\u001b[0m: Adding directory to artifact (C:\\Programming\\2023-Kretinin-NER_NN_for_text_classification\\notebooks\\wandb\\run-20230608_153339-tyxv81e8\\files\\model-best)... Done. 0.1s\n"
     ]
    },
    {
     "name": "stdout",
     "output_type": "stream",
     "text": [
      "333/333 [==============================] - 40s 121ms/step - loss: 0.0950 - accuracy: 0.9736 - val_loss: 0.0762 - val_accuracy: 0.9784\n",
      "Epoch 3/6\n",
      "332/333 [============================>.] - ETA: 0s - loss: 0.0646 - accuracy: 0.9816"
     ]
    },
    {
     "name": "stderr",
     "output_type": "stream",
     "text": [
      "WARNING:absl:Found untraced functions such as lstm_cell_1_layer_call_fn, lstm_cell_1_layer_call_and_return_conditional_losses, lstm_cell_2_layer_call_fn, lstm_cell_2_layer_call_and_return_conditional_losses, lstm_cell_4_layer_call_fn while saving (showing 5 of 8). These functions will not be directly callable after loading.\n"
     ]
    },
    {
     "name": "stdout",
     "output_type": "stream",
     "text": [
      "INFO:tensorflow:Assets written to: C:\\Programming\\2023-Kretinin-NER_NN_for_text_classification\\notebooks\\wandb\\run-20230608_153339-tyxv81e8\\files\\model-best\\assets\n"
     ]
    },
    {
     "name": "stderr",
     "output_type": "stream",
     "text": [
      "INFO:tensorflow:Assets written to: C:\\Programming\\2023-Kretinin-NER_NN_for_text_classification\\notebooks\\wandb\\run-20230608_153339-tyxv81e8\\files\\model-best\\assets\n",
      "\u001b[34m\u001b[1mwandb\u001b[0m: Adding directory to artifact (C:\\Programming\\2023-Kretinin-NER_NN_for_text_classification\\notebooks\\wandb\\run-20230608_153339-tyxv81e8\\files\\model-best)... Done. 0.1s\n"
     ]
    },
    {
     "name": "stdout",
     "output_type": "stream",
     "text": [
      "333/333 [==============================] - 41s 124ms/step - loss: 0.0646 - accuracy: 0.9816 - val_loss: 0.0624 - val_accuracy: 0.9825\n",
      "Epoch 4/6\n",
      "332/333 [============================>.] - ETA: 0s - loss: 0.0535 - accuracy: 0.9844"
     ]
    },
    {
     "name": "stderr",
     "output_type": "stream",
     "text": [
      "WARNING:absl:Found untraced functions such as lstm_cell_1_layer_call_fn, lstm_cell_1_layer_call_and_return_conditional_losses, lstm_cell_2_layer_call_fn, lstm_cell_2_layer_call_and_return_conditional_losses, lstm_cell_4_layer_call_fn while saving (showing 5 of 8). These functions will not be directly callable after loading.\n"
     ]
    },
    {
     "name": "stdout",
     "output_type": "stream",
     "text": [
      "INFO:tensorflow:Assets written to: C:\\Programming\\2023-Kretinin-NER_NN_for_text_classification\\notebooks\\wandb\\run-20230608_153339-tyxv81e8\\files\\model-best\\assets\n"
     ]
    },
    {
     "name": "stderr",
     "output_type": "stream",
     "text": [
      "INFO:tensorflow:Assets written to: C:\\Programming\\2023-Kretinin-NER_NN_for_text_classification\\notebooks\\wandb\\run-20230608_153339-tyxv81e8\\files\\model-best\\assets\n",
      "\u001b[34m\u001b[1mwandb\u001b[0m: Adding directory to artifact (C:\\Programming\\2023-Kretinin-NER_NN_for_text_classification\\notebooks\\wandb\\run-20230608_153339-tyxv81e8\\files\\model-best)... Done. 0.1s\n"
     ]
    },
    {
     "name": "stdout",
     "output_type": "stream",
     "text": [
      "333/333 [==============================] - 41s 123ms/step - loss: 0.0535 - accuracy: 0.9844 - val_loss: 0.0542 - val_accuracy: 0.9842\n",
      "Epoch 5/6\n",
      "332/333 [============================>.] - ETA: 0s - loss: 0.0464 - accuracy: 0.9866"
     ]
    },
    {
     "name": "stderr",
     "output_type": "stream",
     "text": [
      "WARNING:absl:Found untraced functions such as lstm_cell_1_layer_call_fn, lstm_cell_1_layer_call_and_return_conditional_losses, lstm_cell_2_layer_call_fn, lstm_cell_2_layer_call_and_return_conditional_losses, lstm_cell_4_layer_call_fn while saving (showing 5 of 8). These functions will not be directly callable after loading.\n"
     ]
    },
    {
     "name": "stdout",
     "output_type": "stream",
     "text": [
      "INFO:tensorflow:Assets written to: C:\\Programming\\2023-Kretinin-NER_NN_for_text_classification\\notebooks\\wandb\\run-20230608_153339-tyxv81e8\\files\\model-best\\assets\n"
     ]
    },
    {
     "name": "stderr",
     "output_type": "stream",
     "text": [
      "INFO:tensorflow:Assets written to: C:\\Programming\\2023-Kretinin-NER_NN_for_text_classification\\notebooks\\wandb\\run-20230608_153339-tyxv81e8\\files\\model-best\\assets\n",
      "\u001b[34m\u001b[1mwandb\u001b[0m: Adding directory to artifact (C:\\Programming\\2023-Kretinin-NER_NN_for_text_classification\\notebooks\\wandb\\run-20230608_153339-tyxv81e8\\files\\model-best)... Done. 0.1s\n"
     ]
    },
    {
     "name": "stdout",
     "output_type": "stream",
     "text": [
      "333/333 [==============================] - 41s 124ms/step - loss: 0.0464 - accuracy: 0.9866 - val_loss: 0.0502 - val_accuracy: 0.9858\n",
      "Epoch 6/6\n",
      "332/333 [============================>.] - ETA: 0s - loss: 0.0419 - accuracy: 0.9878"
     ]
    },
    {
     "name": "stderr",
     "output_type": "stream",
     "text": [
      "WARNING:absl:Found untraced functions such as lstm_cell_1_layer_call_fn, lstm_cell_1_layer_call_and_return_conditional_losses, lstm_cell_2_layer_call_fn, lstm_cell_2_layer_call_and_return_conditional_losses, lstm_cell_4_layer_call_fn while saving (showing 5 of 8). These functions will not be directly callable after loading.\n"
     ]
    },
    {
     "name": "stdout",
     "output_type": "stream",
     "text": [
      "INFO:tensorflow:Assets written to: C:\\Programming\\2023-Kretinin-NER_NN_for_text_classification\\notebooks\\wandb\\run-20230608_153339-tyxv81e8\\files\\model-best\\assets\n"
     ]
    },
    {
     "name": "stderr",
     "output_type": "stream",
     "text": [
      "INFO:tensorflow:Assets written to: C:\\Programming\\2023-Kretinin-NER_NN_for_text_classification\\notebooks\\wandb\\run-20230608_153339-tyxv81e8\\files\\model-best\\assets\n",
      "\u001b[34m\u001b[1mwandb\u001b[0m: Adding directory to artifact (C:\\Programming\\2023-Kretinin-NER_NN_for_text_classification\\notebooks\\wandb\\run-20230608_153339-tyxv81e8\\files\\model-best)... Done. 0.1s\n"
     ]
    },
    {
     "name": "stdout",
     "output_type": "stream",
     "text": [
      "\b\b\b\b\b\b\b\b\b\b\b\b\b\b\b\b\b\b\b\b\b\b\b\b\b\b\b\b\b\b\b\b\b\b\b\b\b\b\b\b\b\b\b\b\b\b\b\b\b\b\b\b\b\b\b\b\b\b\b\b\b\b\b\b\b\b\b\b\b\b\b\b\b\b\b\b\b\b\b\b\b\b\b\b\r",
      "333/333 [==============================] - 41s 122ms/step - loss: 0.0419 - accuracy: 0.9878 - val_loss: 0.0440 - val_accuracy: 0.9872\n"
     ]
    },
    {
     "data": {
      "text/html": [
       "Waiting for W&B process to finish... <strong style=\"color:green\">(success).</strong>"
      ],
      "text/plain": [
       "<IPython.core.display.HTML object>"
      ]
     },
     "metadata": {},
     "output_type": "display_data"
    }
   ],
   "source": [
    "sweep_config = {\n",
    "    'method': 'random',\n",
    "    'metric': {\n",
    "        'name': 'val_accuracy',\n",
    "        'goal': 'maximize'\n",
    "    },\n",
    "    'parameters': {\n",
    "        'dropout': {\n",
    "            'values': [0.2, 0.3, 0.4, 0.5, 0.6]\n",
    "        },\n",
    "        'batch_size_divisor': {\n",
    "            'values': [1]\n",
    "        },\n",
    "        'optimizer': {\n",
    "            'values': ['Nadam', 'Adam', 'RMSprop']\n",
    "        },\n",
    "        'learning_rate': {\n",
    "            'min': 0.0001,\n",
    "            'max': 0.001\n",
    "        },\n",
    "        'epochs': {\n",
    "            'values': [6]\n",
    "        }\n",
    "    }\n",
    "}\n",
    "\n",
    "sweep_id = wandb.sweep(sweep_config)\n",
    "\n",
    "wandb.agent(sweep_id, function=train, count=8)"
   ]
  },
  {
   "cell_type": "markdown",
   "id": "a7600d76",
   "metadata": {},
   "source": [
    "### Sweep report\n",
    "The sweep report can be found at: https://api.wandb.ai/links/xkretinin/c8n50e3j"
   ]
  },
  {
   "cell_type": "code",
   "execution_count": 12,
   "id": "d7e4e032",
   "metadata": {},
   "outputs": [
    {
     "name": "stderr",
     "output_type": "stream",
     "text": [
      "\u001b[34m\u001b[1mwandb\u001b[0m: Sorting runs by -summary_metrics.val_accuracy\n",
      "\u001b[34m\u001b[1mwandb\u001b[0m: Sorting runs by -summary_metrics.val_accuracy\n"
     ]
    },
    {
     "name": "stdout",
     "output_type": "stream",
     "text": [
      "Best run config:\n",
      "{'epochs': 6, 'dropout': 0.3, 'optimizer': 'RMSprop', 'learning_rate': 0.000559352070120936, 'batch_size_divisor': 1}\n",
      "Validation accuracy: 0.9918155074119568\n"
     ]
    }
   ],
   "source": [
    "sweep_obj = wandb.Api().sweep('xkretinin/uncategorized/sweeps/' + sweep_id)\n",
    "best_config = sweep_obj.best_run().config\n",
    "\n",
    "print(\"Best run config:\")\n",
    "print(best_config)\n",
    "print(f\"Validation accuracy: {sweep_obj.best_run().summary['val_accuracy']}\")"
   ]
  },
  {
   "cell_type": "markdown",
   "id": "129b5d58",
   "metadata": {},
   "source": [
    "## Testing the best model"
   ]
  },
  {
   "cell_type": "code",
   "execution_count": 25,
   "id": "2e665628",
   "metadata": {
    "scrolled": true
   },
   "outputs": [
    {
     "name": "stdout",
     "output_type": "stream",
     "text": [
      "Model: \"model_2\"\n",
      "_________________________________________________________________\n",
      " Layer (type)                Output Shape              Param #   \n",
      "=================================================================\n",
      " input_3 (InputLayer)        [(None, 104)]             0         \n",
      "                                                                 \n",
      " embedding_2 (Embedding)     (None, 104, 100)          3517900   \n",
      "                                                                 \n",
      " bidirectional_4 (Bidirectio  (None, 104, 200)         160800    \n",
      " nal)                                                            \n",
      "                                                                 \n",
      " dropout_2 (Dropout)         (None, 104, 200)          0         \n",
      "                                                                 \n",
      " bidirectional_5 (Bidirectio  (None, 104, 200)         240800    \n",
      " nal)                                                            \n",
      "                                                                 \n",
      " time_distributed_4 (TimeDis  (None, 104, 68)          13668     \n",
      " tributed)                                                       \n",
      "                                                                 \n",
      " time_distributed_5 (TimeDis  (None, 104, 34)          2346      \n",
      " tributed)                                                       \n",
      "                                                                 \n",
      " dense_8 (Dense)             (None, 104, 17)           595       \n",
      "                                                                 \n",
      "=================================================================\n",
      "Total params: 3,936,109\n",
      "Trainable params: 3,936,109\n",
      "Non-trainable params: 0\n",
      "_________________________________________________________________\n",
      "Epoch 1/5\n",
      "333/333 [==============================] - 28s 71ms/step - loss: 0.1517 - accuracy: 0.9670 - val_loss: 0.0681 - val_accuracy: 0.9779\n",
      "Epoch 2/5\n",
      "333/333 [==============================] - 23s 68ms/step - loss: 0.0483 - accuracy: 0.9862 - val_loss: 0.0440 - val_accuracy: 0.9875\n",
      "Epoch 3/5\n",
      "333/333 [==============================] - 23s 70ms/step - loss: 0.0349 - accuracy: 0.9899 - val_loss: 0.0350 - val_accuracy: 0.9896\n",
      "Epoch 4/5\n",
      "333/333 [==============================] - 23s 70ms/step - loss: 0.0272 - accuracy: 0.9921 - val_loss: 0.0340 - val_accuracy: 0.9906\n",
      "Epoch 5/5\n",
      "333/333 [==============================] - 23s 70ms/step - loss: 0.0230 - accuracy: 0.9933 - val_loss: 0.0330 - val_accuracy: 0.9909\n"
     ]
    }
   ],
   "source": [
    "model = build_model(best_config['dropout'], best_config['optimizer'], best_config['learning_rate'])\n",
    "history = model.fit(\n",
    "            x=x_train,\n",
    "            y=y_train,\n",
    "            validation_split=0.1,\n",
    "            batch_size=int(max_len/best_config['batch_size_divisor']),\n",
    "            epochs=best_config['epochs'],\n",
    "            verbose=1,\n",
    "            callbacks=[\n",
    "                early_stop\n",
    "            ]\n",
    "        )"
   ]
  },
  {
   "cell_type": "code",
   "execution_count": 26,
   "id": "3e00a0c8",
   "metadata": {},
   "outputs": [],
   "source": [
    "model.save('../models/model_general_lstm/model.h5')\n",
    "\n",
    "with open('../models/model_general_lstm/history.pickle', 'wb') as handle:\n",
    "    pickle.dump(history.history, handle, protocol=pickle.HIGHEST_PROTOCOL)\n",
    "\n",
    "with open('../models/model_general_lstm/tags.pickle', 'wb') as handle:\n",
    "    pickle.dump(tags, handle, protocol=pickle.HIGHEST_PROTOCOL)\n",
    "\n",
    "with open('../models/model_general_lstm/words.pickle', 'wb') as handle:\n",
    "    pickle.dump(word2idx, handle, protocol=pickle.HIGHEST_PROTOCOL)"
   ]
  },
  {
   "cell_type": "code",
   "execution_count": 27,
   "id": "68dd0524",
   "metadata": {},
   "outputs": [],
   "source": [
    "idx2tag = {v: k for k, v in tag2idx.items()}\n",
    "idx2word = {i: w for w, i in word2idx.items()}"
   ]
  },
  {
   "cell_type": "code",
   "execution_count": 28,
   "id": "9a16aa03",
   "metadata": {},
   "outputs": [],
   "source": [
    "def plot_history(history):\n",
    "    plt.style.use('ggplot')\n",
    "    accuracy = history.history['accuracy']\n",
    "    val_accuracy = history.history['val_accuracy']\n",
    "    loss = history.history['loss']\n",
    "    val_loss = history.history['val_loss']\n",
    "    x = range(1, len(accuracy) + 1)\n",
    "\n",
    "    plt.figure(figsize=(12, 5))\n",
    "    plt.subplot(1, 2, 1)\n",
    "    plt.plot(x, accuracy, 'b', label='Training acc')\n",
    "    plt.plot(x, val_accuracy, 'r', label='Validation acc')\n",
    "    plt.title('Training and validation accuracy')\n",
    "    plt.xlabel('Epoch')\n",
    "    plt.legend()\n",
    "    plt.subplot(1, 2, 2)\n",
    "    plt.plot(x, loss, 'b', label='Training loss')\n",
    "    plt.plot(x, val_loss, 'r', label='Validation loss')\n",
    "    plt.title('Training and validation loss')\n",
    "    plt.xlabel('Epoch')\n",
    "    plt.legend()\n",
    "    plt.show()"
   ]
  },
  {
   "cell_type": "markdown",
   "id": "90eee5ce",
   "metadata": {},
   "source": [
    "As can be seen from the plots below, the model has managed to achieve ~92% accuracy on a validation dataset.\n",
    "\n",
    "After conducted experiments we've found out that ~92% of accuracy is a limit for this dataset, since part of it seems to be annotated by another NER model (or some other ML/AI model). Therefore, it creates inconsistent relations between words, which lower the model's quality (loss and accuracy matrics value)."
   ]
  },
  {
   "cell_type": "code",
   "execution_count": 29,
   "id": "b43da323",
   "metadata": {},
   "outputs": [
    {
     "data": {
      "image/png": "[encoded data removed]",
      "text/plain": [
       "<Figure size 1200x500 with 2 Axes>"
      ]
     },
     "metadata": {},
     "output_type": "display_data"
    }
   ],
   "source": [
    "plot_history(history)"
   ]
  },
  {
   "cell_type": "code",
   "execution_count": 30,
   "id": "330798fa",
   "metadata": {},
   "outputs": [
    {
     "name": "stdout",
     "output_type": "stream",
     "text": [
      "1/1 [==============================] - 1s 1s/step\n",
      "Word           True \t Pred\n",
      "\n",
      "------------------------------\n",
      "President      B-per\tB-per\n",
      "Bush           I-per\tI-per\n",
      "has            O\tO\n",
      "not            O\tO\n",
      "ruled          O\tO\n",
      "out            O\tO\n",
      "the            O\tO\n",
      "possibility    O\tO\n",
      ",              O\tO\n",
      "but            O\tO\n",
      "Vice           O\tB-per\n",
      "President      B-per\tB-per\n",
      "Dick           I-per\tI-per\n",
      "Cheney         I-per\tI-per\n",
      "said           O\tO\n",
      "last           O\tO\n",
      "week           O\tO\n",
      "there          O\tO\n",
      "are            O\tO\n",
      "no             O\tO\n",
      "plans          O\tO\n",
      "to             O\tO\n",
      "shut           O\tO\n",
      "it             O\tO\n",
      "down           O\tO\n",
      ".              O\tO\n",
      "----------------------------\n",
      "1/1 [==============================] - 0s 44ms/step\n",
      "Word           True \t Pred\n",
      "\n",
      "------------------------------\n",
      "Dr.            B-per\tB-per\n",
      "Besigye        I-per\tI-per\n",
      "still          O\tO\n",
      "faces          O\tO\n",
      "civilian       O\tO\n",
      "charges        O\tO\n",
      "of             O\tO\n",
      "rape           O\tO\n",
      "and            O\tO\n",
      "treason        O\tO\n",
      ".              O\tO\n",
      "----------------------------\n",
      "1/1 [==============================] - 0s 40ms/step\n",
      "Word           True \t Pred\n",
      "\n",
      "------------------------------\n",
      "The            O\tO\n",
      "money          O\tO\n",
      "will           O\tO\n",
      "be             O\tO\n",
      "used           O\tO\n",
      "to             O\tO\n",
      "upgrade        O\tO\n",
      "or             O\tO\n",
      "build          O\tO\n",
      "more           O\tO\n",
      "than           O\tO\n",
      "half           O\tO\n",
      "of             O\tO\n",
      "the            O\tO\n",
      "828-kilometer  O\tO\n",
      "Jixi-Nehe      O\tO\n",
      "highway        O\tO\n",
      ",              O\tO\n",
      "located        O\tO\n",
      "in             O\tO\n",
      "the            O\tO\n",
      "province       O\tO\n",
      "of             O\tO\n",
      "Heilongjiang   B-geo\tB-geo\n",
      ",              O\tO\n",
      "bordered       O\tO\n",
      "by             O\tO\n",
      "Russia         B-geo\tB-geo\n",
      "on             O\tO\n",
      "the            O\tO\n",
      "north          O\tO\n",
      "and            O\tO\n",
      "North          B-geo\tB-geo\n",
      "Korea          I-geo\tI-geo\n",
      "on             O\tO\n",
      "the            O\tO\n",
      "east           O\tO\n",
      ".              O\tO\n",
      "----------------------------\n"
     ]
    }
   ],
   "source": [
    "for i in range(3):\n",
    "    p = model.predict(np.array([x_test[i]]))\n",
    "    p = np.argmax(p, axis=-1)\n",
    "    y_true = y_test[i]\n",
    "    print(\"{:15}{:5}\\t {}\\n\".format(\"Word\", \"True\", \"Pred\"))\n",
    "    print(\"-\" * 30)\n",
    "    for w, true, pred in zip(x_test[i], y_true, p[0]):\n",
    "        if words[w] == \"ENDPAD\":\n",
    "            break\n",
    "        print(\"{:15}{}\\t{}\".format(words[w], tags[true], tags[pred]))\n",
    "    print(\"----------------------------\")"
   ]
  },
  {
   "cell_type": "code",
   "execution_count": null,
   "id": "fe826dda",
   "metadata": {},
   "outputs": [],
   "source": []
  }
 ],
 "metadata": {
  "kernelspec": {
   "display_name": "Python 3",
   "language": "python",
   "name": "python3"
  },
  "language_info": {
   "codemirror_mode": {
    "name": "ipython",
    "version": 3
   },
   "file_extension": ".py",
   "mimetype": "text/x-python",
   "name": "python",
   "nbconvert_exporter": "python",
   "pygments_lexer": "ipython3",
   "version": "3.9.16"
  }
 },
 "nbformat": 4,
 "nbformat_minor": 5
}
