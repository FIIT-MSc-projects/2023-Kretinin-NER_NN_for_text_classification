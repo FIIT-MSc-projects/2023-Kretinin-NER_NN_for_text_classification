{
 "cells": [
  {
   "cell_type": "code",
   "execution_count": 1,
   "id": "10fff8ef",
   "metadata": {},
   "outputs": [],
   "source": [
    "import spacy\n",
    "import gensim\n",
    "from gensim.corpora import Dictionary\n",
    "from gensim.models import LdaModel, CoherenceModel, Nmf\n",
    "from gensim.utils import simple_preprocess\n",
    "import zipfile\n",
    "import pickle\n",
    "from tensorflow import keras\n",
    "from keras.models import load_model\n",
    "import numpy as np\n",
    "import re\n",
    "from tensorflow.keras import layers\n",
    "from nltk.corpus import stopwords\n",
    "import nltk\n",
    "import tqdm\n",
    "import pyLDAvis.gensim_models\n",
    "import matplotlib.pyplot as plt\n",
    "from contextualized_topic_models.utils.preprocessing import WhiteSpacePreprocessingStopwords\n",
    "import copy\n",
    "\n",
    "# WIP code part\n",
    "import warnings\n",
    "warnings.filterwarnings(\"ignore\", category=DeprecationWarning) \n",
    "\n",
    "# nltk.download('en_core_web_sm')\n",
    "# nltk.download('stopwords')\n",
    "\n",
    "# load the pre-trained English language model\n",
    "nlp = spacy.load('en_core_web_sm')\n",
    "\n",
    "custom_stopwords = set(stopwords.words(\"english\"))\n",
    "custom_stopwords = custom_stopwords.union({\"reuters\", \"bbc\"})"
   ]
  },
  {
   "cell_type": "code",
   "execution_count": 2,
   "id": "1186c913",
   "metadata": {},
   "outputs": [],
   "source": [
    "# The same one as in the test_environment.py\n",
    "def progress_bar(iteration, total):\n",
    "    total_len = 100\n",
    "    percent_part = (\"{0:.2f}\").format(100 * (iteration / total))\n",
    "    filled = int(total_len * iteration / total)\n",
    "    bar = '█' * filled + '-' * (total_len - filled)\n",
    "    print(f'\\r Progress: [{bar}] {percent_part}%', end='')\n",
    "    if iteration == total:\n",
    "        print()"
   ]
  },
  {
   "cell_type": "markdown",
   "id": "65d4150b",
   "metadata": {},
   "source": [
    "## NER functions and architecture (transformer)"
   ]
  },
  {
   "cell_type": "code",
   "execution_count": 3,
   "id": "b2d668ca",
   "metadata": {},
   "outputs": [],
   "source": [
    "class MultiHeadSelfAttention(layers.Layer):\n",
    "    def __init__(self, embed_dim, num_heads):\n",
    "        super(MultiHeadSelfAttention, self).__init__()\n",
    "        self.embed_dim = embed_dim\n",
    "        self.num_heads = num_heads\n",
    "        self.head_dim = embed_dim // num_heads\n",
    "\n",
    "        self.query_dense = layers.Dense(embed_dim)\n",
    "        self.key_dense = layers.Dense(embed_dim)\n",
    "        self.value_dense = layers.Dense(embed_dim)\n",
    "        self.combine_heads = layers.Dense(embed_dim)\n",
    "\n",
    "    def call(self, inputs):\n",
    "        batch_size = tf.shape(inputs)[0]\n",
    "\n",
    "        query = self.query_dense(inputs)\n",
    "        key = self.key_dense(inputs)\n",
    "        value = self.value_dense(inputs)\n",
    "\n",
    "        query = tf.reshape(\n",
    "            tf.transpose(tf.reshape(query, (batch_size, -1, self.num_heads, self.head_dim)), perm=[0, 2, 1, 3]),\n",
    "            (batch_size * self.num_heads, -1, self.head_dim),\n",
    "        )\n",
    "        key = tf.reshape(\n",
    "            tf.transpose(tf.reshape(key, (batch_size, -1, self.num_heads, self.head_dim)), perm=[0, 2, 1, 3]),\n",
    "            (batch_size * self.num_heads, -1, self.head_dim),\n",
    "        )\n",
    "        value = tf.reshape(\n",
    "            tf.transpose(tf.reshape(value, (batch_size, -1, self.num_heads, self.head_dim)), perm=[0, 2, 1, 3]),\n",
    "            (batch_size * self.num_heads, -1, self.head_dim),\n",
    "        )\n",
    "\n",
    "        attention_logits = tf.matmul(query, key, transpose_b=True)\n",
    "        attention_logits = attention_logits / tf.math.sqrt(tf.cast(self.head_dim, tf.float32))\n",
    "        attention_weights = tf.nn.softmax(attention_logits, axis=-1)\n",
    "\n",
    "        output = tf.matmul(attention_weights, value)\n",
    "        output = tf.reshape(\n",
    "            tf.transpose(tf.reshape(output, (batch_size, self.num_heads, -1, self.head_dim)), perm=[0, 2, 1, 3]),\n",
    "            (batch_size, -1, self.embed_dim),\n",
    "        )\n",
    "        output = self.combine_heads(output)\n",
    "        return output"
   ]
  },
  {
   "cell_type": "code",
   "execution_count": 4,
   "id": "e1518912",
   "metadata": {},
   "outputs": [],
   "source": [
    "class TransformerBlock(layers.Layer):\n",
    "    def __init__(self, embed_dim, num_heads, ff_dim, rate=0.1):\n",
    "        super().__init__()\n",
    "\n",
    "        self.att = MultiHeadSelfAttention(embed_dim, num_heads)\n",
    "        self.ffn = keras.Sequential(\n",
    "            [\n",
    "                keras.layers.Dense(ff_dim, activation=\"relu\"),\n",
    "                keras.layers.Dense(embed_dim),\n",
    "            ]\n",
    "        )\n",
    "        self.layernorm1 = keras.layers.LayerNormalization(epsilon=1e-6)\n",
    "        self.layernorm2 = keras.layers.LayerNormalization(epsilon=1e-6)\n",
    "        self.dropout1 = keras.layers.Dropout(rate)\n",
    "        self.dropout2 = keras.layers.Dropout(rate)\n",
    "\n",
    "    def call(self, inputs, training=False):\n",
    "        attn_output = self.att(inputs)\n",
    "        attn_output = self.dropout1(attn_output)\n",
    "        ffn_output = self.ffn(attn_output)\n",
    "        ffn_output = self.dropout2(ffn_output)\n",
    "        return self.layernorm2(inputs + ffn_output)"
   ]
  },
  {
   "cell_type": "code",
   "execution_count": 5,
   "id": "b82328b9",
   "metadata": {},
   "outputs": [],
   "source": [
    "class TokenAndPositionEmbedding(layers.Layer):\n",
    "    def __init__(self, maxlen, vocab_size, embed_dim):\n",
    "        super().__init__()\n",
    "        self.token_emb = keras.layers.Embedding(\n",
    "            input_dim=vocab_size, output_dim=embed_dim\n",
    "        )\n",
    "        self.pos_emb = keras.layers.Embedding(input_dim=maxlen, output_dim=embed_dim)\n",
    "\n",
    "    def call(self, inputs):\n",
    "        maxlen = tf.shape(inputs)[-1]\n",
    "        positions = tf.range(start=0, limit=maxlen, delta=1)\n",
    "        position_embeddings = self.pos_emb(positions)\n",
    "        token_embeddings = self.token_emb(inputs)\n",
    "        return token_embeddings + position_embeddings"
   ]
  },
  {
   "cell_type": "code",
   "execution_count": 6,
   "id": "38f80fae",
   "metadata": {},
   "outputs": [],
   "source": [
    "class NERModel(keras.Model):\n",
    "    def __init__(\n",
    "        self, num_tags, vocab_size, maxlen=128, embed_dim=32, num_heads=2, ff_dim=32, num_layers=1, rate=0.1\n",
    "    ):\n",
    "        super().__init__()\n",
    "        self.embedding_layer = TokenAndPositionEmbedding(maxlen, vocab_size, embed_dim)\n",
    "#         self.transformer_block = TransformerBlock(embed_dim, num_heads, ff_dim)\n",
    "        self.transformer_blocks = [TransformerBlock(embed_dim, num_heads, ff_dim, rate) for _ in range(num_layers)]\n",
    "        self.dropout1 = layers.Dropout(0.1)\n",
    "        self.ff = layers.Dense(ff_dim, activation=\"relu\")\n",
    "        self.ff_final = layers.Dense(num_tags, activation=\"softmax\")\n",
    "\n",
    "    def call(self, inputs, training=False):\n",
    "        x = self.embedding_layer(inputs)\n",
    "        for transformer_block in self.transformer_blocks:\n",
    "            x = transformer_block(x)\n",
    "        x = self.dropout1(x, training=training)\n",
    "        x = self.ff(x)\n",
    "        x = self.ff_final(x)\n",
    "        return x"
   ]
  },
  {
   "cell_type": "code",
   "execution_count": 7,
   "id": "9a72977e",
   "metadata": {},
   "outputs": [],
   "source": [
    "# ner_model_mode: model we want to use\n",
    "#     - specific_lstm: BiLSTM model trained on CORD19 data\n",
    "#     - general_lstm: BiLSTM model trained on general (topics) data\n",
    "#     - specific_transformer: Transformer-based model trained on CORD19 data\n",
    "#     - general_transformer:Transformer-based model trained on general (topics) data\n",
    "def load_ner(ner_model_mode):\n",
    "    if ner_model_mode == \"specific_lstm\":\n",
    "        pass\n",
    "    elif ner_model_mode == \"general_lstm\":\n",
    "        pass\n",
    "    elif ner_model_mode == \"specific_transformer\":\n",
    "        model = keras.models.load_model('../models/model_cord_transformer/model.tf')\n",
    "\n",
    "        with open('../models/model_cord_transformer/maxlen.pickle', 'rb') as handle:\n",
    "            max_len = pickle.load(handle)\n",
    "\n",
    "        with open('../models/model_cord_transformer/tags.pickle', 'rb') as handle:\n",
    "            tags = pickle.load(handle)\n",
    "\n",
    "        with open('../models/model_cord_transformer/words.pickle', 'rb') as handle:\n",
    "            word2idx = pickle.load(handle)\n",
    "        \n",
    "        return model, tags, word2idx, max_len\n",
    "    elif ner_model_mode == \"general_transformer\":\n",
    "        model = keras.models.load_model('../models/model_general_transformer/model.tf')\n",
    "\n",
    "        with open('../models/model_general_transformer/maxlen.pickle', 'rb') as handle:\n",
    "            max_len = pickle.load(handle)\n",
    "\n",
    "        with open('../models/model_general_transformer/tags.pickle', 'rb') as handle:\n",
    "            tags = pickle.load(handle)\n",
    "\n",
    "        with open('../models/model_general_transformer/words.pickle', 'rb') as handle:\n",
    "            word2idx = pickle.load(handle)\n",
    "        \n",
    "        return model, tags, word2idx, max_len\n",
    "    else:\n",
    "        return None, None, None, None"
   ]
  },
  {
   "cell_type": "code",
   "execution_count": 8,
   "id": "4ca0d179",
   "metadata": {},
   "outputs": [],
   "source": [
    "def ner_words2idx(text, word2idx, max_len, endpad_idx):\n",
    "    # Convert the tokens to integer IDs using the word2id dictionary\n",
    "    idxs = []\n",
    "    array = []\n",
    "    for token in text:\n",
    "        if token in word2idx.keys():\n",
    "            array.append(word2idx[token])\n",
    "        else:\n",
    "            array.append(0)\n",
    "\n",
    "    while len(array) < max_len:\n",
    "        array.append(endpad_idx)\n",
    "    idxs.append(array)\n",
    "\n",
    "    return idxs"
   ]
  },
  {
   "cell_type": "markdown",
   "id": "74084610",
   "metadata": {},
   "source": [
    "## Functions"
   ]
  },
  {
   "cell_type": "code",
   "execution_count": 9,
   "id": "1918dfb1",
   "metadata": {},
   "outputs": [],
   "source": [
    "# documents will be split into sentences for easier processing\n",
    "def process_file(file, filename, texts):\n",
    "    content = file.read(filename)\n",
    "    if type(content) == bytes:\n",
    "        text = content.decode('utf-8')\n",
    "        sentences = nltk.sent_tokenize(text)\n",
    "        for sentence in sentences:\n",
    "            texts.append(sentence)\n",
    "\n",
    "    if len(content.strip()) == 0:\n",
    "        print(\"No text was found\")\n",
    "        return"
   ]
  },
  {
   "cell_type": "code",
   "execution_count": 10,
   "id": "46cd9cd3",
   "metadata": {},
   "outputs": [],
   "source": [
    "def process_docs(docs):\n",
    "    # simple preprocessing that removes stopwords and punctuation\n",
    "    sp = WhiteSpacePreprocessingStopwords(docs, min_words=3, stopwords_list=custom_stopwords)\n",
    "\n",
    "    # this function returns the pre and the unpre processed documents and a vocab with the most frequent 2K tokens\n",
    "    # these tokens are going to be used to represent the topics\n",
    "    preprocessed_documents, unpreprocessed_documents, vocab, retained_indices = sp.preprocess() \n",
    "    return preprocessed_documents, vocab, retained_indices"
   ]
  },
  {
   "cell_type": "code",
   "execution_count": 11,
   "id": "3d46d7fc",
   "metadata": {},
   "outputs": [],
   "source": [
    "def extract_named_entities(texts, model, tags, word2idx, max_len, ignored_entities, max_texts):\n",
    "    # init variables\n",
    "    ents = []\n",
    "    labels = []\n",
    "    idxs = []\n",
    "    \n",
    "    if ignored_entities:\n",
    "        pattern_string = \".*-(\" + \"|\".join(ignored_entities) + \")|Other|O\"\n",
    "    else:\n",
    "        pattern_string = \"Other|O\"\n",
    "    pattern = re.compile(pattern_string)\n",
    "    endpad_idx = word2idx['endpad']\n",
    "    \n",
    "    for text in texts[:max_texts]:\n",
    "        # transform words to idx to be processed by NER \n",
    "        idxs.append(ner_words2idx(text, word2idx, max_len, endpad_idx)[0])\n",
    "\n",
    "    # predict label, and add to the found entities list\n",
    "    p = model.predict(np.array(idxs), verbose=0)\n",
    "    p = np.argmax(p, axis=-1)\n",
    "    for text_idx, text in enumerate(texts[0:max_texts]):\n",
    "        for idx, pred in enumerate(p[text_idx][0:max_texts]):\n",
    "            # add named entity to the entities list if is not endpad and is not ignored\n",
    "            if not pattern.match(tags[pred]):\n",
    "                ents.append(text[idx].lower())\n",
    "                labels.append(tags[pred])\n",
    "        \n",
    "#     ents = remove_stopwords(ents)\n",
    "    return ents, labels"
   ]
  },
  {
   "cell_type": "code",
   "execution_count": 12,
   "id": "043a2fa0",
   "metadata": {},
   "outputs": [],
   "source": [
    "def create_named_entity_clusters(entities, labels):\n",
    "    \n",
    "    # removes 'B-' and 'I-' prefix from entity labels\n",
    "    def remove_prefix(label):\n",
    "        return label.split('-')[-1]\n",
    "\n",
    "    entity_clusters = {}\n",
    "    for entity, label in zip(entities, labels):\n",
    "        if (general_label := remove_prefix(label)) in entity_clusters.keys():\n",
    "            entity_clusters[general_label].append(entity)\n",
    "        else:\n",
    "            entity_clusters[general_label] = [entity]\n",
    "    \n",
    "    # delete small clusters with less than 10 words\n",
    "    for key in entity_clusters.keys():\n",
    "        if len(entity_clusters[key]) < 10:\n",
    "            entity_clusters[key] = []\n",
    "            \n",
    "    return entity_clusters"
   ]
  },
  {
   "cell_type": "code",
   "execution_count": 13,
   "id": "452abc67",
   "metadata": {},
   "outputs": [],
   "source": [
    "def preprocess_files_from_zip(arch_path, ner_model_mode, ignored_entities=[], max_texts=0):\n",
    "    texts = []\n",
    "    \n",
    "    with zipfile.ZipFile(arch_path, \"r\") as f:\n",
    "        total_f = len(f.namelist())\n",
    "        counter = 1\n",
    "        for filename in f.namelist():\n",
    "            counter += 1\n",
    "            process_file(f, filename, texts)\n",
    "        f.close()\n",
    "        \n",
    "    if texts:\n",
    "        processed_docs, vocab, idxs = process_docs(texts)\n",
    "        tokenized_docs = [nltk.word_tokenize(sentence) for sentence in processed_docs]\n",
    "        # limit observed documents if number is provided as argument\n",
    "        max_texts = len(tokenized_docs) if not max_texts else max_texts\n",
    "        ner, tags, word2idx, max_len = load_ner(ner_model_mode)\n",
    "        # change keys in the NER dictionary to lowercase\n",
    "        word2idx_lowercase = {key.lower(): value for key, value in word2idx.items() if type(key) == str}\n",
    "        if ner:\n",
    "            ents, labels = extract_named_entities(tokenized_docs, ner, tags, word2idx_lowercase, max_len, ignored_entities, max_texts)\n",
    "            \n",
    "            # create a dictionary mapping named entities to integer ids\n",
    "            dictionary = Dictionary(tokenized_docs)\n",
    "\n",
    "            # create a document-term matrix where each document is a text and each term is a named entity\n",
    "            corpus = [dictionary.doc2bow(text) for text in tokenized_docs[:max_texts]]\n",
    "            \n",
    "            # create named entity clusters\n",
    "            entity_clusters = create_named_entity_clusters(ents, labels)\n",
    "            \n",
    "        return corpus, dictionary, entity_clusters"
   ]
  },
  {
   "cell_type": "markdown",
   "id": "b1d5ab9b",
   "metadata": {},
   "source": [
    "## Experiments"
   ]
  },
  {
   "cell_type": "code",
   "execution_count": 14,
   "id": "d4bac42d",
   "metadata": {},
   "outputs": [],
   "source": [
    "# Data available:\n",
    "#     - articles_2021-11-05_1000.zip\n",
    "#     - articles_2023-02-09_1000.zip\n",
    "#     - articles_2023-02-04_500.zip\n",
    "ignored_labels = [\"MONEY\", \"QUANTITY\", \"PERCENT\", \"ORDINAL\", \"DATE\", \"TIME\",  \"CARDINAL\"]\n",
    "\n",
    "corpus, dictionary, entity_clusters = preprocess_files_from_zip(\n",
    "    \"../data/articles_2021-11-05_1000.zip\", \n",
    "    \"general_transformer\", \n",
    "    ignored_labels,\n",
    "    3000\n",
    ")"
   ]
  },
  {
   "cell_type": "code",
   "execution_count": 15,
   "id": "846988f2",
   "metadata": {},
   "outputs": [
    {
     "data": {
      "text/plain": [
       "5"
      ]
     },
     "execution_count": 15,
     "metadata": {},
     "output_type": "execute_result"
    }
   ],
   "source": [
    "len(entity_clusters.keys())"
   ]
  },
  {
   "cell_type": "code",
   "execution_count": 16,
   "id": "848bec24",
   "metadata": {},
   "outputs": [
    {
     "name": "stdout",
     "output_type": "stream",
     "text": [
      "multiplier per label: 0.1\n",
      "3000 4500\n"
     ]
    }
   ],
   "source": [
    "# create artificial documents from named entities and add them to corpus\n",
    "corpus_extended = copy.deepcopy(corpus)\n",
    "corpus_len = len(corpus)\n",
    "\n",
    "# coefficient used to determine number of artificial articles per label relative to the size of corpus (number of texts)\n",
    "multiplication_coef = 0.5/len(entity_clusters.keys())\n",
    "print(\"multiplier per label: \" + str(multiplication_coef))\n",
    "\n",
    "# add named entities to dictionary and corpus\n",
    "for entity_type, entities in entity_clusters.items():\n",
    "    if len(entities) > 5:\n",
    "        processed_ents = [entity.lower() for entity in set(entities)]\n",
    "        new_doc = [dictionary.doc2bow(simple_preprocess(entity)) for entity in processed_ents]\n",
    "        new_doc = [item for entity in new_doc for item in entity]\n",
    "        for i in range(int(corpus_len*multiplication_coef)):\n",
    "            corpus_extended.append(new_doc)\n",
    "\n",
    "print(len(corpus), len(corpus_extended))"
   ]
  },
  {
   "cell_type": "markdown",
   "id": "4621eaa9",
   "metadata": {},
   "source": [
    "## LDA and NMF"
   ]
  },
  {
   "cell_type": "code",
   "execution_count": 17,
   "id": "40239f2a",
   "metadata": {},
   "outputs": [],
   "source": [
    "def train_lda(corpus, num_topics):\n",
    "    # Create the LDA model\n",
    "    lda_model = gensim.models.ldamulticore.LdaMulticore(corpus=corpus,\n",
    "                                id2word=dictionary,\n",
    "                                num_topics=num_topics,\n",
    "                                workers=19,\n",
    "                                random_state=100,\n",
    "                                chunksize=100,\n",
    "                                passes=10,\n",
    "                                iterations=200,\n",
    "                                alpha='symmetric',\n",
    "                                per_word_topics=False\n",
    "                                )\n",
    "    return lda_model"
   ]
  },
  {
   "cell_type": "code",
   "execution_count": 18,
   "id": "4e6e62b9",
   "metadata": {},
   "outputs": [],
   "source": [
    "def train_nmf(corpus, num_topics):\n",
    "    # Create the NMF model\n",
    "    nmf_model = Nmf(corpus=corpus,\n",
    "                    id2word=dictionary,\n",
    "                    num_topics=num_topics,\n",
    "                    random_state=100,\n",
    "                    chunksize=100,\n",
    "                    passes=10,\n",
    "                    normalize=True\n",
    "                    )\n",
    "    return nmf_model"
   ]
  },
  {
   "cell_type": "code",
   "execution_count": 19,
   "id": "045fbe4f",
   "metadata": {},
   "outputs": [],
   "source": [
    "from scipy.spatial import distance\n",
    "\n",
    "def calc_hausdorff_distance(model):\n",
    "    num_topics = model.num_topics\n",
    "    hd_matrix = np.zeros((num_topics, num_topics))  # Initialize a matrix to store HD values\n",
    "    \n",
    "    for i in range(num_topics):\n",
    "        for j in range(i+1, num_topics):\n",
    "            # extract topic distributions for topics i and j\n",
    "            topic_i_dist = np.array([[p] for _, p in model.get_topic_terms(i)])\n",
    "            topic_j_dist = np.array([[p] for _, p in model.get_topic_terms(j)])\n",
    "\n",
    "            # compute asymmetric Hausdorff distance (HD) by saving the biggest of the two\n",
    "            hd = max(distance.directed_hausdorff(topic_i_dist, topic_j_dist), \n",
    "                      distance.directed_hausdorff(topic_j_dist, topic_i_dist))\n",
    "\n",
    "            hd_matrix[i, j] = hd[0]\n",
    "\n",
    "    return np.mean(hd_matrix)"
   ]
  },
  {
   "cell_type": "code",
   "execution_count": 20,
   "id": "99a9f021",
   "metadata": {},
   "outputs": [],
   "source": [
    "from scipy.spatial.distance import jensenshannon\n",
    "\n",
    "def calc_jansen_shannon_divergence(model):\n",
    "    num_topics = model.num_topics\n",
    "    js_matrix = np.zeros((num_topics, num_topics))  # Initialize a matrix to store JS values\n",
    "    \n",
    "    for i in range(num_topics):\n",
    "        for j in range(i+1, num_topics):\n",
    "            # extract topic distributions for topics i and j\n",
    "            topic_i_dist = np.array([[p] for _, p in model.get_topic_terms(i)])\n",
    "            topic_j_dist = np.array([[p] for _, p in model.get_topic_terms(j)])\n",
    "\n",
    "            js_divergence = jensenshannon(topic_i_dist, topic_j_dist)\n",
    "\n",
    "            js_matrix[i, j] = js_divergence\n",
    "\n",
    "    return np.mean(js_matrix)"
   ]
  },
  {
   "cell_type": "code",
   "execution_count": 21,
   "id": "2e729e20",
   "metadata": {},
   "outputs": [],
   "source": [
    "from sklearn.metrics.pairwise import cosine_similarity\n",
    "\n",
    "def calculate_tus(model):\n",
    "    \"\"\"\n",
    "    Calculate Topic Uniqueness Score (TUS) for each topic in a given LDA model.\n",
    "    Returns an array of TUS scores and a mean TUS score for a model.\n",
    "    The lower TUS score means that topics are less similar <-> more unique.\n",
    "    \"\"\"\n",
    "    words_num = len(model.id2word)\n",
    "#     words_num = 1800\n",
    "    num_topics = model.num_topics\n",
    "    word_probs = np.zeros((num_topics, words_num))\n",
    "    for topic_id in range(num_topics):\n",
    "        word_probs[topic_id, :] = np.array([p for _, p in model.get_topic_terms(topic_id, words_num)])\n",
    "    \n",
    "    similarities = cosine_similarity(word_probs)\n",
    "    np.fill_diagonal(similarities, 0) # set diagonal to 0 so a topic is not compared with itself\n",
    "    tus_scores = np.mean(similarities, axis=1)\n",
    "    tus_mean = np.mean(tus_scores)\n",
    "    return tus_scores, tus_mean"
   ]
  },
  {
   "cell_type": "code",
   "execution_count": 22,
   "id": "94b1b600",
   "metadata": {},
   "outputs": [
    {
     "name": "stdout",
     "output_type": "stream",
     "text": [
      " Progress: [████████████████████████████████████████████████████████████████████████████████████████████████████] 100.00%\n"
     ]
    }
   ],
   "source": [
    "results = {'tus': {}, 'js': {}}\n",
    "corpuses = {\"classic corpus\": corpus, \"extended corpus\": corpus_extended}\n",
    "num_topics_arr = [5, 10, 15, 20]\n",
    "\n",
    "def do_test(use_lda = True):\n",
    "    total_iter = len(corpuses) * len(num_topics_arr)\n",
    "    curr_iter = 1\n",
    "    for key in corpuses:\n",
    "        results['tus'][key] = {}\n",
    "        results['js'][key] = {}\n",
    "        for num_topics in num_topics_arr:\n",
    "            progress_bar(curr_iter, total_iter)\n",
    "            if use_lda:\n",
    "                lda_model = train_lda(corpuses[key], num_topics)\n",
    "                _, score_tus = calculate_tus(lda_model)\n",
    "                score_hd = calc_hausdorff_distance(lda_model)\n",
    "                score_js = calc_jansen_shannon_divergence(lda_model)\n",
    "            else:\n",
    "                nmf_model = train_nmf(corpuses[key], num_topics)\n",
    "                _, score_tus = calculate_tus(nmf_model)\n",
    "                score_hd = calc_hausdorff_distance(nmf_model)\n",
    "                score_js = calc_jansen_shannon_divergence(nmf_model)\n",
    "            \n",
    "            results['tus'][key][str(num_topics)] = score_tus\n",
    "            results['js'][key][str(num_topics)] = score_js\n",
    "            curr_iter += 1\n",
    "\n",
    "# test_tus = True\n",
    "use_lda = False\n",
    "do_test(use_lda)"
   ]
  },
  {
   "cell_type": "raw",
   "id": "06646827",
   "metadata": {},
   "source": [
    "results"
   ]
  },
  {
   "cell_type": "markdown",
   "id": "9c3ff024",
   "metadata": {},
   "source": [
    "## Visualization"
   ]
  },
  {
   "cell_type": "code",
   "execution_count": 23,
   "id": "0fa7b74f",
   "metadata": {},
   "outputs": [
    {
     "data": {
      "image/png": "[encoded data removed]",
      "text/plain": [
       "<Figure size 432x288 with 1 Axes>"
      ]
     },
     "metadata": {
      "needs_background": "light"
     },
     "output_type": "display_data"
    }
   ],
   "source": [
    "classic_keys = list(results['tus']['classic corpus'].keys())\n",
    "extended_keys = list(results['tus']['extended corpus'].keys())\n",
    "\n",
    "classic_values = list(results['tus']['classic corpus'].values())\n",
    "extended_values = list(results['tus']['extended corpus'].values())\n",
    "\n",
    "x_values = range(len(classic_keys))\n",
    "\n",
    "bar_width = 0.3\n",
    "\n",
    "model_string = \"LDA\" if use_lda else \"NMF\"\n",
    "\n",
    "# plot the bars for the classic dictionary values\n",
    "plt.bar(x_values, classic_values, align='edge', width=-bar_width, alpha=1, label=f'Classic {model_string}')\n",
    "\n",
    "# plot the bars for the new dictionary values\n",
    "plt.bar(x_values, extended_values, align='edge', width=bar_width, alpha=1, label=f'NER + {model_string}')\n",
    "\n",
    "# set the x-axis ticks and labels\n",
    "plt.xticks(x_values, classic_keys)\n",
    "\n",
    "# add a legend to the plot\n",
    "plt.legend()\n",
    "\n",
    "Y_str = \"TUS\"\n",
    "\n",
    "# set the y-axis label\n",
    "plt.ylabel(Y_str)\n",
    "\n",
    "# set the x-axis label\n",
    "plt.xlabel('Number of topics')\n",
    "\n",
    "# show the plot\n",
    "plt.show()"
   ]
  },
  {
   "cell_type": "code",
   "execution_count": 29,
   "id": "7f0d7ebe",
   "metadata": {
    "scrolled": false
   },
   "outputs": [
    {
     "data": {
      "image/png": "[encoded data removed]",
      "text/plain": [
       "<Figure size 432x288 with 1 Axes>"
      ]
     },
     "metadata": {
      "needs_background": "light"
     },
     "output_type": "display_data"
    }
   ],
   "source": [
    "classic_keys = list(results['js']['classic corpus'].keys())\n",
    "extended_keys = list(results['js']['extended corpus'].keys())\n",
    "\n",
    "classic_values = list(results['js']['classic corpus'].values())\n",
    "extended_values = list(results['js']['extended corpus'].values())\n",
    "\n",
    "x_values = range(len(classic_keys))\n",
    "\n",
    "bar_width = 0.3\n",
    "\n",
    "model_string = \"LDA\" if use_lda else \"NMF\"\n",
    "\n",
    "# plot the bars for the classic dictionary values\n",
    "plt.bar(x_values, classic_values, align='edge', width=-bar_width, alpha=1, label=f'Classic {model_string}')\n",
    "\n",
    "# plot the bars for the new dictionary values\n",
    "plt.bar(x_values, extended_values, align='edge', width=bar_width, alpha=1, label=f'NER + {model_string}')\n",
    "\n",
    "# set the x-axis ticks and labels\n",
    "plt.xticks(x_values, classic_keys)\n",
    "\n",
    "# add a legend to the plot\n",
    "plt.legend()\n",
    "\n",
    "Y_str = \"Jensen-Shannon Divergence\" \n",
    "\n",
    "# set the y-axis label\n",
    "plt.ylabel(Y_str)\n",
    "\n",
    "# set the x-axis label\n",
    "plt.xlabel('Number of topics')\n",
    "\n",
    "# show the plot\n",
    "plt.show()"
   ]
  },
  {
   "cell_type": "code",
   "execution_count": null,
   "id": "5c852a35",
   "metadata": {},
   "outputs": [],
   "source": []
  }
 ],
 "metadata": {
  "kernelspec": {
   "display_name": "Python 3",
   "language": "python",
   "name": "python3"
  },
  "language_info": {
   "codemirror_mode": {
    "name": "ipython",
    "version": 3
   },
   "file_extension": ".py",
   "mimetype": "text/x-python",
   "name": "python",
   "nbconvert_exporter": "python",
   "pygments_lexer": "ipython3",
   "version": "3.9.16"
  }
 },
 "nbformat": 4,
 "nbformat_minor": 5
}
